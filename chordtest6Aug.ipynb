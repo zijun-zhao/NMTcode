{
 "cells": [
  {
   "cell_type": "code",
   "execution_count": 1,
   "metadata": {},
   "outputs": [
    {
     "name": "stdout",
     "output_type": "stream",
     "text": [
      "/home/penglab/anaconda3/lib/python3.7/site-packages/neuro_morpho_toolbox/\n",
      "Loading CCF Atlas data...\n",
      "Loading time: 0.93\n",
      "Loading CCF brain structure data...\n",
      "Loading time: 0.00\n",
      "Loading...\n",
      "100 loaded: 2.6s\n",
      "Invalid number of soma found: 0\n",
      "QC failed: AA0114.swc\n",
      "Invalid number of soma found: 0\n",
      "QC failed: AA0115.swc\n",
      "200 loaded: 1.9s\n",
      "300 loaded: 2.5s\n",
      "400 loaded: 2.6s\n",
      "Invalid number of soma found: 0\n",
      "QC failed: AA0472.swc\n",
      "500 loaded: 2.9s\n",
      "Invalid number of soma found: 0\n",
      "QC failed: AA0576.swc\n",
      "Invalid number of soma found: 0\n",
      "QC failed: AA0585.swc\n",
      "Invalid number of soma found: 0\n",
      "QC failed: AA0589.swc\n",
      "600 loaded: 2.7s\n",
      "Invalid number of soma found: 0\n",
      "QC failed: AA0639.swc\n",
      "Invalid number of soma found: 0\n",
      "QC failed: AA0670.swc\n",
      "Invalid number of soma found: 0\n",
      "QC failed: AA0672.swc\n",
      "700 loaded: 2.5s\n",
      "Invalid number of soma found: 0\n",
      "QC failed: AA0754.swc\n",
      "Invalid number of soma found: 0\n",
      "QC failed: AA0763.swc\n",
      "800 loaded: 2.9s\n",
      "900 loaded: 2.1s\n",
      "QC failed: AA0952.swc\n",
      "QC failed: AA0964.swc\n",
      "QC failed: AA0968.swc\n",
      "QC failed: AA0977.swc\n",
      "Finding soma locations...\n",
      "Getting projection features...\n",
      "Number of input neurons: 987\n",
      "Number of input features: 632\n",
      "Getting metadata...\n"
     ]
    }
   ],
   "source": [
    "import numpy as np\n",
    "import pandas as pd\n",
    "import seaborn as sns\n",
    "import matplotlib.pyplot as plt\n",
    "from sklearn import metrics\n",
    "%matplotlib inline\n",
    "\n",
    "import neuro_morpho_toolbox as nmt\n",
    "# ns=nmt.neuron_set('/Users/pengxie/Documents/Research/fullMorph_classification/data/registered_swc/Janelia_test/swc/Whole/')\n",
    "ns=nmt.neuron_set('/home/penglab/Documents/Janelia_1000')\n",
    "\n"
   ]
  },
  {
   "cell_type": "code",
   "execution_count": 2,
   "metadata": {},
   "outputs": [
    {
     "data": {
      "image/png": "[encoded data removed]",
      "text/plain": [
       "<Figure size 432x288 with 1 Axes>"
      ]
     },
     "metadata": {
      "needs_background": "light"
     },
     "output_type": "display_data"
    }
   ],
   "source": [
    "sf = ns.features['soma_features'].region\n",
    "ct = sf[\"Region\"].value_counts().sort_values(ascending=False)\n",
    "_ = sns.countplot(y=\"Region\", \n",
    "                  data=sf.loc[sf.Region.isin(ct.index[ct>10])],\n",
    "                 )\n",
    "_ = ns.ReduceDimUMAP(feature_set=\"projection_features\", n_neighbors=100)\n"
   ]
  },
  {
   "cell_type": "markdown",
   "metadata": {},
   "source": [
    "###  *_as is a dataframe with columns ['swc list', 'soma region', 'max soma', 'total soma', 'max axon']\n",
    "* rows are corresponding cluster"
   ]
  },
  {
   "cell_type": "code",
   "execution_count": 3,
   "metadata": {},
   "outputs": [],
   "source": [
    "hier_as = pd.read_excel('/home/penglab/Documents/dataSource/hier_as.xlsx', index_col=0)\n",
    "\n",
    "kmeans_as = pd.read_excel('/home/penglab/Documents/dataSource/kmeans_as.xlsx', index_col=0)\n",
    "\n",
    "dbscan_as = pd.read_excel('/home/penglab/Documents/dataSource/dbscan_as.xlsx', index_col=0)\n",
    "\n",
    "hdbscan_as = pd.read_excel('/home/penglab/Documents/dataSource/hdbscan_as.xlsx', index_col=0)\n",
    "\n",
    "snn_as = pd.read_excel('/home/penglab/Documents/dataSource/snn_as.xlsx', index_col=0)"
   ]
  },
  {
   "cell_type": "markdown",
   "metadata": {},
   "source": [
    "## function fromSOMAtoAXON() will return a dataframe \n",
    "* first a DataFrame will be generated, \n",
    "\n",
    "* **clusterDF** stores the information of clustering result, with columns ['swc list', 'soma region', 'max soma', 'total soma', 'max axon']\n"
   ]
  },
  {
   "cell_type": "code",
   "execution_count": 8,
   "metadata": {},
   "outputs": [],
   "source": [
    "import ast\n",
    "def fromSOMAtoAXON(clusterDF) :\n",
    "    dfname=[]\n",
    "    for cluster_idx in clusterDF.index:\n",
    "        dfname.append((str(cluster_idx) + 'DF'))\n",
    "\n",
    "    #generate a dataframe for each cluster\n",
    "    dicDF = {k:None for k in dfname}\n",
    "\n",
    "    #iterate the correponding dataframe and cluster at the same time\n",
    "    for key_iter,cluster_idx in zip(dicDF.keys(),clusterDF.index):\n",
    "        dic_soma = ast.literal_eval(clusterDF.loc[cluster_idx,'max soma'])\n",
    "        iterL = int(len(dic_soma.keys())/2)\n",
    "        somaNAME = []\n",
    "        somaCOUNT = []\n",
    "\n",
    "        for i in range(1,int(iterL)+1):\n",
    "            somaNAME.append(dic_soma[(str(i)+'somaR')])\n",
    "        for i in range(1,iterL+1):\n",
    "            somaCOUNT.append(dic_soma[str(i)+'somaC'])\n",
    "        somaArr = np.array(somaCOUNT, dtype = float)\n",
    "        somaArr = somaArr/sum(somaArr)\n",
    "        dic_axon = ast.literal_eval(clusterDF.loc[cluster_idx,'max axon'])\n",
    "        iterL = int(len(dic_axon.keys())/2)\n",
    "        axonNAME = []\n",
    "        axonCOUNT = []\n",
    "        for i in range(1,iterL+1):\n",
    "            axonNAME.append(dic_axon[(str(i)+'axonR')])\n",
    "        for i in range(1,iterL+1):\n",
    "            axonCOUNT.append(dic_axon[str(i)+'axonC']) \n",
    "\n",
    "        tempDF = pd.DataFrame()\n",
    "        for row_soma in somaNAME:\n",
    "            for col_axon,len_axon in zip(axonNAME,axonCOUNT):\n",
    "            #***************NOTE WE HAVE NOT USE somaCOUNT yet\n",
    "                tempDF.loc[row_soma, col_axon] = len_axon\n",
    "\n",
    "        assert(tempDF.shape[0] == len(somaArr))  \n",
    "        tempDF=tempDF.astype(float)\n",
    "        for i in range(tempDF.shape[0]):\n",
    "            tempDF.iloc[i,:] = tempDF.iloc[i,:]*somaArr[i].copy()\n",
    "\n",
    "        newDF = pd.DataFrame(columns=['from','to','value'],index=range(tempDF.shape[0]*tempDF.shape[1]))\n",
    "        newDF.loc[:,'from'] = (tempDF.index).tolist()*len(tempDF.columns)\n",
    "        newDF.loc[:,'to'] = [ele for ele in (tempDF.columns).tolist() for _ in range(len(tempDF.index))]\n",
    "        valuelist=[]\n",
    "        for iter_col in tempDF.columns:\n",
    "            for iter_row in tempDF.index:\n",
    "                valuelist.append(tempDF.loc[iter_row,iter_col])\n",
    "        newDF.loc[:,'value']=valuelist\n",
    "        dicDF[key_iter]= newDF.copy()\n",
    "    return dicDF"
   ]
  },
  {
   "cell_type": "code",
   "execution_count": 9,
   "metadata": {},
   "outputs": [],
   "source": [
    "dicHIER = fromSOMAtoAXON(hier_as)\n",
    "dicKMEANS = fromSOMAtoAXON(kmeans_as)\n",
    "dicDBSCAN = fromSOMAtoAXON(dbscan_as)\n",
    "dicHDBSCAN = fromSOMAtoAXON(hdbscan_as)\n",
    "dicSNN = fromSOMAtoAXON(snn_as)"
   ]
  },
  {
   "cell_type": "code",
   "execution_count": 10,
   "metadata": {},
   "outputs": [
    {
     "data": {
      "text/plain": [
       "pandas.core.frame.DataFrame"
      ]
     },
     "execution_count": 10,
     "metadata": {},
     "output_type": "execute_result"
    }
   ],
   "source": [
    "type(dicHIER['C1DF'])"
   ]
  },
  {
   "cell_type": "markdown",
   "metadata": {},
   "source": [
    "for iter_key in dicHIER.keys():\n",
    "    tempDF = dicHIER[iter_key]\n",
    "    print(tempDF)\n",
    "    (tempDF).to_csv('/home/penglab/Documents/dataSource/dfSET/HIER/'+str(iter_key)+'.csv')"
   ]
  },
  {
   "cell_type": "markdown",
   "metadata": {},
   "source": [
    "for iter_key in dicKMEANS.keys():\n",
    "    tempDF = dicKMEANS[iter_key]\n",
    "    print(tempDF)\n",
    "    (tempDF).to_csv('/home/penglab/Documents/dataSource/dfSET/KMEANS/'+str(iter_key)+'.csv')"
   ]
  },
  {
   "cell_type": "markdown",
   "metadata": {},
   "source": [
    "for iter_key in dicDBSCAN.keys():\n",
    "    tempDF = dicDBSCAN[iter_key]\n",
    "    pd.DataFrame(tempDF).to_csv('/home/penglab/Documents/dataSource/dfSET/DBSCAN/'+str(iter_key)+'.csv')"
   ]
  },
  {
   "cell_type": "markdown",
   "metadata": {},
   "source": [
    "for iter_key in dicHDBSCAN.keys():\n",
    "    tempDF = dicHDBSCAN[iter_key]\n",
    "    pd.DataFrame(tempDF).to_csv('/home/penglab/Documents/dataSource/dfSET/HDBSCAN/'+str(iter_key)+'.csv')"
   ]
  },
  {
   "cell_type": "markdown",
   "metadata": {},
   "source": [
    "for iter_key in dicSNN.keys():\n",
    "    tempDF = dicSNN[iter_key]\n",
    "    pd.DataFrame(tempDF).to_csv('/home/penglab/Documents/dataSource/dfSET/SNN/'+str(iter_key)+'.csv')"
   ]
  },
  {
   "cell_type": "code",
   "execution_count": 12,
   "metadata": {},
   "outputs": [
    {
     "ename": "NameError",
     "evalue": "name 'data' is not defined",
     "output_type": "error",
     "traceback": [
      "\u001b[0;31m---------------------------------------------------------------------------\u001b[0m",
      "\u001b[0;31mNameError\u001b[0m                                 Traceback (most recent call last)",
      "\u001b[0;32m<ipython-input-12-4cf8b86780e9>\u001b[0m in \u001b[0;36m<module>\u001b[0;34m\u001b[0m\n\u001b[0;32m----> 1\u001b[0;31m \u001b[0mnodes\u001b[0m \u001b[0;34m=\u001b[0m \u001b[0mdata\u001b[0m\u001b[0;34m[\u001b[0m\u001b[0;34m'nodes'\u001b[0m\u001b[0;34m]\u001b[0m\u001b[0;34m\u001b[0m\u001b[0;34m\u001b[0m\u001b[0m\n\u001b[0m\u001b[1;32m      2\u001b[0m \u001b[0mlinks\u001b[0m \u001b[0;34m=\u001b[0m \u001b[0mdata\u001b[0m\u001b[0;34m[\u001b[0m\u001b[0;34m'links'\u001b[0m\u001b[0;34m]\u001b[0m\u001b[0;34m\u001b[0m\u001b[0;34m\u001b[0m\u001b[0m\n\u001b[1;32m      3\u001b[0m \u001b[0;34m\u001b[0m\u001b[0m\n\u001b[1;32m      4\u001b[0m \u001b[0mnodes_df\u001b[0m \u001b[0;34m=\u001b[0m \u001b[0mpd\u001b[0m\u001b[0;34m.\u001b[0m\u001b[0mDataFrame\u001b[0m\u001b[0;34m(\u001b[0m\u001b[0mnodes\u001b[0m\u001b[0;34m)\u001b[0m\u001b[0;34m\u001b[0m\u001b[0;34m\u001b[0m\u001b[0m\n\u001b[1;32m      5\u001b[0m \u001b[0mlinks_df\u001b[0m \u001b[0;34m=\u001b[0m \u001b[0mpd\u001b[0m\u001b[0;34m.\u001b[0m\u001b[0mDataFrame\u001b[0m\u001b[0;34m(\u001b[0m\u001b[0mlinks\u001b[0m\u001b[0;34m)\u001b[0m\u001b[0;34m\u001b[0m\u001b[0;34m\u001b[0m\u001b[0m\n",
      "\u001b[0;31mNameError\u001b[0m: name 'data' is not defined"
     ]
    }
   ],
   "source": [
    "nodes = data['nodes']\n",
    "links = data['links']\n",
    "\n",
    "nodes_df = pd.DataFrame(nodes)\n",
    "links_df = pd.DataFrame(links)\n",
    "\n",
    "source_data = links_df.merge(nodes_df, how='left', left_on='source', right_index=True)\n",
    "source_data = source_data.merge(nodes_df, how='left', left_on='target', right_index=True)\n",
    "source_data = source_data[source_data[\"value\"] > 5]\n",
    "source_data\n",
    "\n",
    "chord_from_df = Chord(source_data, source=\"name_x\", target=\"name_y\", value=\"value\")\n",
    "output_file('chord-diagram-bokeh.html', mode=\"inline\")\n",
    "show(chord_from_df)\n"
   ]
  },
  {
   "cell_type": "markdown",
   "metadata": {},
   "source": [
    " function createDISTRItable (regionlist,CCFlist, clusterDF) will return a np.array, a square matrix \n",
    "* first a DataFrame will be generated, \n",
    "* **regionlist** is the ***columns*** for the dataframe: ns.features['projection_features'].raw_data.columns.tolist()\n",
    "    * corresponding to the axon region(ispi- and contra- is considered)\n",
    "* **CCFlist** is the ***rows*** for the dataframe: \n",
    "    * corresponding to the soma region(not consider ispi- and contra-)\n",
    "* **clusterDF** stores the information of clustering result, with columns ['swc list', 'soma region', 'max soma', 'total soma', 'max axon']\n",
    "\n",
    "\n",
    "\n",
    "Initial Idea:\n",
    "we can generate a separate dataframe for different cluster, then sum it up\n",
    "now neglect the rank of the three regions"
   ]
  },
  {
   "cell_type": "markdown",
   "metadata": {},
   "source": [
    "def createDISTRItable(regionlist,CCFlist,clusterDF):\n",
    "    dfname=[]\n",
    "    for cluster_idx in clusterDF.index:\n",
    "        dfname.append((str(cluster_idx) + 'DF'))\n",
    "\n",
    "    #generate a dataframe for each cluster\n",
    "    dicDF = {name: pd.DataFrame(index = CCFlist , columns=regionlist) for name in dfname}\n",
    "    dicnewDF = {}\n",
    "    #iterate the correponding dataframe and cluster at the same time\n",
    "    for key_iter,cluster_idx in zip(dicDF.keys(),clusterDF.index):\n",
    "        tempDF = dicDF[key_iter].copy()\n",
    "        dic_soma = ast.literal_eval(clusterDF.loc[cluster_idx,'max soma'])\n",
    "        iterL = int(len(dic_soma.keys())/2)\n",
    "        somaNAME = []\n",
    "        somaCOUNT = []\n",
    "        for i in range(1,int(iterL)+1):\n",
    "            somaNAME.append(dic_soma[(str(i)+'somaR')])\n",
    "        for i in range(1,iterL+1):\n",
    "            somaCOUNT.append(dic_soma[str(i)+'somaC'])\n",
    "\n",
    "        dic_axon = ast.literal_eval(clusterDF.loc[cluster_idx,'max axon'])\n",
    "        iterL = int(len(dic_axon.keys())/2)\n",
    "        axonNAME = []\n",
    "        axonCOUNT = []\n",
    "        for i in range(1,iterL+1):\n",
    "            axonNAME.append(dic_axon[(str(i)+'axonR')])\n",
    "        for i in range(1,iterL+1):\n",
    "            axonCOUNT.append(dic_axon[str(i)+'axonC'])    \n",
    "        for row_soma in somaNAME:\n",
    "            for col_axon,len_axon in zip(axonNAME,axonCOUNT):\n",
    "            #***************NOTE WE HAVE NOT USE somaCOUNT yet\n",
    "                if row_soma in tempDF.index:\n",
    "                    tempDF.loc[row_soma, col_axon] = len_axon\n",
    "        tempDF [tempDF.isnull()]=0\n",
    "        assert(dicDF[key_iter].shape==tempDF.shape)\n",
    "        dicnewDF[key_iter]= tempDF.copy()\n",
    "    return dicnewDF\n",
    "\n"
   ]
  },
  {
   "cell_type": "code",
   "execution_count": 201,
   "metadata": {},
   "outputs": [],
   "source": [
    "CCF_list=[]\n",
    "for i in nmt.bs.selected_regions:\n",
    "    CCF_list.append(nmt.bs.level.loc[i, \"Abbrevation\"])"
   ]
  },
  {
   "cell_type": "code",
   "execution_count": 204,
   "metadata": {},
   "outputs": [],
   "source": []
  },
  {
   "cell_type": "code",
   "execution_count": 207,
   "metadata": {},
   "outputs": [],
   "source": []
  },
  {
   "cell_type": "code",
   "execution_count": null,
   "metadata": {},
   "outputs": [],
   "source": [
    ".to_excel('/home/penglab/Documents/dataSource/snn_as.xlsx')"
   ]
  },
  {
   "cell_type": "code",
   "execution_count": null,
   "metadata": {},
   "outputs": [],
   "source": []
  },
  {
   "cell_type": "code",
   "execution_count": null,
   "metadata": {},
   "outputs": [],
   "source": []
  },
  {
   "cell_type": "code",
   "execution_count": null,
   "metadata": {},
   "outputs": [],
   "source": []
  }
 ],
 "metadata": {
  "kernelspec": {
   "display_name": "Python 3",
   "language": "python",
   "name": "python3"
  },
  "language_info": {
   "codemirror_mode": {
    "name": "ipython",
    "version": 3
   },
   "file_extension": ".py",
   "mimetype": "text/x-python",
   "name": "python",
   "nbconvert_exporter": "python",
   "pygments_lexer": "ipython3",
   "version": "3.7.3"
  }
 },
 "nbformat": 4,
 "nbformat_minor": 2
}
