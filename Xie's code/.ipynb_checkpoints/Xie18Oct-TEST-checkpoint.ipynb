{
 "cells": [
  {
   "cell_type": "code",
   "execution_count": 38,
   "metadata": {},
   "outputs": [],
   "source": [
    "import numpy as np\n",
    "import pandas as pd\n",
    "import os\n",
    "from shutil import copyfile\n",
    "import pickle\n",
    "import matplotlib.pyplot as plt\n",
    "import matplotlib\n",
    "import seaborn as sns\n",
    "import colorlover as cl\n",
    "\n",
    "\n",
    "import neuro_morpho_toolbox as nmt\n",
    "%matplotlib inline"
   ]
  },
  {
   "cell_type": "code",
   "execution_count": 39,
   "metadata": {},
   "outputs": [],
   "source": [
    "import pickle\n",
    "pickle_in = open(\"/home/penglab/FeaCal/all_ns.pickle\",\"rb\")\n",
    "[ns] = pickle.load(pickle_in)\n"
   ]
  },
  {
   "cell_type": "markdown",
   "metadata": {},
   "source": [
    "## Input list of interested"
   ]
  },
  {
   "cell_type": "code",
   "execution_count": 42,
   "metadata": {},
   "outputs": [],
   "source": [
    "\n",
    "\n",
    "ll = '17302_0002317302_0002517545_0007118454_0005018454_0005118454_0005418454_0005518454_0005618454_0005718454_0005818454_0007418454_0009518454_0009718454_0009918454_0013018455_0012618455_0012718455_0013318455_0013418455_0016318455_0016618457_0011018457_0011118457_0013518458_00376'\n",
    "interestL = []\n",
    "i=0\n",
    "while i<len(ll):\n",
    "    interestL.append(str(ll[i:i+11]))\n",
    "    i = i+11"
   ]
  },
  {
   "cell_type": "markdown",
   "metadata": {},
   "source": [
    "### Copy interested swc to a specific folder specificNS"
   ]
  },
  {
   "cell_type": "code",
   "execution_count": 67,
   "metadata": {},
   "outputs": [],
   "source": [
    "import os\n",
    "import shutil\n",
    "for i_swc in interestL:#os.listdir('/home/penglab/Desktop/specificNS' ):\n",
    "    folder = os.path.exists('/home/penglab/Desktop/specificNS')\n",
    "    if not folder:         \n",
    "        os.makedirs('/home/penglab/Desktop/specificNS')       \n",
    "    oldname = '/home/penglab/FeaCal/allData' + '/'+ str(i_swc)+'.swc'\n",
    "    newname = '/home/penglab/Desktop/specificNS' + '/'+ str(i_swc)+'.swc'\n",
    "    shutil.copyfile(oldname,newname)"
   ]
  },
  {
   "cell_type": "markdown",
   "metadata": {},
   "source": [
    "### For neurons inside this folder, flip the swc \n",
    "* midline (0.5*nmt.annotation.size[\"z\"]* nmt.annotation.space[\"z\"])"
   ]
  },
  {
   "cell_type": "code",
   "execution_count": 68,
   "metadata": {},
   "outputs": [
    {
     "name": "stdout",
     "output_type": "stream",
     "text": [
      "17302_00023\n",
      "17302_00025\n",
      "17545_00071\n",
      "18454_00050\n",
      "18454_00051\n",
      "18454_00054\n",
      "18454_00055\n",
      "18454_00056\n",
      "18454_00057\n",
      "18454_00058\n",
      "18454_00074\n",
      "18454_00095\n",
      "18454_00097\n",
      "18454_00099\n",
      "18454_00130\n",
      "18455_00126\n",
      "18455_00127\n",
      "18455_00133\n",
      "18455_00134\n",
      "18455_00163\n",
      "18455_00166\n",
      "18457_00110\n",
      "18457_00111\n",
      "18457_00135\n",
      "18458_00376\n"
     ]
    }
   ],
   "source": [
    "swc_path = '/home/penglab/Desktop/specificNS'\n",
    "from neuro_morpho_toolbox.neuron_set import load_swc_list\n",
    "#Read the swc inside this path to adictionary\n",
    "dicAll = load_swc_list(swc_path)\n",
    "for i in dicAll.keys():\n",
    "    midline = (0.5*nmt.annotation.size[\"z\"]* nmt.annotation.space[\"z\"])\n",
    "    dicAll[i].swc.loc[dicAll[i].swc['z']>midline,'z'] = 2*midline-dicAll[i].swc.loc[dicAll[i].swc['z']>midline,'z'] \n",
    "    pathdes = '/home/penglab/Desktop/specificNS/'\n",
    "    dicAll[i].swc.to_csv(pathdes+str(i)+'.swc', sep=\" \")\n",
    "    print(i)\n",
    "\n",
    "    "
   ]
  },
  {
   "cell_type": "code",
   "execution_count": 69,
   "metadata": {
    "scrolled": true
   },
   "outputs": [
    {
     "name": "stdout",
     "output_type": "stream",
     "text": [
      "Loading...\n",
      "Finding soma locations...\n",
      "Getting projection features...\n",
      "Number of input neurons: 25\n",
      "Number of input features: 632\n",
      "Getting metadata...\n"
     ]
    }
   ],
   "source": [
    "ns = nmt.neuron_set('/home/penglab/Desktop/specificNS')\n",
    "#pickle.dump([ns], open(\"/home/penglab/FeaCal/all_ns.pickle\", \"wb\"))"
   ]
  },
  {
   "cell_type": "code",
   "execution_count": null,
   "metadata": {},
   "outputs": [],
   "source": [
    "from neuro_morpho_toolbox.plot import cell_in_map\n",
    "\n",
    "test_list = ns.metadata.index.tolist()\n",
    "cell_in_map(ns.neurons, test_list[:], ns.metadata, ccf_annotation=nmt.annotation, view=\"Horizontal\", color=\"single_cell\")"
   ]
  }
 ],
 "metadata": {
  "kernelspec": {
   "display_name": "Python 3",
   "language": "python",
   "name": "python3"
  },
  "language_info": {
   "codemirror_mode": {
    "name": "ipython",
    "version": 3
   },
   "file_extension": ".py",
   "mimetype": "text/x-python",
   "name": "python",
   "nbconvert_exporter": "python",
   "pygments_lexer": "ipython3",
   "version": "3.7.3"
  }
 },
 "nbformat": 4,
 "nbformat_minor": 2
}
