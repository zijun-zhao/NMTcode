{
 "cells": [
  {
   "cell_type": "code",
   "execution_count": 2,
   "metadata": {},
   "outputs": [
    {
     "name": "stdout",
     "output_type": "stream",
     "text": [
      "/home/penglab/anaconda3/lib/python3.7/site-packages/neuro_morpho_toolbox-0.1-py3.7.egg/neuro_morpho_toolbox/\n",
      "Loading CCF Atlas data...\n",
      "Loading time: 0.93\n",
      "Loading CCF brain structure data...\n",
      "Loading time: 0.00\n"
     ]
    }
   ],
   "source": [
    "import numpy as np\n",
    "import pandas as pd\n",
    "import os\n",
    "from shutil import copyfile\n",
    "import pickle\n",
    "import matplotlib.pyplot as plt\n",
    "import matplotlib\n",
    "import seaborn as sns\n",
    "import colorlover as cl\n",
    "\n",
    "import neuro_morpho_toolbox as nmt\n",
    "%matplotlib inline"
   ]
  },
  {
   "cell_type": "code",
   "execution_count": 3,
   "metadata": {},
   "outputs": [],
   "source": [
    "import pickle\n",
    "pickle_in = open(\"/home/penglab/FeaCal/all_ns.pickle\",\"rb\")\n",
    "[ns] = pickle.load(pickle_in)\n"
   ]
  },
  {
   "cell_type": "markdown",
   "metadata": {},
   "source": [
    "## Input list of interested"
   ]
  },
  {
   "cell_type": "code",
   "execution_count": 42,
   "metadata": {},
   "outputs": [],
   "source": [
    "\n",
    "\n",
    "ll = '17302_0002317302_0002517545_0007118454_0005018454_0005118454_0005418454_0005518454_0005618454_0005718454_0005818454_0007418454_0009518454_0009718454_0009918454_0013018455_0012618455_0012718455_0013318455_0013418455_0016318455_0016618457_0011018457_0011118457_0013518458_00376'\n",
    "interestL = []\n",
    "i=0\n",
    "while i<len(ll):\n",
    "    interestL.append(str(ll[i:i+11]))\n",
    "    i = i+11"
   ]
  },
  {
   "cell_type": "markdown",
   "metadata": {},
   "source": [
    "### Copy interested swc to a specific folder specificNS"
   ]
  },
  {
   "cell_type": "code",
   "execution_count": 67,
   "metadata": {},
   "outputs": [],
   "source": [
    "import os\n",
    "import shutil\n",
    "for i_swc in interestL:#os.listdir('/home/penglab/Desktop/specificNS' ):\n",
    "    folder = os.path.exists('/home/penglab/Desktop/specificNS')\n",
    "    if not folder:         \n",
    "        os.makedirs('/home/penglab/Desktop/specificNS')       \n",
    "    oldname = '/home/penglab/FeaCal/allData' + '/'+ str(i_swc)+'.swc'\n",
    "    newname = '/home/penglab/Desktop/specificNS' + '/'+ str(i_swc)+'.swc'\n",
    "    shutil.copyfile(oldname,newname)"
   ]
  },
  {
   "cell_type": "markdown",
   "metadata": {},
   "source": [
    "### For neurons inside this folder, flip the swc \n",
    "* midline (0.5*nmt.annotation.size[\"z\"]* nmt.annotation.space[\"z\"])"
   ]
  },
  {
   "cell_type": "code",
   "execution_count": 68,
   "metadata": {},
   "outputs": [
    {
     "name": "stdout",
     "output_type": "stream",
     "text": [
      "17302_00023\n",
      "17302_00025\n",
      "17545_00071\n",
      "18454_00050\n",
      "18454_00051\n",
      "18454_00054\n",
      "18454_00055\n",
      "18454_00056\n",
      "18454_00057\n",
      "18454_00058\n",
      "18454_00074\n",
      "18454_00095\n",
      "18454_00097\n",
      "18454_00099\n",
      "18454_00130\n",
      "18455_00126\n",
      "18455_00127\n",
      "18455_00133\n",
      "18455_00134\n",
      "18455_00163\n",
      "18455_00166\n",
      "18457_00110\n",
      "18457_00111\n",
      "18457_00135\n",
      "18458_00376\n"
     ]
    }
   ],
   "source": [
    "swc_path = '/home/penglab/Desktop/specificNS'\n",
    "from neuro_morpho_toolbox.neuron_set import load_swc_list\n",
    "#Read the swc inside this path to adictionary\n",
    "dicAll = load_swc_list(swc_path)\n",
    "for i in dicAll.keys():\n",
    "    midline = (0.5*nmt.annotation.size[\"z\"]* nmt.annotation.space[\"z\"])\n",
    "    dicAll[i].swc.loc[dicAll[i].swc['z']>midline,'z'] = 2*midline-dicAll[i].swc.loc[dicAll[i].swc['z']>midline,'z'] \n",
    "    pathdes = '/home/penglab/Desktop/specificNS/'\n",
    "    dicAll[i].swc.to_csv(pathdes+str(i)+'.swc', sep=\" \")\n",
    "    print(i)\n",
    "\n",
    "    "
   ]
  },
  {
   "cell_type": "code",
   "execution_count": 69,
   "metadata": {
    "scrolled": true
   },
   "outputs": [
    {
     "name": "stdout",
     "output_type": "stream",
     "text": [
      "Loading...\n",
      "Finding soma locations...\n",
      "Getting projection features...\n",
      "Number of input neurons: 25\n",
      "Number of input features: 632\n",
      "Getting metadata...\n"
     ]
    }
   ],
   "source": [
    "ns = nmt.neuron_set('/home/penglab/Desktop/specificNS')\n",
    "#pickle.dump([ns], open(\"/home/penglab/FeaCal/all_ns.pickle\", \"wb\"))"
   ]
  },
  {
   "cell_type": "code",
   "execution_count": 4,
   "metadata": {},
   "outputs": [
    {
     "ename": "IndexError",
     "evalue": "list index out of range",
     "output_type": "error",
     "traceback": [
      "\u001b[0;31m---------------------------------------------------------------------------\u001b[0m",
      "\u001b[0;31mIndexError\u001b[0m                                Traceback (most recent call last)",
      "\u001b[0;32m<ipython-input-4-cd70e5a1c231>\u001b[0m in \u001b[0;36m<module>\u001b[0;34m\u001b[0m\n\u001b[1;32m      2\u001b[0m \u001b[0;34m\u001b[0m\u001b[0m\n\u001b[1;32m      3\u001b[0m \u001b[0mtest_list\u001b[0m \u001b[0;34m=\u001b[0m \u001b[0mns\u001b[0m\u001b[0;34m.\u001b[0m\u001b[0mmetadata\u001b[0m\u001b[0;34m.\u001b[0m\u001b[0mindex\u001b[0m\u001b[0;34m.\u001b[0m\u001b[0mtolist\u001b[0m\u001b[0;34m(\u001b[0m\u001b[0;34m)\u001b[0m\u001b[0;34m\u001b[0m\u001b[0;34m\u001b[0m\u001b[0m\n\u001b[0;32m----> 4\u001b[0;31m \u001b[0mcell_in_map\u001b[0m\u001b[0;34m(\u001b[0m\u001b[0mns\u001b[0m\u001b[0;34m.\u001b[0m\u001b[0mneurons\u001b[0m\u001b[0;34m,\u001b[0m \u001b[0;34m[\u001b[0m\u001b[0;34m]\u001b[0m\u001b[0;34m,\u001b[0m \u001b[0mns\u001b[0m\u001b[0;34m.\u001b[0m\u001b[0mmetadata\u001b[0m\u001b[0;34m,\u001b[0m \u001b[0mccf_annotation\u001b[0m\u001b[0;34m=\u001b[0m\u001b[0mnmt\u001b[0m\u001b[0;34m.\u001b[0m\u001b[0mannotation\u001b[0m\u001b[0;34m,\u001b[0m \u001b[0mview\u001b[0m\u001b[0;34m=\u001b[0m\u001b[0;34m\"Horizontal\"\u001b[0m\u001b[0;34m,\u001b[0m \u001b[0mcolor\u001b[0m\u001b[0;34m=\u001b[0m\u001b[0;34m\"single_cell\"\u001b[0m\u001b[0;34m)\u001b[0m\u001b[0;34m\u001b[0m\u001b[0;34m\u001b[0m\u001b[0m\n\u001b[0m",
      "\u001b[0;32m~/anaconda3/lib/python3.7/site-packages/neuro_morpho_toolbox-0.1-py3.7.egg/neuro_morpho_toolbox/plot.py\u001b[0m in \u001b[0;36mcell_in_map\u001b[0;34m(neurons_dict, cell_list, metadata, ccf_annotation, view, margin, dpi, enlarge, alpha, ax, color, flip_soma)\u001b[0m\n\u001b[1;32m    375\u001b[0m     \u001b[0mlinewidth\u001b[0m \u001b[0;34m=\u001b[0m \u001b[0;36m0.7\u001b[0m\u001b[0;34m\u001b[0m\u001b[0;34m\u001b[0m\u001b[0m\n\u001b[1;32m    376\u001b[0m     \u001b[0malpha\u001b[0m \u001b[0;34m=\u001b[0m \u001b[0;36m0.7\u001b[0m\u001b[0;34m\u001b[0m\u001b[0;34m\u001b[0m\u001b[0m\n\u001b[0;32m--> 377\u001b[0;31m     \u001b[0msingle_cell_color_dict\u001b[0m \u001b[0;34m=\u001b[0m \u001b[0mget_singlecell_colors\u001b[0m\u001b[0;34m(\u001b[0m\u001b[0mcell_list\u001b[0m\u001b[0;34m,\u001b[0m \u001b[0mreturn_str\u001b[0m\u001b[0;34m=\u001b[0m\u001b[0;32mFalse\u001b[0m\u001b[0;34m)\u001b[0m\u001b[0;34m\u001b[0m\u001b[0;34m\u001b[0m\u001b[0m\n\u001b[0m\u001b[1;32m    378\u001b[0m     \u001b[0mcluster_color_dict\u001b[0m \u001b[0;34m=\u001b[0m \u001b[0mget_group_colors\u001b[0m\u001b[0;34m(\u001b[0m\u001b[0mmetadata\u001b[0m\u001b[0;34m=\u001b[0m\u001b[0mmetadata\u001b[0m\u001b[0;34m,\u001b[0m \u001b[0mgroup_by\u001b[0m\u001b[0;34m=\u001b[0m\u001b[0;34m\"Cluster\"\u001b[0m\u001b[0;34m,\u001b[0m \u001b[0mpalette\u001b[0m\u001b[0;34m=\u001b[0m\u001b[0;34m\"paired\"\u001b[0m\u001b[0;34m,\u001b[0m \u001b[0mreturn_str\u001b[0m\u001b[0;34m=\u001b[0m\u001b[0;32mFalse\u001b[0m\u001b[0;34m)\u001b[0m\u001b[0;34m\u001b[0m\u001b[0;34m\u001b[0m\u001b[0m\n\u001b[1;32m    379\u001b[0m \u001b[0;34m\u001b[0m\u001b[0m\n",
      "\u001b[0;32m~/anaconda3/lib/python3.7/site-packages/neuro_morpho_toolbox-0.1-py3.7.egg/neuro_morpho_toolbox/plot.py\u001b[0m in \u001b[0;36mget_singlecell_colors\u001b[0;34m(cell_list, palette, return_str)\u001b[0m\n\u001b[1;32m     68\u001b[0m \u001b[0;32mdef\u001b[0m \u001b[0mget_singlecell_colors\u001b[0m\u001b[0;34m(\u001b[0m\u001b[0mcell_list\u001b[0m\u001b[0;34m,\u001b[0m \u001b[0mpalette\u001b[0m\u001b[0;34m=\u001b[0m\u001b[0;34m\"paired\"\u001b[0m\u001b[0;34m,\u001b[0m \u001b[0mreturn_str\u001b[0m\u001b[0;34m=\u001b[0m\u001b[0;32mFalse\u001b[0m\u001b[0;34m)\u001b[0m\u001b[0;34m:\u001b[0m\u001b[0;34m\u001b[0m\u001b[0;34m\u001b[0m\u001b[0m\n\u001b[1;32m     69\u001b[0m     \u001b[0mu_cells\u001b[0m \u001b[0;34m=\u001b[0m \u001b[0mlist\u001b[0m\u001b[0;34m(\u001b[0m\u001b[0mset\u001b[0m\u001b[0;34m(\u001b[0m\u001b[0mcell_list\u001b[0m\u001b[0;34m)\u001b[0m\u001b[0;34m)\u001b[0m\u001b[0;34m\u001b[0m\u001b[0;34m\u001b[0m\u001b[0m\n\u001b[0;32m---> 70\u001b[0;31m     \u001b[0mcolor_list\u001b[0m \u001b[0;34m=\u001b[0m \u001b[0mcl\u001b[0m\u001b[0;34m.\u001b[0m\u001b[0mto_rgb\u001b[0m\u001b[0;34m(\u001b[0m\u001b[0mcl\u001b[0m\u001b[0;34m.\u001b[0m\u001b[0minterp\u001b[0m\u001b[0;34m(\u001b[0m\u001b[0mmy_palette_dict\u001b[0m\u001b[0;34m[\u001b[0m\u001b[0mpalette\u001b[0m\u001b[0;34m]\u001b[0m\u001b[0;34m,\u001b[0m \u001b[0mlen\u001b[0m\u001b[0;34m(\u001b[0m\u001b[0mu_cells\u001b[0m\u001b[0;34m)\u001b[0m\u001b[0;34m)\u001b[0m\u001b[0;34m)\u001b[0m\u001b[0;34m\u001b[0m\u001b[0;34m\u001b[0m\u001b[0m\n\u001b[0m\u001b[1;32m     71\u001b[0m     \u001b[0;32mif\u001b[0m \u001b[0;32mnot\u001b[0m \u001b[0mreturn_str\u001b[0m\u001b[0;34m:\u001b[0m\u001b[0;34m\u001b[0m\u001b[0;34m\u001b[0m\u001b[0m\n\u001b[1;32m     72\u001b[0m         \u001b[0mcolor_list\u001b[0m \u001b[0;34m=\u001b[0m \u001b[0;34m[\u001b[0m\u001b[0mrgb_to_list\u001b[0m\u001b[0;34m(\u001b[0m\u001b[0mi\u001b[0m\u001b[0;34m)\u001b[0m \u001b[0;32mfor\u001b[0m \u001b[0mi\u001b[0m \u001b[0;32min\u001b[0m \u001b[0mcolor_list\u001b[0m\u001b[0;34m]\u001b[0m\u001b[0;34m\u001b[0m\u001b[0;34m\u001b[0m\u001b[0m\n",
      "\u001b[0;32m~/anaconda3/lib/python3.7/site-packages/colorlover/__init__.py\u001b[0m in \u001b[0;36minterp\u001b[0;34m(scl, r)\u001b[0m\n\u001b[1;32m   1863\u001b[0m         \u001b[0mc\u001b[0m\u001b[0;34m.\u001b[0m\u001b[0mappend\u001b[0m\u001b[0;34m(\u001b[0m \u001b[0;34m'hsl'\u001b[0m\u001b[0;34m+\u001b[0m\u001b[0mstr\u001b[0m\u001b[0;34m(\u001b[0m\u001b[0mhsl\u001b[0m\u001b[0;34m)\u001b[0m \u001b[0;34m)\u001b[0m\u001b[0;34m\u001b[0m\u001b[0;34m\u001b[0m\u001b[0m\n\u001b[1;32m   1864\u001b[0m \u001b[0;34m\u001b[0m\u001b[0m\n\u001b[0;32m-> 1865\u001b[0;31m     \u001b[0;32mreturn\u001b[0m \u001b[0mto_hsl\u001b[0m\u001b[0;34m(\u001b[0m \u001b[0mc\u001b[0m \u001b[0;34m)\u001b[0m\u001b[0;34m\u001b[0m\u001b[0;34m\u001b[0m\u001b[0m\n\u001b[0m",
      "\u001b[0;32m~/anaconda3/lib/python3.7/site-packages/colorlover/__init__.py\u001b[0m in \u001b[0;36mto_hsl\u001b[0;34m(scale)\u001b[0m\n\u001b[1;32m   1667\u001b[0m \u001b[0;34m\u001b[0m\u001b[0m\n\u001b[1;32m   1668\u001b[0m     \u001b[0mhsl\u001b[0m \u001b[0;34m=\u001b[0m \u001b[0;34m[\u001b[0m\u001b[0;34m]\u001b[0m\u001b[0;34m\u001b[0m\u001b[0;34m\u001b[0m\u001b[0m\n\u001b[0;32m-> 1669\u001b[0;31m     \u001b[0ms_t\u001b[0m \u001b[0;34m=\u001b[0m \u001b[0mscale_type\u001b[0m\u001b[0;34m(\u001b[0m\u001b[0mscale\u001b[0m\u001b[0;34m)\u001b[0m\u001b[0;34m\u001b[0m\u001b[0;34m\u001b[0m\u001b[0m\n\u001b[0m\u001b[1;32m   1670\u001b[0m \u001b[0;34m\u001b[0m\u001b[0m\n\u001b[1;32m   1671\u001b[0m     \u001b[0;32mif\u001b[0m \u001b[0ms_t\u001b[0m \u001b[0;34m==\u001b[0m \u001b[0;34m'hsl'\u001b[0m\u001b[0;34m:\u001b[0m\u001b[0;34m\u001b[0m\u001b[0;34m\u001b[0m\u001b[0m\n",
      "\u001b[0;32m~/anaconda3/lib/python3.7/site-packages/colorlover/__init__.py\u001b[0m in \u001b[0;36mscale_type\u001b[0;34m(scale)\u001b[0m\n\u001b[1;32m   1634\u001b[0m     ''' returns \"rbg\", \"hsl\", \"numeric\", or raises exception. ie,\n\u001b[1;32m   1635\u001b[0m         [ \"rgb(255, 255, 255)\", \"rgb(255, 255, 255)\", \"rgb(255, 255, 255)\" ] --> \"rgb\" '''\n\u001b[0;32m-> 1636\u001b[0;31m     \u001b[0mswatch\u001b[0m \u001b[0;34m=\u001b[0m \u001b[0mscale\u001b[0m\u001b[0;34m[\u001b[0m\u001b[0;36m0\u001b[0m\u001b[0;34m]\u001b[0m\u001b[0;34m\u001b[0m\u001b[0;34m\u001b[0m\u001b[0m\n\u001b[0m\u001b[1;32m   1637\u001b[0m     \u001b[0ms_t\u001b[0m \u001b[0;34m=\u001b[0m \u001b[0mstr\u001b[0m\u001b[0;34m(\u001b[0m\u001b[0mswatch\u001b[0m\u001b[0;34m)\u001b[0m\u001b[0;34m[\u001b[0m\u001b[0;36m0\u001b[0m\u001b[0;34m:\u001b[0m\u001b[0;36m3\u001b[0m\u001b[0;34m]\u001b[0m\u001b[0;34m\u001b[0m\u001b[0;34m\u001b[0m\u001b[0m\n\u001b[1;32m   1638\u001b[0m     \u001b[0;32mif\u001b[0m \u001b[0ms_t\u001b[0m \u001b[0;32min\u001b[0m \u001b[0;34m[\u001b[0m\u001b[0;34m'rgb'\u001b[0m\u001b[0;34m,\u001b[0m \u001b[0;34m'hsl'\u001b[0m\u001b[0;34m]\u001b[0m\u001b[0;34m:\u001b[0m\u001b[0;34m\u001b[0m\u001b[0;34m\u001b[0m\u001b[0m\n",
      "\u001b[0;31mIndexError\u001b[0m: list index out of range"
     ]
    },
    {
     "data": {
      "image/png": "[encoded data removed]",
      "text/plain": [
       "<Figure size 718.2x831.6 with 1 Axes>"
      ]
     },
     "metadata": {
      "needs_background": "light"
     },
     "output_type": "display_data"
    }
   ],
   "source": [
    "from neuro_morpho_toolbox.plot import cell_in_map\n",
    "\n",
    "test_list = ns.metadata.index.tolist()\n",
    "cell_in_map(ns.neurons, [], ns.metadata, ccf_annotation=nmt.annotation, view=\"Horizontal\", color=\"single_cell\")"
   ]
  }
 ],
 "metadata": {
  "kernelspec": {
   "display_name": "Python 3",
   "language": "python",
   "name": "python3"
  },
  "language_info": {
   "codemirror_mode": {
    "name": "ipython",
    "version": 3
   },
   "file_extension": ".py",
   "mimetype": "text/x-python",
   "name": "python",
   "nbconvert_exporter": "python",
   "pygments_lexer": "ipython3",
   "version": "3.7.3"
  }
 },
 "nbformat": 4,
 "nbformat_minor": 2
}
