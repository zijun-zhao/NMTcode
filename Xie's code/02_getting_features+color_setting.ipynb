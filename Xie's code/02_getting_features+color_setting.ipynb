{
 "cells": [
  {
   "cell_type": "code",
   "execution_count": 11,
   "metadata": {},
   "outputs": [],
   "source": [
    "import numpy as np\n",
    "import pandas as pd\n",
    "import os\n",
    "from shutil import copyfile\n",
    "import pickle\n",
    "import matplotlib.pyplot as plt\n",
    "import matplotlib\n",
    "import seaborn as sns\n",
    "import colorlover as cl\n",
    "\n",
    "import neuro_morpho_toolbox as nmt\n",
    "\n",
    "%matplotlib inline"
   ]
  },
  {
   "cell_type": "markdown",
   "metadata": {},
   "source": [
    "## Plotting test"
   ]
  },
  {
   "cell_type": "code",
   "execution_count": 12,
   "metadata": {},
   "outputs": [],
   "source": [
    "[ns] = pickle.load(open(\"neuron_set.pickle\", 'rb'))\n",
    "[metadata] = pickle.load(open(\"metadata.pickle\", 'rb'))\n"
   ]
  },
  {
   "cell_type": "code",
   "execution_count": 13,
   "metadata": {},
   "outputs": [
    {
     "data": {
      "image/png": "[encoded data removed]",
      "text/plain": [
       "<matplotlib.figure.Figure at 0x1680b81d0>"
      ]
     },
     "metadata": {},
     "output_type": "display_data"
    }
   ],
   "source": [
    "from neuro_morpho_toolbox.plot import cell_in_map\n",
    "\n",
    "test_list = metadata[metadata.Celltype == \"LGd\"].index.tolist()\n",
    "cell_in_map(ns.neurons, test_list[:3], metadata, ccf_annotation=nmt.annotation, view=\"Horizontal\", color=\"single_cell\")"
   ]
  },
  {
   "cell_type": "markdown",
   "metadata": {},
   "source": [
    "## Feature 1: projection patterns"
   ]
  },
  {
   "cell_type": "code",
   "execution_count": 56,
   "metadata": {},
   "outputs": [
    {
     "name": "stdout",
     "output_type": "stream",
     "text": [
      "Loading...\n",
      "number of files under swc_path: 285\n",
      "100 loaded: 3.6s\n",
      "200 loaded: 4.1s\n",
      "Finding soma locations...\n",
      "Getting projection features...\n",
      "Number of input neurons: 284\n",
      "Number of input features: 632\n",
      "Getting dendrite features...\n",
      "Number of input neurons: 284\n",
      "Number of input features: 316\n",
      "All values are zeros for the following cells:\n",
      "18457_00009\n",
      "Getting metadata...\n"
     ]
    },
    {
     "name": "stderr",
     "output_type": "stream",
     "text": [
      "/Users/pengxie/Documents/Research/python/neuro_morhpo_toolbox/neuro_morpho_toolbox/neuron_features.py:337: RuntimeWarning:\n",
      "\n",
      "invalid value encountered in true_divide\n",
      "\n"
     ]
    }
   ],
   "source": [
    "ns = nmt.neuron_set('../Data/swc/mapped/Data_for_analysis/swc/Whole/')"
   ]
  },
  {
   "cell_type": "markdown",
   "metadata": {},
   "source": [
    "## metadata"
   ]
  },
  {
   "cell_type": "code",
   "execution_count": 11,
   "metadata": {},
   "outputs": [],
   "source": [
    "# df = pd.read_excel(\"../Subjective_celltype/tracking_table_QW_hz_LjL_08082019.xlsx\", index_col=[0])\n",
    "# metadata = ns.features['soma_features'].region\n",
    "# df = df.loc[metadata.index]\n",
    "# df.to_excel(\"../Subjective_celltype/tracking_table_QW_hz_LjL_08082019.284_cells.xlsx\")"
   ]
  },
  {
   "cell_type": "code",
   "execution_count": 14,
   "metadata": {},
   "outputs": [
    {
     "name": "stdout",
     "output_type": "stream",
     "text": [
      "CPU             128\n",
      "VPM              34\n",
      "LGd              34\n",
      "Others           27\n",
      "MG               21\n",
      "VPL              19\n",
      "LP                6\n",
      "TH_Uncertain      5\n",
      "AM                2\n",
      "VAL               2\n",
      "MD                2\n",
      "IMD               1\n",
      "VM                1\n",
      "PO                1\n",
      "PCN               1\n",
      "Name: Celltype, dtype: int64\n"
     ]
    }
   ],
   "source": [
    "df = pd.read_excel(\"../Subjective_celltype/tracking_table.284_cells.xlsx\", index_col=[0])\n",
    "region_list = pd.read_excel(\"../Subjective_celltype/tracking_table.284_cells.xlsx\", sheet_name=1, header=None)[2].tolist()\n",
    "\n",
    "metadata = ns.features['soma_features'].region.copy()\n",
    "metadata['Celltype'] = df.loc[metadata.index, \"Confirmed\"]\n",
    "# # metadata['Celltype_note'] = df.loc[metadata.index, \"Lijuan Note\"]\n",
    "# # metadata.loc[metadata[\"Celltype_note\"]==\"CPU\", \"Celltype\"] = \"CPU\"\n",
    "metadata.fillna(\"Others\", inplace=True)\n",
    "metadata.loc[metadata.Celltype.isin([\"TH\", \"VPM/VPL\"]), \"Celltype\"] = \"TH_Uncertain\"\n",
    "metadata.loc[~metadata.Celltype.isin([\"Others\", \"TH_Uncertain\"]+region_list), \"Celltype\"] = \"Others\"\n",
    "print(metadata.Celltype.value_counts())\n",
    "# metadata\n",
    "pickle.dump([metadata], open(\"metadata.pickle\", \"wb\"))"
   ]
  },
  {
   "cell_type": "markdown",
   "metadata": {},
   "source": [
    "## Color setting"
   ]
  },
  {
   "cell_type": "code",
   "execution_count": 15,
   "metadata": {},
   "outputs": [],
   "source": [
    "bupu = cl.scales['9']['seq']['BuPu']\n",
    "greens = cl.scales['9']['seq']['Greens']\n",
    "set2 = cl.scales['7']['qual']['Set2']\n",
    "spectral = cl.scales['9']['div']['Spectral']\n",
    "paired = cl.scales['10']['qual']['Paired']\n",
    "mpl_colors = []\n",
    "for i in range(9):\n",
    "    tp = []\n",
    "    for j in list(matplotlib.colors.to_rgb(\"C\"+str(i))):\n",
    "        tp.append(str(int(j*255)))\n",
    "    tp = \", \".join(tp)\n",
    "    tp = \"rgb(\" + tp + \")\"\n",
    "    mpl_colors.append(tp)\n",
    "   \n",
    "def rgb_to_list(rgb_str):\n",
    "    tp = rgb_str.replace(\"rgb(\", \"\").replace(\"rgba(\", \"\").replace(\")\", \"\")\n",
    "    res = [float(i)/255 for i in tp.split(\", \")]\n",
    "    return res\n",
    "\n",
    "def get_celltype_colors(metadata):\n",
    "    u_celltypes = sorted(list(set(metadata.Celltype)))\n",
    "    color_list = cl.to_rgb(cl.interp(paired, len(u_celltypes)))\n",
    "    color_list = [rgb_to_list(i) for i in color_list]\n",
    "    celltype_colors = dict(zip(u_celltypes, color_list))\n",
    "    if \"Others\" in u_celltypes:\n",
    "        celltype_colors[\"Others\"] = rgb_to_list('rgb(128, 128, 128)')\n",
    "    return celltype_colors\n",
    "\n",
    "celltype_color_dict = get_celltype_colors(metadata)\n",
    "\n",
    "pickle.dump([celltype_color_dict], open(\"colors.pickle\", \"wb\"))"
   ]
  },
  {
   "cell_type": "code",
   "execution_count": 18,
   "metadata": {},
   "outputs": [
    {
     "data": {
      "image/png": "[encoded data removed]",
      "text/plain": [
       "<matplotlib.figure.Figure at 0x16f85f080>"
      ]
     },
     "metadata": {},
     "output_type": "display_data"
    }
   ],
   "source": [
    "fig, ax = plt.subplots(1,1,figsize=(5,2))\n",
    "selected_regions = ['MG', 'LGd', 'LP', 'VPM', 'VPL']\n",
    "# for i, key in enumerate(list(celltype_color_dict.keys())):\n",
    "for i, key in enumerate(selected_regions):\n",
    "    ax.scatter(0.001, len(celltype_color_dict) - i, c=celltype_color_dict[key], s=100)\n",
    "    ax.text(0.002, len(celltype_color_dict) - i, key, \n",
    "            horizontalalignment='left',\n",
    "            verticalalignment=\"center\",\n",
    "            fontdict={\"size\":16}\n",
    "           )\n",
    "    ax.set_xlim(0, 0.01)\n",
    "    ax.axis(\"off\")"
   ]
  },
  {
   "cell_type": "code",
   "execution_count": 20,
   "metadata": {},
   "outputs": [],
   "source": [
    "ns.metadata[\"CellType\"] = metadata.loc[ns.metadata.index, \"Celltype\"]\n",
    "clusters = pd.read_csv(\"clusters.csv\", index_col=[0])\n",
    "ns.metadata['Cluster'] = clusters.loc[ns.metadata.index, \"Cluster\"]\n",
    "ns.metadata[\"CellType_note\"] = metadata.loc[ns.metadata.index, \"Celltype_note\"]"
   ]
  },
  {
   "cell_type": "code",
   "execution_count": 22,
   "metadata": {},
   "outputs": [],
   "source": [
    "pickle.dump([ns], open(\"neuron_set.pickle\", \"wb\"))"
   ]
  },
  {
   "cell_type": "code",
   "execution_count": 8,
   "metadata": {},
   "outputs": [],
   "source": [
    "ns.features['projection_features'].normalize(log=True)\n",
    "pickle.dump([ns.features['projection_features']], open(\"features_projection.pickle\", \"wb\"))"
   ]
  },
  {
   "cell_type": "markdown",
   "metadata": {},
   "source": [
    "## Feature 2: soma locations"
   ]
  },
  {
   "cell_type": "code",
   "execution_count": 11,
   "metadata": {},
   "outputs": [],
   "source": [
    "pickle.dump([ns.features['soma_features']], open(\"features_soma.pickle\", \"wb\"))"
   ]
  },
  {
   "cell_type": "markdown",
   "metadata": {},
   "source": [
    "## Feature 3: axon morphological features"
   ]
  },
  {
   "cell_type": "code",
   "execution_count": 93,
   "metadata": {},
   "outputs": [],
   "source": [
    "# 1. Axon overall\n",
    "df1 = pd.read_csv(\"../Data/swc/mapped/Data_for_analysis/features/axon.features\", \n",
    "                          header=[0], index_col=[0], delimiter=\"\\t\").transpose()\n",
    "df1.rename(columns={'Number of Bifurcatons':'Number of Bifurcations'}, inplace=True)\n",
    "\n",
    "use_cols = ['Number of Stems', \n",
    "            'Overall Width', 'Overall Height', 'Overall Depth', \n",
    "            'Total Length', \n",
    "            'Max Euclidean Distance', 'Max Path Distance', \n",
    "            'Number of Bifurcations', 'Number of Branches', 'Number of Tips',\n",
    "            'Max Branch Order','Average Contraction', 'Average Fragmentation',\n",
    "            'Average Bifurcation Angle Local', 'Average Bifurcation Angle Remote', \n",
    "            'Hausdorff Dimension'\n",
    "           ]\n",
    "df1 = df1[use_cols]\n",
    "\n",
    "feature_name = use_cols\n",
    "new_feature_name = ['A_'+i.replace(' ', '_') for i in use_cols]\n",
    "df1.rename(columns=dict(zip(feature_name, new_feature_name)), inplace=True)\n"
   ]
  },
  {
   "cell_type": "code",
   "execution_count": 94,
   "metadata": {},
   "outputs": [],
   "source": [
    "# 2. Local axon\n",
    "df2 = pd.read_csv(\"../Data/swc/mapped/Data_for_analysis/features/proximal_axon.features\", \n",
    "                          header=[0], index_col=[0], delimiter=\"\\t\").transpose()\n",
    "df2.rename(columns={'Number of Bifurcatons':'Number of Bifurcations'}, inplace=True)\n",
    "\n",
    "use_cols = ['Number of Stems', \n",
    "            'Overall Width', 'Overall Height', 'Overall Depth', \n",
    "            'Total Length', \n",
    "            'Max Euclidean Distance', 'Max Path Distance', \n",
    "            'Number of Bifurcations', 'Number of Branches', 'Number of Tips',\n",
    "            'Max Branch Order','Average Contraction', 'Average Fragmentation',\n",
    "            'Average Bifurcation Angle Local', 'Average Bifurcation Angle Remote', \n",
    "            'Hausdorff Dimension'\n",
    "           ]\n",
    "df2 = df2[use_cols]\n",
    "\n",
    "feature_name = use_cols\n",
    "new_feature_name = ['AL_'+i.replace(' ', '_') for i in use_cols]\n",
    "df2.rename(columns=dict(zip(feature_name, new_feature_name)), inplace=True)"
   ]
  },
  {
   "cell_type": "code",
   "execution_count": 95,
   "metadata": {},
   "outputs": [
    {
     "name": "stdout",
     "output_type": "stream",
     "text": [
      "Number of input neurons: 284\n",
      "Number of input features: 32\n"
     ]
    }
   ],
   "source": [
    "df = pd.concat([df1, df2], axis=1)\n",
    "lm_axon = nmt.features(\"L-measure of axon\")\n",
    "lm_axon.add_raw_data(df)\n",
    "\n",
    "pickle.dump([lm_axon], open(\"features_lm_axon.pickle\", \"wb\"))"
   ]
  },
  {
   "cell_type": "markdown",
   "metadata": {},
   "source": [
    "## Feature 4: dendrite morphological features"
   ]
  },
  {
   "cell_type": "code",
   "execution_count": 97,
   "metadata": {},
   "outputs": [
    {
     "name": "stdout",
     "output_type": "stream",
     "text": [
      "Number of input neurons: 284\n",
      "Number of input features: 16\n"
     ]
    }
   ],
   "source": [
    "df = pd.read_csv(\"../Data/swc/mapped/Data_for_analysis/features/dendrite.features\", \n",
    "                          header=[0], index_col=[0], delimiter=\"\\t\").transpose()\n",
    "df.rename(columns={'Number of Bifurcatons':'Number of Bifurcations'}, inplace=True)\n",
    "\n",
    "use_cols = ['Number of Stems', \n",
    "            'Overall Width', 'Overall Height', 'Overall Depth', \n",
    "            'Total Length', \n",
    "            'Max Euclidean Distance', 'Max Path Distance', \n",
    "            'Number of Bifurcations', 'Number of Branches', 'Number of Tips',\n",
    "            'Max Branch Order','Average Contraction', 'Average Fragmentation',\n",
    "            'Average Bifurcation Angle Local', 'Average Bifurcation Angle Remote', \n",
    "            'Hausdorff Dimension'\n",
    "           ]\n",
    "df = df[use_cols]\n",
    "\n",
    "feature_name = use_cols\n",
    "new_feature_name = ['D_'+i.replace(' ', '_') for i in use_cols]\n",
    "df.rename(columns=dict(zip(feature_name, new_feature_name)), inplace=True)\n",
    "\n",
    "lm_dendrite = nmt.features(\"L-measure of dendrite\")\n",
    "lm_dendrite.add_raw_data(df)\n",
    "\n",
    "pickle.dump([lm_dendrite], open(\"features_lm_dendrite.pickle\", \"wb\"))"
   ]
  },
  {
   "cell_type": "markdown",
   "metadata": {},
   "source": [
    "## neuron_set for plotting"
   ]
  },
  {
   "cell_type": "code",
   "execution_count": 5,
   "metadata": {},
   "outputs": [
    {
     "name": "stdout",
     "output_type": "stream",
     "text": [
      "Loading...\n",
      "number of files under swc_path: 285\n",
      "100 loaded: 0.8s\n",
      "200 loaded: 0.8s\n",
      "Finding soma locations...\n",
      "Getting projection features...\n",
      "Number of input neurons: 284\n",
      "Number of input features: 632\n",
      "Getting dendrite features...\n",
      "Number of input neurons: 284\n",
      "Number of input features: 316\n",
      "All values are zeros for the following cells:\n",
      "18457_00009\n",
      "Getting metadata...\n"
     ]
    },
    {
     "name": "stderr",
     "output_type": "stream",
     "text": [
      "/Users/pengxie/Documents/Research/python/neuro_morhpo_toolbox/neuro_morpho_toolbox/neuron_features.py:337: RuntimeWarning:\n",
      "\n",
      "invalid value encountered in true_divide\n",
      "\n"
     ]
    }
   ],
   "source": [
    "ns_resample = nmt.neuron_set('../Data/swc/mapped/Data_for_analysis/swc/Whole/resample/')"
   ]
  },
  {
   "cell_type": "code",
   "execution_count": 9,
   "metadata": {},
   "outputs": [],
   "source": [
    "pickle.dump([ns_resample], open('neuron_set_resample.pickle', 'wb'))"
   ]
  }
 ],
 "metadata": {
  "kernelspec": {
   "display_name": "Python 3",
   "language": "python",
   "name": "python3"
  },
  "language_info": {
   "codemirror_mode": {
    "name": "ipython",
    "version": 3
   },
   "file_extension": ".py",
   "mimetype": "text/x-python",
   "name": "python",
   "nbconvert_exporter": "python",
   "pygments_lexer": "ipython3",
   "version": "3.7.3"
  }
 },
 "nbformat": 4,
 "nbformat_minor": 2
}
