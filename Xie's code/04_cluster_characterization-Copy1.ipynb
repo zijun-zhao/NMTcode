{
 "cells": [
  {
   "cell_type": "code",
   "execution_count": 1,
   "metadata": {
    "scrolled": false
   },
   "outputs": [
    {
     "name": "stderr",
     "output_type": "stream",
     "text": [
      "/Users/pengxie/.local/lib/python3.6/site-packages/sklearn/externals/joblib/__init__.py:15: DeprecationWarning: sklearn.externals.joblib is deprecated in 0.21 and will be removed in 0.23. Please import this functionality directly from joblib, which can be installed with: pip install joblib. If this warning is raised when loading pickled models, you may need to re-serialize those models with scikit-learn 0.21+.\n",
      "  warnings.warn(msg, category=DeprecationWarning)\n"
     ]
    },
    {
     "name": "stdout",
     "output_type": "stream",
     "text": [
      "/Users/pengxie/Documents/Research/python/neuro_morhpo_toolbox/neuro_morpho_toolbox/\n",
      "Loading CCF Atlas data...\n",
      "Loading time: 0.85\n",
      "Loading CCF brain structure data...\n",
      "Loading time: 0.01\n"
     ]
    },
    {
     "name": "stderr",
     "output_type": "stream",
     "text": [
      "/Users/pengxie/.local/lib/python3.6/site-packages/sklearn/externals/six.py:31: DeprecationWarning: The module is deprecated in version 0.21 and will be removed in version 0.23 since we've dropped support for Python 2.7. Please rely on the official version of six (https://pypi.org/project/six/).\n",
      "  \"(https://pypi.org/project/six/).\", DeprecationWarning)\n"
     ]
    },
    {
     "data": {
      "text/html": [
       "<script type=\"text/javascript\">window.PlotlyConfig = {MathJaxConfig: 'local'};</script><script type=\"text/javascript\">if (window.MathJax) {MathJax.Hub.Config({SVG: {font: \"STIX-Web\"}});}</script><script>requirejs.config({paths: { 'plotly': ['https://cdn.plot.ly/plotly-latest.min']},});if(!window._Plotly) {require(['plotly'],function(plotly) {window._Plotly=plotly;});}</script>"
      ],
      "text/vnd.plotly.v1+html": [
       "<script type=\"text/javascript\">window.PlotlyConfig = {MathJaxConfig: 'local'};</script><script type=\"text/javascript\">if (window.MathJax) {MathJax.Hub.Config({SVG: {font: \"STIX-Web\"}});}</script><script>requirejs.config({paths: { 'plotly': ['https://cdn.plot.ly/plotly-latest.min']},});if(!window._Plotly) {require(['plotly'],function(plotly) {window._Plotly=plotly;});}</script>"
      ]
     },
     "metadata": {},
     "output_type": "display_data"
    }
   ],
   "source": [
    "import numpy as np\n",
    "import pandas as pd\n",
    "import matplotlib\n",
    "import matplotlib.pyplot as plt\n",
    "import os\n",
    "import re\n",
    "import pickle\n",
    "from timeit import default_timer as timer\n",
    "import sklearn\n",
    "from sklearn.preprocessing import scale\n",
    "from sklearn.manifold import Isomap, TSNE\n",
    "from sklearn.metrics import silhouette_samples, silhouette_score\n",
    "import scipy\n",
    "import scipy.cluster.hierarchy\n",
    "from scipy.cluster.hierarchy import linkage, dendrogram, fcluster\n",
    "import umap\n",
    "import seaborn as sns\n",
    "import matplotlib.cm as cm\n",
    "import random\n",
    "\n",
    "from matplotlib.backends.backend_pdf import PdfPages\n",
    "from scipy.stats import mannwhitneyu\n",
    "\n",
    "# from pysankey import sankey\n",
    "\n",
    "from sklearn.cluster import AgglomerativeClustering, KMeans, DBSCAN, SpectralClustering, Birch\n",
    "from sklearn.neighbors import NearestNeighbors\n",
    "from sklearn.feature_selection import mutual_info_classif\n",
    "from sklearn import metrics\n",
    "import igraph\n",
    "from math import ceil\n",
    "from timeit import default_timer as timer\n",
    "import subprocess\n",
    "from pathlib import Path\n",
    "from numpy import linalg as LA\n",
    "\n",
    "import neuro_morpho_toolbox as nmt\n",
    "from neuro_morpho_toolbox.ml_utilities import *\n",
    "from neuro_morpho_toolbox.plot import qualitative_scatter, cell_in_map\n",
    "\n",
    "import SimpleITK as sitk\n",
    "\n",
    "from ipywidgets import interactive\n",
    "import ipywidgets as widgets\n",
    "\n",
    "import plotly.plotly as py\n",
    "import plotly.offline as po\n",
    "import plotly.graph_objs as go\n",
    "\n",
    "po.init_notebook_mode(connected=True)\n",
    "\n",
    "import colorlover as cl\n",
    "from IPython.display import HTML\n",
    "\n",
    "bs_child_to_parent = {}\n",
    "\n",
    "for pid in nmt.bs.selected_regions:\n",
    "    pname = nmt.bs.level.loc[pid, \"Abbrevation\"]\n",
    "    cname = [nmt.bs.level.loc[i, \"Abbrevation\"] for i in nmt.bs.get_all_child_id(pid)]\n",
    "    for i in cname:\n",
    "        bs_child_to_parent[i] = pname\n",
    "bs_child_to_parent[\"unknown\"] = \"unknown\""
   ]
  },
  {
   "cell_type": "markdown",
   "metadata": {},
   "source": [
    "## Load data"
   ]
  },
  {
   "cell_type": "code",
   "execution_count": 2,
   "metadata": {},
   "outputs": [
    {
     "data": {
      "text/plain": [
       "VPM             34\n",
       "LGd             34\n",
       "MG              21\n",
       "VPL             19\n",
       "LP               6\n",
       "TH_Uncertain     5\n",
       "MD               2\n",
       "VAL              2\n",
       "AM               2\n",
       "VM               1\n",
       "IMD              1\n",
       "PO               1\n",
       "PCN              1\n",
       "Name: Celltype, dtype: int64"
      ]
     },
     "execution_count": 2,
     "metadata": {},
     "output_type": "execute_result"
    }
   ],
   "source": [
    "[metadata] = pickle.load(open(\"metadata_cluster.pickle\", 'rb'))\n",
    "# metadata = metadata[~metadata.Celltype.isin([\"CPU\", \"Others\"])]\n",
    "# metadata = metadata[~metadata.cluster.isin([\"NA\"])]\n",
    "all_cells = metadata.index.tolist()\n",
    "metadata['Brain_id'] = ['Brain_'+i.split(\"_\")[0] for i in all_cells]\n",
    "metadata['SWC'] = ['../Data/swc/mapped/Data_for_analysis/swc/Whole/'+i+'.swc' for i in all_cells]\n",
    "# metadata['Celltype'] = 'UnAssigned'\n",
    "# metadata['Subtype'] = 'UnAssigned'\n",
    "\n",
    "metadata.Celltype.value_counts()"
   ]
  },
  {
   "cell_type": "code",
   "execution_count": 3,
   "metadata": {},
   "outputs": [],
   "source": [
    "# celltype_color_dict = nmt.get_group_colors(metadata, \"Celltype\")\n",
    "[celltype_color_dict] = pickle.load(open(\"colors.pickle\", \"rb\"))\n",
    "cluster_color_dict = nmt.get_group_colors(metadata, 'cluster')\n",
    "brain_color_dict = nmt.get_group_colors(metadata, 'Brain_id')"
   ]
  },
  {
   "cell_type": "code",
   "execution_count": 4,
   "metadata": {},
   "outputs": [],
   "source": [
    "[soma] = pickle.load(open(\"features_soma.pickle\", \"rb\"))\n",
    "[projection] = pickle.load(open(\"features_projection.pickle\", \"rb\"))\n",
    "[lm_axon] = pickle.load(open(\"features_lm_axon.pickle\", \"rb\"))\n",
    "[lm_dendrite] = pickle.load(open(\"features_lm_dendrite.pickle\", \"rb\"))"
   ]
  },
  {
   "cell_type": "code",
   "execution_count": 5,
   "metadata": {},
   "outputs": [
    {
     "name": "stdout",
     "output_type": "stream",
     "text": [
      "Projection features: 62\n"
     ]
    }
   ],
   "source": [
    "projection_df = projection.scaled_data.copy() - np.log(100)\n",
    "projection_df = projection_df.loc[all_cells]\n",
    "projection_df = projection_df.round(2)\n",
    "projection_df.drop(columns=['ipsi_fiber tracts', 'contra_fiber tracts'], inplace=True)\n",
    "use_features = projection_df.columns[np.sum(projection_df>0)>=3]\n",
    "projection_df = projection_df[use_features]\n",
    "print(\"Projection features: %d\" % (projection_df.shape[1]))"
   ]
  },
  {
   "cell_type": "code",
   "execution_count": 6,
   "metadata": {},
   "outputs": [],
   "source": [
    "soma_df = soma.raw_data.copy().loc[all_cells]"
   ]
  },
  {
   "cell_type": "code",
   "execution_count": 7,
   "metadata": {},
   "outputs": [],
   "source": [
    "lm_axon_df = lm_axon.raw_data.copy().loc[all_cells]\n",
    "use_cols = ['A_Overall_Width', \n",
    "            'A_Overall_Height', \n",
    "            'A_Overall_Depth', \n",
    "            'A_Total_Length', \n",
    "            'A_Max_Euclidean_Distance', \n",
    "            'A_Max_Path_Distance', \n",
    "            'A_Number_of_Branches', \n",
    "#             'Max Branch Order',\n",
    "#             'Average Contraction', \n",
    "#             'Average Fragmentation',\n",
    "#             'Average Bifurcation Angle Local', \n",
    "#             'Average Bifurcation Angle Remote', \n",
    "#             'Hausdorff Dimension',\n",
    "            'AL_Total_Length',\n",
    "            'AL_Number_of_Branches'\n",
    "           ]\n",
    "lm_axon_df = lm_axon_df[use_cols]\n",
    "lm_axon_df_scale = pd.DataFrame(scale(lm_axon_df), \n",
    "                                index=lm_axon_df.index, \n",
    "                                columns=lm_axon_df.columns)\n"
   ]
  },
  {
   "cell_type": "code",
   "execution_count": 8,
   "metadata": {},
   "outputs": [],
   "source": [
    "lm_dendrite_df = lm_dendrite.raw_data.copy().loc[all_cells]\n",
    "use_cols = [\n",
    "    'D_Number_of_Stems', \n",
    "    'D_Overall_Width', \n",
    "    'D_Overall_Height', \n",
    "    'D_Overall_Depth', \n",
    "    'D_Total_Length',\n",
    "    'D_Max_Euclidean_Distance', \n",
    "    'D_Max_Path_Distance', \n",
    "    'D_Number_of_Branches', \n",
    "#     'D_Max_Branch_Order', # Add back after dendrite correction\n",
    "]\n",
    "lm_dendrite_df = lm_dendrite_df[use_cols]\n",
    "lm_dendrite_df[\"D_Depth_Width-Ratio\"] = lm_dendrite_df[\"D_Overall_Depth\"] / lm_dendrite_df[\"D_Overall_Width\"]\n",
    "lm_dendrite_df_scale = pd.DataFrame(scale(lm_dendrite_df), \n",
    "                                    index=lm_dendrite_df.index, \n",
    "                                    columns=lm_dendrite_df.columns\n",
    "                                   )\n"
   ]
  },
  {
   "cell_type": "code",
   "execution_count": 10,
   "metadata": {},
   "outputs": [
    {
     "data": {
      "text/plain": [
       "ipsi_SSp-n      6.29\n",
       "ipsi_SSp-bfd    5.87\n",
       "ipsi_CP         3.94\n",
       "ipsi_SSs        2.67\n",
       "ipsi_SSp-un     1.52\n",
       "ipsi_LGv        0.00\n",
       "ipsi_VISl       0.00\n",
       "ipsi_VISp       0.00\n",
       "ipsi_VISpl      0.00\n",
       "ipsi_VISpm      0.00\n",
       "Name: 18457_00013, dtype: float64"
      ]
     },
     "execution_count": 10,
     "metadata": {},
     "output_type": "execute_result"
    }
   ],
   "source": [
    "projection_df.loc['18457_00013'].sort_values(ascending=False).head(10)"
   ]
  }
 ],
 "metadata": {
  "kernelspec": {
   "display_name": "Python 3",
   "language": "python",
   "name": "python3"
  },
  "language_info": {
   "codemirror_mode": {
    "name": "ipython",
    "version": 3
   },
   "file_extension": ".py",
   "mimetype": "text/x-python",
   "name": "python",
   "nbconvert_exporter": "python",
   "pygments_lexer": "ipython3",
   "version": "3.7.3"
  }
 },
 "nbformat": 4,
 "nbformat_minor": 2
}
