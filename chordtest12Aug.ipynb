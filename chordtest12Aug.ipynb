{
 "cells": [
  {
   "cell_type": "code",
   "execution_count": 1,
   "metadata": {},
   "outputs": [
    {
     "name": "stdout",
     "output_type": "stream",
     "text": [
      "/home/penglab/anaconda3/lib/python3.7/site-packages/neuro_morpho_toolbox/\n",
      "Loading CCF Atlas data...\n",
      "Loading time: 1.02\n",
      "Loading CCF brain structure data...\n",
      "Loading time: 0.01\n",
      "Loading...\n",
      "100 loaded: 2.7s\n",
      "Invalid number of soma found: 0\n",
      "QC failed: AA0114.swc\n",
      "Invalid number of soma found: 0\n",
      "QC failed: AA0115.swc\n",
      "200 loaded: 2.3s\n",
      "300 loaded: 2.3s\n",
      "400 loaded: 2.7s\n",
      "Invalid number of soma found: 0\n",
      "QC failed: AA0472.swc\n",
      "500 loaded: 2.5s\n",
      "Invalid number of soma found: 0\n",
      "QC failed: AA0576.swc\n",
      "Invalid number of soma found: 0\n",
      "QC failed: AA0585.swc\n",
      "Invalid number of soma found: 0\n",
      "QC failed: AA0589.swc\n",
      "600 loaded: 2.3s\n",
      "Invalid number of soma found: 0\n",
      "QC failed: AA0639.swc\n",
      "Invalid number of soma found: 0\n",
      "QC failed: AA0670.swc\n",
      "Invalid number of soma found: 0\n",
      "QC failed: AA0672.swc\n",
      "700 loaded: 2.1s\n",
      "Invalid number of soma found: 0\n",
      "QC failed: AA0754.swc\n",
      "Invalid number of soma found: 0\n",
      "QC failed: AA0763.swc\n",
      "800 loaded: 2.6s\n",
      "900 loaded: 1.8s\n",
      "QC failed: AA0952.swc\n",
      "QC failed: AA0964.swc\n",
      "QC failed: AA0968.swc\n",
      "QC failed: AA0977.swc\n",
      "Finding soma locations...\n",
      "Getting projection features...\n",
      "Number of input neurons: 987\n",
      "Number of input features: 632\n",
      "Getting metadata...\n"
     ]
    }
   ],
   "source": [
    "import numpy as np\n",
    "import pandas as pd\n",
    "import seaborn as sns\n",
    "import matplotlib.pyplot as plt\n",
    "from sklearn import metrics\n",
    "%matplotlib inline\n",
    "\n",
    "import neuro_morpho_toolbox as nmt\n",
    "# ns=nmt.neuron_set('/Users/pengxie/Documents/Research/fullMorph_classification/data/registered_swc/Janelia_test/swc/Whole/')\n",
    "ns=nmt.neuron_set('/home/penglab/Documents/Janelia_1000')\n",
    "\n"
   ]
  },
  {
   "cell_type": "code",
   "execution_count": 2,
   "metadata": {
    "scrolled": true
   },
   "outputs": [
    {
     "data": {
      "image/png": "[encoded data removed]",
      "text/plain": [
       "<Figure size 432x288 with 1 Axes>"
      ]
     },
     "metadata": {
      "needs_background": "light"
     },
     "output_type": "display_data"
    }
   ],
   "source": [
    "sf = ns.features['soma_features'].region\n",
    "ct = sf[\"Region\"].value_counts().sort_values(ascending=False)\n",
    "_ = sns.countplot(y=\"Region\", \n",
    "                  data=sf.loc[sf.Region.isin(ct.index[ct>10])],\n",
    "                 )\n",
    "_ = ns.ReduceDimUMAP(feature_set=\"projection_features\", n_neighbors=100)\n"
   ]
  },
  {
   "cell_type": "markdown",
   "metadata": {},
   "source": [
    "## Add abbreviation information to ccfDF"
   ]
  },
  {
   "cell_type": "markdown",
   "metadata": {},
   "source": [
    "ccfDF = pd.read_excel('/home/penglab/Documents/dataSource/ccfDF.xlsx')\n",
    "abbrlist = []\n",
    "for i in ccfDF.loc[:,'structure ID']:\n",
    "    if i in nmt.bs.level.index:\n",
    "        abbr = nmt.bs.level.loc[i,'Abbrevation']\n",
    "        abbrlist.append(abbr)\n",
    "    else:\n",
    "        print(i)\n",
    "        abbrlist.append('unknown')\n",
    "ccfDF.loc[:,'ABBR']=abbrlist"
   ]
  },
  {
   "cell_type": "markdown",
   "metadata": {},
   "source": [
    "## Modify the dictionary feature extraction part"
   ]
  },
  {
   "cell_type": "code",
   "execution_count": 3,
   "metadata": {},
   "outputs": [],
   "source": [
    "soma_hier10flip=pd.read_excel('/home/penglab/Documents/dataSource/soma_hier10flip.xlsx', index_col=0)\n",
    "soma_kmeans10flip=pd.read_excel('/home/penglab/Documents/dataSource/soma_kmeans10flip.xlsx', index_col=0)\n",
    "soma_dbscan10flip=pd.read_excel('/home/penglab/Documents/dataSource/soma_dbscan10flip.xlsx', index_col=0)\n",
    "soma_hdbscan10flip=pd.read_excel('/home/penglab/Documents/dataSource/soma_hdbscan10flip.xlsx', index_col=0)\n",
    "soma_snn10flip = pd.read_excel('/home/penglab/Documents/dataSource/soma_snn10flip.xlsx', index_col=0)"
   ]
  },
  {
   "cell_type": "code",
   "execution_count": 4,
   "metadata": {},
   "outputs": [],
   "source": [
    "def normalize(df, log=True):\n",
    "    scaled_data = np.array(df) / np.sum(df, axis=0).values.reshape(-1,1) * 100000\n",
    "    if log:\n",
    "        scaled_data = np.log(scaled_data+100)\n",
    "    scaled_dataDF = pd.DataFrame(scaled_data, index=df.index, columns=df.columns)\n",
    "    return scaled_dataDF"
   ]
  },
  {
   "cell_type": "markdown",
   "metadata": {},
   "source": [
    "### function Region_record(flipDF,cluster_method,somaDF,axonDF,pattern)\n",
    "* **flipDF** is the dataframe obtained by flipping the brain region,here use the ['parameter'] column\n",
    "* **cluster_method** can be 'Hierarchy','Kmeans', 'DBSCAN','HDBSCAN','' \n",
    "* **somaDF** is the dataframe containing the region of soma: ns.features['soma_features'].region\n",
    "* **axonDF** is the dataframe containing the region of axon: ns.features['projection_features'].raw_data"
   ]
  },
  {
   "cell_type": "code",
   "execution_count": 5,
   "metadata": {},
   "outputs": [],
   "source": [
    "import ast\n",
    "from scipy.spatial.distance import pdist, squareform\n",
    "import numpy as np\n",
    "import matplotlib as mpl\n",
    "from sklearn.metrics import pairwise_distances\n",
    "import matplotlib.pyplot as plt\n",
    "def Region_record(flipDF,cluster_method,somaDF,axonDF,normaF):\n",
    "    somaregionDF = somaDF.copy()\n",
    "    axonregionDF = axonDF.copy()      \n",
    "    df_pre = flipDF.copy()\n",
    "    df_pre = df_pre[df_pre['SC']!='below'].copy()\n",
    "    df_pre = df_pre[df_pre['SC']!='above'].copy()\n",
    "    df_pre.sort_values(by='ARI', ascending=False, inplace=True)\n",
    "    index_ls = df_pre.index[:1]\n",
    "    colname = ['V','ARI','AMI','SC','parameter','Cluster Num','soma Region List','axon Region List']\n",
    "    df = pd.DataFrame(columns = colname,index = index_ls)\n",
    "    df['parameter'] = df_pre.loc[index_ls,'parameter']\n",
    "    \n",
    "    #under each parameter\n",
    "    for iter_idx in df.index:\n",
    "        _ = ns. get_clusters(method = cluster_method,karg_dict = ast.literal_eval(df.loc[iter_idx]['parameter']))\n",
    "        somaregionDF['cluster'] = ns.metadata['Cluster']\n",
    "        axonregionDF['cluster'] = ns.metadata['Cluster']\n",
    "        V = metrics.v_measure_score(ns.metadata['CellType'],ns.metadata['Cluster'])\n",
    "        ARI = metrics.adjusted_rand_score(ns.metadata['CellType'],ns.metadata['Cluster'])\n",
    "        AMI = metrics.adjusted_mutual_info_score(ns.metadata['CellType'],ns.metadata['Cluster'])\n",
    "        typeR, typeC = np.unique(somaregionDF['cluster'] , return_counts = True)\n",
    "        if cluster_method == 'HDBSCAN':\n",
    "            delist=np.array([])\n",
    "            for itertype in typeR:\n",
    "                if itertype[1]=='-':\n",
    "                    delist = np.append(delist,itertype)\n",
    "                if itertype[1]=='0':\n",
    "                    delist=np.append(delist,itertype)\n",
    "            detailDF = pd.DataFrame(index = np.setdiff1d(typeR,delist),columns = ['swc list','soma region',\n",
    "                                                                                  'max soma','total soma',\n",
    "                                                                                  'max axon'])\n",
    "        else:\n",
    "            detailDF = pd.DataFrame(index = typeR,columns = ['swc list','soma region','max soma','total soma',\n",
    "                                                             'max axon'])\n",
    "        #detailDF.loc[:,'Cluster Type'] = detailDF.index\n",
    "        if len(typeR)<2:\n",
    "            SS = 'below'\n",
    "        elif len(typeR)>=ns.UMAP.shape[0]:\n",
    "            SS = 'above'\n",
    "        else:\n",
    "            SS = metrics.silhouette_score(ns.UMAP, ns.metadata['Cluster'], metric='sqeuclidean')\n",
    "            #LABEL LIST CAN BE DETELETED LATER\n",
    "\n",
    "\n",
    "        # for each cluster result UNDER EACH PARAMETER\n",
    "        somaCLUSTERlist = []\n",
    "        axonCLUSTERlist = []\n",
    "\n",
    "        #axonCLUSTER = pd.DataFrame(index = axonregionDF.columns[:-1])\n",
    "        for label_idx in detailDF.index:\n",
    "            axonTEMPdf = pd.DataFrame(index = axonregionDF.columns[:-1])\n",
    "            swcINlabel = somaregionDF[somaregionDF['cluster']==label_idx]\n",
    "            detailDF.loc[label_idx,'swc list'] = (swcINlabel.index).tolist()\n",
    "            #assert(len(inter_list)==somaDF[somaDF['cluster'] !=label_idx].shape[0])\n",
    "            detailDF.loc[label_idx,'soma region'] = swcINlabel['Region'].tolist()\n",
    "            del_soma_region=detailDF.loc[label_idx,'soma region']\n",
    "            while 'unknown' in del_soma_region:\n",
    "                del_soma_region.remove('unknown')\n",
    "                del_soma_region.append('others')\n",
    "            while 'fiber tracts' in del_soma_region:\n",
    "                del_soma_region.remove('fiber tracts')\n",
    "                del_soma_region.append('others')\n",
    "            IDrange, IDcounts = np.unique(del_soma_region, return_counts = True)\n",
    "            #sort the counting\n",
    "            count_sort_ind = np.argsort(-IDcounts)\n",
    "            dicitem = []\n",
    "            for i in range(1,min(len(IDrange)+1,4)):\n",
    "                dicitem.append(str(i)+'somaR')\n",
    "            for i in range(1,min(len(IDrange)+1,4)):\n",
    "                dicitem.append(str(i)+'somaC')\n",
    "            #select the first three regions\n",
    "            dicvalue = IDrange[count_sort_ind][0:min(3,len(IDrange))]\n",
    "            dicvalue = np.append(dicvalue,IDcounts[count_sort_ind][0:min(3,len(IDrange))])\n",
    "            detailDF.loc[label_idx,'max soma'] = str(dict(zip(dicitem, dicvalue)))\n",
    "            somaCLUSTERlist.append(detailDF.loc[label_idx,'max soma'] )\n",
    "            detailDF.loc[label_idx,'total soma'] = swcINlabel.shape[0]\n",
    "            \n",
    "            #axonLABEL stores all the rows under same cluster\n",
    "            axonLABEL = axonregionDF[axonregionDF['cluster']==label_idx].copy()\n",
    "            axonLABEL.drop('cluster', axis=1,inplace=True)\n",
    "            axonTEMPdf[label_idx]=axonLABEL.sum()\n",
    "            if 'contra_fiber tracts' in axonTEMPdf.index:\n",
    "                axonTEMPdf.drop(index=['contra_fiber tracts'],inplace = True)\n",
    "            if 'ipsi_fiber tracts' in axonTEMPdf.index:\n",
    "                axonTEMPdf.drop(index=['ipsi_fiber tracts'],inplace = True)\n",
    "            if normaF:\n",
    "                #normalize the sum\n",
    "                axonTEMPdf = normalize(axonTEMPdf , log=True)\n",
    "            axonTEMPdf.sort_values(by=label_idx, ascending=False, inplace=True)\n",
    "            dicitem = []\n",
    "            for i in range(1,4):\n",
    "                dicitem.append(str(i)+'axonR')\n",
    "            for i in range(1,4):\n",
    "                dicitem.append(str(i)+'axonC')\n",
    "            dicvalue = axonTEMPdf.index[:3]\n",
    "            dicvalue = np.append(dicvalue,axonTEMPdf.loc[:,label_idx][:3])\n",
    "            detailDF.loc[label_idx,'max axon'] = str(dict(zip(dicitem, dicvalue)))\n",
    "            axonCLUSTERlist.append(detailDF.loc[label_idx,'max axon'] )\n",
    "\n",
    "        df.loc[iter_idx,'soma Region List'] = somaCLUSTERlist\n",
    "        df.loc[iter_idx,'axon Region List'] = axonCLUSTERlist\n",
    "        df.loc[iter_idx,'Cluster Num'] = detailDF.shape[0]\n",
    "        df.loc[iter_idx,'V'] = V\n",
    "        df.loc[iter_idx,'ARI'] = ARI\n",
    "        df.loc[iter_idx,'AMI'] = AMI\n",
    "        df.loc[iter_idx,'SC'] = SS\n",
    "    return detailDF"
   ]
  },
  {
   "cell_type": "code",
   "execution_count": 6,
   "metadata": {},
   "outputs": [],
   "source": [
    "#hier_as = Region_record(soma_hier10flip.copy(),'Hierarchy',ns.features['soma_features'].region,ns.features['projection_features'].raw_data,1)\n",
    "#hier_as.to_excel('/home/penglab/Documents/dataSource/hier_as.xlsx')\n",
    "hier_as = pd.read_excel('/home/penglab/Documents/dataSource/hier_as.xlsx', index_col=0)\n",
    "\n",
    "#kmeans_as = Region_record(soma_kmeans10flip.copy(),'Kmeans',ns.features['soma_features'].region,ns.features['projection_features'].raw_data,1)\n",
    "#kmeans_as.to_excel('/home/penglab/Documents/dataSource/kmeans_as.xlsx')\n",
    "kmeans_as = pd.read_excel('/home/penglab/Documents/dataSource/kmeans_as.xlsx', index_col=0)\n",
    "\n",
    "#dbscan_as = Region_record(soma_dbscan10flip.copy(),'DBSCAN',ns.features['soma_features'].region,ns.features['projection_features'].raw_data,1)\n",
    "#dbscan_as.to_excel('/home/penglab/Documents/dataSource/dbscan_as.xlsx')\n",
    "dbscan_as = pd.read_excel('/home/penglab/Documents/dataSource/dbscan_as.xlsx', index_col=0)\n",
    "\n",
    "#hdbscan_as = Region_record(soma_hdbscan10flip.copy(),'HDBSCAN',ns.features['soma_features'].region,ns.features['projection_features'].raw_data,1)\n",
    "#hdbscan_as.to_excel('/home/penglab/Documents/dataSource/hdbscan_as.xlsx')\n",
    "hdbscan_as = pd.read_excel('/home/penglab/Documents/dataSource/hdbscan_as.xlsx', index_col=0)\n",
    "\n",
    "#snn_as = Region_record(soma_hdbscan10flip.copy(),'SNN_community',ns.features['soma_features'].region,ns.features['projection_features'].raw_data,1)\n",
    "#snn_as.to_excel('/home/penglab/Documents/dataSource/snn_as.xlsx')\n",
    "snn_as = pd.read_excel('/home/penglab/Documents/dataSource/snn_as.xlsx', index_col=0)"
   ]
  },
  {
   "cell_type": "markdown",
   "metadata": {},
   "source": [
    "## function fromSOMAtoAXON() will return a dataframe \n",
    "* first a DataFrame will be generated\n",
    "\n",
    "* **clusterDF** stores the information of clustering result, with columns ['swc list', 'soma region', 'max soma', 'total soma', 'max axon']\n"
   ]
  },
  {
   "cell_type": "code",
   "execution_count": 49,
   "metadata": {},
   "outputs": [],
   "source": [
    "def fromSOMAtoAXON(clusterDF) :\n",
    "    dfname=[]\n",
    "    for cluster_idx in clusterDF.index:\n",
    "        dfname.append((str(cluster_idx) + 'DF'))\n",
    "\n",
    "    #generate a dataframe for each cluster\n",
    "    dicDF = {k:None for k in dfname}\n",
    "\n",
    "    #iterate the correponding dataframe and cluster at the same time\n",
    "    for key_iter,cluster_idx in zip(dicDF.keys(),clusterDF.index):\n",
    "        dic_soma = ast.literal_eval(clusterDF.loc[cluster_idx,'max soma'])\n",
    "        iterL = int(len(dic_soma.keys())/2)\n",
    "        somaNAME = []\n",
    "        somaCOUNT = []\n",
    "\n",
    "        for i in range(1,int(iterL)+1):\n",
    "            somaNAME.append(dic_soma[(str(i)+'somaR')])\n",
    "        for i in range(1,iterL+1):\n",
    "            somaCOUNT.append(dic_soma[str(i)+'somaC'])\n",
    "        somaArr = np.array(somaCOUNT, dtype = float)\n",
    "        somaArr = somaArr/sum(somaArr)\n",
    "        dic_axon = ast.literal_eval(clusterDF.loc[cluster_idx,'max axon'])\n",
    "        iterL = int(len(dic_axon.keys())/2)\n",
    "        axonNAME = []\n",
    "        axonCOUNT = []\n",
    "        for i in range(1,iterL+1):\n",
    "            axonNAME.append(dic_axon[(str(i)+'axonR')])\n",
    "        for i in range(1,iterL+1):\n",
    "            axonCOUNT.append(dic_axon[str(i)+'axonC']) \n",
    "\n",
    "        tempDF = pd.DataFrame()\n",
    "        for row_soma in somaNAME:\n",
    "            for col_axon,len_axon in zip(axonNAME,axonCOUNT):\n",
    "                tempDF.loc[row_soma, col_axon] = len_axon\n",
    "\n",
    "        assert(tempDF.shape[0] == len(somaArr))  \n",
    "        tempDF=tempDF.astype(float)\n",
    "        for i in range(tempDF.shape[0]):\n",
    "            tempDF.iloc[i,:] = tempDF.iloc[i,:]*somaArr[i].copy()\n",
    "\n",
    "        newDF = pd.DataFrame(columns=['from','to','value'],index=range(tempDF.shape[0]*tempDF.shape[1]))\n",
    "        newDF.loc[:,'from'] = (tempDF.index).tolist()*len(tempDF.columns)\n",
    "        newDF.loc[:,'to'] = [ele for ele in (tempDF.columns).tolist() for _ in range(len(tempDF.index))]\n",
    "        valuelist=[]\n",
    "        for iter_col in tempDF.columns:\n",
    "            for iter_row in tempDF.index:\n",
    "                valuelist.append(tempDF.loc[iter_row,iter_col])\n",
    "        newDF.loc[:,'value']=valuelist\n",
    "        dicDF[key_iter]= newDF.copy()\n",
    "    return dicDF"
   ]
  },
  {
   "cell_type": "code",
   "execution_count": 50,
   "metadata": {},
   "outputs": [],
   "source": [
    "dicHIER = fromSOMAtoAXON(hier_as)\n",
    "dicKMEANS = fromSOMAtoAXON(kmeans_as)\n",
    "dicDBSCAN = fromSOMAtoAXON(dbscan_as)\n",
    "dicHDBSCAN = fromSOMAtoAXON(hdbscan_as)\n",
    "dicSNN = fromSOMAtoAXON(snn_as)\n"
   ]
  },
  {
   "cell_type": "code",
   "execution_count": 53,
   "metadata": {},
   "outputs": [
    {
     "name": "stdout",
     "output_type": "stream",
     "text": [
      "     from        to     value\n",
      "0  others  ipsi_PAG  5.593516\n",
      "1      ZI  ipsi_PAG  2.330632\n",
      "2     LHA  ipsi_PAG  1.631442\n",
      "3  others  ipsi_MRN  5.511542\n",
      "4      ZI  ipsi_MRN  2.296476\n",
      "5     LHA  ipsi_MRN  1.607533\n",
      "6  others  ipsi_SCm  5.090743\n",
      "7      ZI  ipsi_SCm  2.121143\n",
      "8     LHA  ipsi_SCm  1.484800\n",
      "  from         to      value\n",
      "0   PO   ipsi_MOs  10.084675\n",
      "1   PO  ipsi_ACAd   9.780293\n",
      "2   PO   ipsi_MOp   9.766318\n",
      "     from             to     value\n",
      "0  others    contra_VISp  6.885229\n",
      "1    VISl    contra_VISp  2.295076\n",
      "2    VISp    contra_VISp  1.147538\n",
      "3  others    contra_VISl  6.596685\n",
      "4    VISl    contra_VISl  2.198895\n",
      "5    VISp    contra_VISl  1.099448\n",
      "6  others  contra_VISpor  6.091460\n",
      "7    VISl  contra_VISpor  2.030487\n",
      "8    VISp  contra_VISpor  1.015243\n",
      "     from           to     value\n",
      "0  others  contra_VISp  5.510997\n",
      "1    VISp  contra_VISp  3.149141\n",
      "2    VISl  contra_VISp  1.574571\n",
      "3  others    contra_LP  5.267602\n",
      "4    VISp    contra_LP  3.010058\n",
      "5    VISl    contra_LP  1.505029\n",
      "6  others   contra_LGd  4.913934\n",
      "7    VISp   contra_LGd  2.807962\n",
      "8    VISl   contra_LGd  1.403981\n",
      "     from           to     value\n",
      "0    VISp  contra_VISp  4.786901\n",
      "1  others  contra_VISp  3.590176\n",
      "2    VISl  contra_VISp  2.393450\n",
      "3    VISp    ipsi_VISp  4.035140\n",
      "4  others    ipsi_VISp  3.026355\n",
      "5    VISl    ipsi_VISp  2.017570\n",
      "6    VISp  contra_VISl  3.954742\n",
      "7  others  contra_VISl  2.966057\n",
      "8    VISl  contra_VISl  1.977371\n",
      "     from             to      value\n",
      "0  others    contra_VISl  10.190572\n",
      "1  others    contra_VISp  10.003372\n",
      "2  others  contra_VISpor   9.624465\n",
      "     from             to      value\n",
      "0  others  contra_VISpor  10.198712\n",
      "1  others   contra_VISpl  10.034040\n",
      "2  others    contra_ENTm   9.781331\n",
      "   from           to     value\n",
      "0  CENT      ipsi_PR  3.314113\n",
      "1   CUL      ipsi_PR  3.314113\n",
      "2  POST      ipsi_PR  3.314113\n",
      "3  CENT  contra_RSPv  3.294578\n",
      "4   CUL  contra_RSPv  3.294578\n",
      "5  POST  contra_RSPv  3.294578\n",
      "6  CENT      ipsi_RE  3.208440\n",
      "7   CUL      ipsi_RE  3.208440\n",
      "8  POST      ipsi_RE  3.208440\n",
      "   from        to     value\n",
      "0  COPY   ipsi_IC  4.188993\n",
      "1   LHA   ipsi_IC  4.188993\n",
      "2    AN   ipsi_IC  2.094496\n",
      "3  COPY   ipsi_IP  3.343556\n",
      "4   LHA   ipsi_IP  3.343556\n",
      "5    AN   ipsi_IP  1.671778\n",
      "6  COPY  ipsi_MRN  3.288184\n",
      "7   LHA  ipsi_MRN  3.288184\n",
      "8    AN  ipsi_MRN  1.644092\n",
      "     from        to     value\n",
      "0      DG   ipsi_DG  6.479725\n",
      "1  others   ipsi_DG  2.591890\n",
      "2     BMA   ipsi_DG  1.295945\n",
      "3      DG  ipsi_CA3  5.784084\n",
      "4  others  ipsi_CA3  2.313634\n",
      "5     BMA  ipsi_CA3  1.156817\n",
      "6      DG  ipsi_CA1  5.480029\n",
      "7  others  ipsi_CA1  2.192011\n",
      "8     BMA  ipsi_CA1  1.096006\n",
      "   from          to     value\n",
      "0   MOs   contra_CP  7.064136\n",
      "1   MOp   contra_CP  0.996224\n",
      "2  ACAd   contra_CP  0.815093\n",
      "3   MOs   contra_MD  6.971830\n",
      "4   MOp   contra_MD  0.983207\n",
      "5  ACAd   contra_MD  0.804442\n",
      "6   MOs  contra_VAL  6.949096\n",
      "7   MOp  contra_VAL  0.980001\n",
      "8  ACAd  contra_VAL  0.801819\n",
      "  from        to     value\n",
      "0  VAL  ipsi_MOs  5.699800\n",
      "1  VPM  ipsi_MOs  2.322141\n",
      "2  MOs  ipsi_MOs  1.899933\n",
      "3  VAL  ipsi_MOp  5.646727\n",
      "4  VPM  ipsi_MOp  2.300518\n",
      "5  MOs  ipsi_MOp  1.882242\n",
      "6  VAL   ipsi_CP  5.359294\n",
      "7  VPM   ipsi_CP  2.183416\n",
      "8  MOs   ipsi_CP  1.786431\n",
      "     from           to     value\n",
      "0      MM    contra_CP  5.764103\n",
      "1      AN    contra_CP  2.161539\n",
      "2  others    contra_CP  1.441026\n",
      "3      MM  contra_AUDv  5.516717\n",
      "4      AN  contra_AUDv  2.068769\n",
      "5  others  contra_AUDv  1.379179\n",
      "6      MM   contra_SCm  5.462217\n",
      "7      AN   contra_SCm  2.048331\n",
      "8  others   contra_SCm  1.365554\n",
      "     from          to     value\n",
      "0  others  contra_GRN  5.662507\n",
      "1     IRN  contra_GRN  1.415627\n",
      "2     LHA  contra_GRN  1.415627\n",
      "3  others  contra_IRN  5.550498\n",
      "4     IRN  contra_IRN  1.387624\n",
      "5     LHA  contra_IRN  1.387624\n",
      "6  others    ipsi_GRN  5.477270\n",
      "7     IRN    ipsi_GRN  1.369317\n",
      "8     LHA    ipsi_GRN  1.369317\n",
      "     from          to     value\n",
      "0  others  contra_PIR  3.944088\n",
      "1    CENT  contra_PIR  2.629392\n",
      "2     LHA  contra_PIR  2.629392\n",
      "3  others   contra_AN  3.869058\n",
      "4    CENT   contra_AN  2.579372\n",
      "5     LHA   contra_AN  2.579372\n",
      "6  others    ipsi_IRN  3.620907\n",
      "7    CENT    ipsi_IRN  2.413938\n",
      "8     LHA    ipsi_IRN  2.413938\n",
      "  from         to     value\n",
      "0   FN    ipsi_VM  5.388285\n",
      "1  VAL    ipsi_VM  5.388285\n",
      "2   FN    ipsi_MV  4.684840\n",
      "3  VAL    ipsi_MV  4.684840\n",
      "4   FN  ipsi_SPIV  4.427618\n",
      "5  VAL  ipsi_SPIV  4.427618\n",
      "  from        to      value\n",
      "0   AN   ipsi_DN  11.240984\n",
      "1   AN   ipsi_AN   9.733455\n",
      "2   AN  ipsi_PRM   8.887013\n",
      "  from          to      value\n",
      "0   DG  contra_CA3  10.842687\n",
      "1   DG   contra_DG  10.800418\n",
      "2   DG    ipsi_FRP   4.605170\n",
      "  from          to     value\n",
      "0   DG  contra_CA3  9.954650\n",
      "1  CA1  contra_CA3  0.382871\n",
      "2  CA3  contra_CA3  0.382871\n",
      "3   DG   contra_DG  9.591075\n",
      "4  CA1   contra_DG  0.368888\n",
      "5  CA3   contra_DG  0.368888\n",
      "6   DG  contra_CA1  8.805146\n",
      "7  CA1  contra_CA1  0.338659\n",
      "8  CA3  contra_CA1  0.338659\n",
      "   from          to     value\n",
      "0   PRE   contra_AV  3.992774\n",
      "1   SUB   contra_AV  3.992774\n",
      "2  ProS   contra_AV  1.996387\n",
      "3   PRE  contra_CA1  3.743548\n",
      "4   SUB  contra_CA1  3.743548\n",
      "5  ProS  contra_CA1  1.871774\n",
      "6   PRE  contra_SUB  3.566107\n",
      "7   SUB  contra_SUB  3.566107\n",
      "8  ProS  contra_SUB  1.783053\n",
      "  from           to      value\n",
      "0  CA1   contra_CA1  11.509884\n",
      "1  CA1  contra_ProS   6.221878\n",
      "2  CA1     ipsi_FRP   4.605170\n",
      "   from           to     value\n",
      "0   PRE  contra_ENTm  6.580083\n",
      "1  POST  contra_ENTm  2.330446\n",
      "2   SUB  contra_ENTm  1.370851\n",
      "3   PRE    ipsi_ENTm  6.485767\n",
      "4  POST    ipsi_ENTm  2.297042\n",
      "5   SUB    ipsi_ENTm  1.351201\n",
      "6   PRE    ipsi_ENTl  5.816651\n",
      "7  POST    ipsi_ENTl  2.060064\n",
      "8   SUB    ipsi_ENTl  1.211802\n",
      "   from           to     value\n",
      "0  ACAv    ipsi_SPIV  5.002717\n",
      "1  SPIV    ipsi_SPIV  5.002717\n",
      "2  ACAv   contra_PAG  4.923007\n",
      "3  SPIV   contra_PAG  4.923007\n",
      "4  ACAv  contra_ACAv  4.662572\n",
      "5  SPIV  contra_ACAv  4.662572\n",
      "     from           to     value\n",
      "0     SUB   contra_SUB  5.962001\n",
      "1  others   contra_SUB  1.928883\n",
      "2    ProS   contra_SUB  1.578177\n",
      "3     SUB  contra_RSPv  5.845616\n",
      "4  others  contra_RSPv  1.891229\n",
      "5    ProS  contra_RSPv  1.547369\n",
      "6     SUB  contra_POST  5.737432\n",
      "7  others  contra_POST  1.856228\n",
      "8    ProS  contra_POST  1.518732\n",
      "     from           to     value\n",
      "0     CA1   contra_SUB  4.445886\n",
      "1     SUB   contra_SUB  3.556709\n",
      "2  others   contra_SUB  1.778355\n",
      "3     CA1   contra_CA1  4.436717\n",
      "4     SUB   contra_CA1  3.549374\n",
      "5  others   contra_CA1  1.774687\n",
      "6     CA1  contra_ProS  4.328831\n",
      "7     SUB  contra_ProS  3.463065\n",
      "8  others  contra_ProS  1.731532\n",
      "   from          to     value\n",
      "0   CA3  contra_CA1  4.596024\n",
      "1   SUB  contra_CA1  3.447018\n",
      "2  ProS  contra_CA1  2.298012\n",
      "3   CA3    ipsi_CA1  4.586001\n",
      "4   SUB    ipsi_CA1  3.439501\n",
      "5  ProS    ipsi_CA1  2.293001\n",
      "6   CA3  contra_CA3  3.823509\n",
      "7   SUB  contra_CA3  2.867632\n",
      "8  ProS  contra_CA3  1.911755\n",
      "  from         to      value\n",
      "0  SUB  contra_AV  10.661938\n",
      "1  SUB  contra_LD   9.633137\n",
      "2  SUB  contra_AD   8.554591\n",
      "  from          to     value\n",
      "0  SUB  contra_CA1  6.385150\n",
      "1  CA1  contra_CA1  2.554060\n",
      "2  PRE  contra_CA1  1.277030\n",
      "3  SUB   contra_AV  5.858585\n",
      "4  CA1   contra_AV  2.343434\n",
      "5  PRE   contra_AV  1.171717\n",
      "6  SUB   contra_AM  5.739190\n",
      "7  CA1   contra_AM  2.295676\n",
      "8  PRE   contra_AM  1.147838\n",
      "  from          to      value\n",
      "0  SUB   contra_AM  10.412248\n",
      "1  SUB  contra_LSr   9.109622\n",
      "2  SUB     ipsi_AM   9.034556\n",
      "  from            to     value\n",
      "0   CL      ipsi_MOs  5.319199\n",
      "1  MOp      ipsi_MOs  2.659600\n",
      "2  MOs      ipsi_MOs  2.659600\n",
      "3   CL  ipsi_SSp-bfd  4.843443\n",
      "4  MOp  ipsi_SSp-bfd  2.421722\n",
      "5  MOs  ipsi_SSp-bfd  2.421722\n",
      "6   CL       ipsi_CP  4.567537\n",
      "7  MOp       ipsi_CP  2.283769\n",
      "8  MOs       ipsi_CP  2.283769\n",
      "   from          to     value\n",
      "0   MOs   contra_CP  8.479919\n",
      "1   MOp   contra_CP  0.793443\n",
      "2  ACAd   contra_CP  0.595082\n",
      "3   MOs  contra_MOs  8.420793\n",
      "4   MOp  contra_MOs  0.787910\n",
      "5  ACAd  contra_MOs  0.590933\n",
      "6   MOs     ipsi_CP  8.117418\n",
      "7   MOp     ipsi_CP  0.759524\n",
      "8  ACAd     ipsi_CP  0.569643\n",
      "  from        to     value\n",
      "0  MOs  ipsi_MOs  4.537097\n",
      "1  MOp  ipsi_MOs  2.722258\n",
      "2  VAL  ipsi_MOs  2.722258\n",
      "3  MOs  ipsi_MOp  4.379656\n",
      "4  MOp  ipsi_MOp  2.627794\n",
      "5  VAL  ipsi_MOp  2.627794\n",
      "6  MOs   ipsi_CP  4.061012\n",
      "7  MOp   ipsi_CP  2.436607\n",
      "8  VAL   ipsi_CP  2.436607\n",
      "  from           to     value\n",
      "0   VM     ipsi_MOs  5.271646\n",
      "1  MOp     ipsi_MOs  2.635823\n",
      "2  MOs     ipsi_MOs  2.635823\n",
      "3   VM     ipsi_MOp  5.062256\n",
      "4  MOp     ipsi_MOp  2.531128\n",
      "5  MOs     ipsi_MOp  2.531128\n",
      "6   VM  ipsi_SSp-ll  4.485112\n",
      "7  MOp  ipsi_SSp-ll  2.242556\n",
      "8  MOs  ipsi_SSp-ll  2.242556\n",
      "  from          to      value\n",
      "0  MOp    ipsi_MOp  10.802221\n",
      "1  MOp    ipsi_SSs   9.513889\n",
      "2  MOp  contra_MOp   9.310633\n",
      "   from            to     value\n",
      "0   MOs      ipsi_MOs  4.150268\n",
      "1   VAL      ipsi_MOs  4.150268\n",
      "2  ACAd      ipsi_MOs  2.075134\n",
      "3   MOs     ipsi_ACAd  3.900731\n",
      "4   VAL     ipsi_ACAd  3.900731\n",
      "5  ACAd     ipsi_ACAd  1.950365\n",
      "6   MOs  ipsi_SSp-bfd  3.702396\n",
      "7   VAL  ipsi_SSp-bfd  3.702396\n",
      "8  ACAd  ipsi_SSp-bfd  1.851198\n"
     ]
    }
   ],
   "source": [
    "for iter_key in dicHIER.keys():\n",
    "    tempDF = dicHIER[iter_key]\n",
    "    print(tempDF)"
   ]
  },
  {
   "cell_type": "code",
   "execution_count": null,
   "metadata": {},
   "outputs": [],
   "source": [
    "for iter_key in dicHIER.keys():\n",
    "    tempDF = dicHIER[iter_key]\n",
    "    print(tempDF)\n",
    "    #(tempDF).to_csv('/home/penglab/Documents/dataSource/dfSET/HIER/'+str(iter_key)+'.csv')"
   ]
  },
  {
   "cell_type": "markdown",
   "metadata": {},
   "source": [
    "## Add abbreviation information to mouseDF"
   ]
  },
  {
   "cell_type": "code",
   "execution_count": 7,
   "metadata": {},
   "outputs": [],
   "source": [
    "\n",
    "mouseDF = pd.read_excel('/home/penglab/Documents/dataSource/mouseDF.xlsx',index=0)\n",
    "abbrlist = []\n",
    "for i in mouseDF.loc[:,'idx']:\n",
    "    if i in nmt.bs.level.index:\n",
    "        abbr = nmt.bs.level.loc[i,'Abbrevation']\n",
    "        abbrlist.append(abbr)\n",
    "    else:\n",
    "        print(i)\n",
    "        abbrlist.append('unknown')\n",
    "mouseDF.loc[:,'ABBR']=abbrlist\n",
    "del mouseDF[1]\n",
    "mouseDF.set_index(['idx'],inplace=True)"
   ]
  },
  {
   "cell_type": "markdown",
   "metadata": {},
   "source": [
    "## Defining color code\n",
    "\n",
    "### Isocortex, OLF, HPF, CTXsp, CNU, BS, CB's childregion will have same color \n",
    "\n",
    "ONLY CARE ABOUT THE LARGE-VOLUME REGION, colorlist is a range of distint colors.\n",
    "\n",
    "### For ribbon color, use RibbonColor to store all the color code for ribbons\n",
    "### For link color, use LinkColor to store  all the color code for links"
   ]
  },
  {
   "cell_type": "code",
   "execution_count": 9,
   "metadata": {},
   "outputs": [],
   "source": [
    "fullbs = nmt.brain_structure('/home/penglab/Documents/data/Mouse.csv')"
   ]
  },
  {
   "cell_type": "code",
   "execution_count": 12,
   "metadata": {},
   "outputs": [],
   "source": [
    "large_list = [ 'BS', 'CB','CNU', 'CTXsp', 'HPF','Isocortex', 'OLF']\n",
    "\n",
    "colorDIC = {}\n",
    "        \n",
    "for B_iter in large_list :\n",
    "    temp=[]\n",
    "    if nmt.bs.name_to_id(B_iter) in mouseDF.index:\n",
    "        for child_iter in mouseDF.loc[nmt.bs.name_to_id(B_iter),'Child ID'].split():\n",
    "            temp.append(fullbs .level.loc[int(child_iter),'Abbrevation'])\n",
    "    colorDIC[\"region{0}\".format(B_iter)]=temp       \n"
   ]
  },
  {
   "cell_type": "code",
   "execution_count": 86,
   "metadata": {},
   "outputs": [],
   "source": [
    "colorlist=[\"#7FC97F\",\"#BEAED4\",\"#FDC086\",\"#FFFF99\",\"#386CB0\",\"#F0027F\",\"#BF5B17\",\"#666666\",\"#1B9E77\",\"#D95F02\",\n",
    "           \"#7570B3\",\"#E7298A\",\"#66A61E\",\"#E6AB02\",\"#A6761D\",\"#666666\",\"#A6CEE3\",\"#1F78B4\",\"#B2DF8A\",\"#33A02C\",\n",
    "           \"#FB9A99\",\"#E31A1C\",\"#FDBF6F\",\"#FF7F00\",\"#CAB2D6\",\"#6A3D9A\",\"#FFFF99\",\"#B15928\",\"#FBB4AE\",\"#B3CDE3\",\n",
    "           \"#CCEBC5\",\"#DECBE4\",\"#FED9A6\",\"#FFFFCC\",\"#E5D8BD\",\"#FDDAEC\",\"#F2F2F2\",\"#B3E2CD\",\"#FDCDAC\",\"#CBD5E8\",\n",
    "           \"#F4CAE4\",\"#E6F5C9\",\"#FFF2AE\",\"#F1E2CC\",\"#CCCCCC\",\"#E41A1C\",\"#377EB8\",\"#4DAF4A\",\"#984EA3\",\"#FF7F00\",\n",
    "           \"#FFFF33\",\"#A65628\",\"#F781BF\",\"#999999\",\"#66C2A5\",\"#FC8D62\",\"#8DA0CB\",\"#E78AC3\",\"#A6D854\",\"#FFD92F\",\n",
    "           \"#E5C494\",\"#B3B3B3\",\"#8DD3C7\",\"#FFFFB3\",\"#BEBADA\",\"#FB8072\",\"#80B1D3\",\"#FDB462\",\"#B3DE69\",\"#FCCDE5\",\n",
    "           \"#D9D9D9\",\"#BC80BD\",\"#CCEBC5\"]"
   ]
  },
  {
   "cell_type": "code",
   "execution_count": 265,
   "metadata": {},
   "outputs": [
    {
     "data": {
      "text/plain": [
       "73"
      ]
     },
     "execution_count": 265,
     "metadata": {},
     "output_type": "execute_result"
    }
   ],
   "source": [
    "for i in colorlist:\n",
    "    "
   ]
  },
  {
   "cell_type": "code",
   "execution_count": 87,
   "metadata": {},
   "outputs": [],
   "source": [
    "\n",
    "\n",
    "RibbonColor = pd.DataFrame(index = ['others'],columns=['name','RibbonC'])\n",
    "RibbonColor.loc['others','name'] = 'others'\n",
    "RibbonColor.loc['others','RibbonC'] = \"#FFED6F\"\n",
    "ii=0\n",
    "for iterkey in colorDIC.keys():\n",
    "    idxlist=[]\n",
    "    for i in colorDIC[iterkey]:\n",
    "        idxlist.append('ipsi_'+i)\n",
    "        idxlist.append(i)\n",
    "        idxlist.append('contra_'+i)\n",
    "    tempDF = pd.DataFrame()\n",
    "    tempDF['name']=idxlist\n",
    "    tempDF.set_index(['name'], drop=False, append=False, inplace=True, verify_integrity=False)\n",
    "    tempDF.loc[:,'RibbonC']=colorlist[ii]\n",
    "    RibbonColor = RibbonColor.append(tempDF)\n",
    "    ii=ii+1\n",
    "\n",
    "\n",
    "\n"
   ]
  },
  {
   "cell_type": "code",
   "execution_count": 102,
   "metadata": {},
   "outputs": [],
   "source": [
    "def CheckRibboncolor(dicDF,ii,RibbonColor):\n",
    "    ii=7\n",
    "    for iter_key in dicDF.keys():\n",
    "        tempDF = dicDF[iter_key]\n",
    "    for itername in tempDF.loc[:,'from']:\n",
    "        if itername not in RibbonColor.index:\n",
    "            print(itername)\n",
    "            tempDF = pd.DataFrame()\n",
    "            tempDF['name']=idxlist\n",
    "            tempDF.set_index(['name'], drop=False, append=False, inplace=True, verify_integrity=False)\n",
    "            tempDF.loc[:,'RibbonC']=colorlist[ii]\n",
    "            RibbonColor = RibbonColor.append(tempDF)\n",
    "            ii=ii+1\n",
    "    for itername in tempDF.loc[:,'to']:\n",
    "        if itername not in RibbonColor.index:\n",
    "            print(itername)\n",
    "            tempDF = pd.DataFrame()\n",
    "            tempDF['name']=idxlist\n",
    "            tempDF.set_index(['name'], drop=False, append=False, inplace=True, verify_integrity=False)\n",
    "            tempDF.loc[:,'RibbonC']=colorlist[ii]\n",
    "            RibbonColor = RibbonColor.append(tempDF)\n",
    "            ii+1\n",
    "    print(ii)\n",
    "        "
   ]
  },
  {
   "cell_type": "markdown",
   "metadata": {},
   "source": [
    "#### Now after checking, we are sure that dataframe RibbonColor contains all the region appearing."
   ]
  },
  {
   "cell_type": "code",
   "execution_count": 263,
   "metadata": {},
   "outputs": [
    {
     "name": "stdout",
     "output_type": "stream",
     "text": [
      "57\n"
     ]
    }
   ],
   "source": [
    "ii=7\n",
    "\n",
    "LinkColor = pd.DataFrame(index = ['others'],columns=['from','to','LinkC'])\n",
    "LinkColor.loc['others','from'] = 'others'\n",
    "LinkColor.loc['others','to'] = 'others'\n",
    "LinkColor.loc['others','LinkC'] = colorlist[ii]\n",
    "ii=ii+1\n",
    "for iterkey1 in colorDIC.keys():\n",
    "    fromlist=[]\n",
    "    for i1 in colorDIC[iterkey1]:\n",
    "        fromlist.append(i1)\n",
    "    fromlist.append('others')\n",
    "    for iterkey2 in colorDIC.keys():\n",
    "        tempFROMlist = fromlist.copy()\n",
    "        tolist=[]\n",
    "        for i2 in colorDIC[iterkey2]:\n",
    "            tolist.append('ipsi_'+i2)\n",
    "            tolist.append('contra_'+i2)\n",
    "        tempFROMlist =[ele for ele in tempFROMlist for _ in range(len(tolist))].copy() \n",
    "        tolist = (tolist*(len(fromlist))).copy()\n",
    "        tempDF = pd.DataFrame()\n",
    "        tempDF['from'] = tempFROMlist\n",
    "        tempDF['to']=tolist\n",
    "        tempDF.set_index(['from'], drop=False, append=False, inplace=True, verify_integrity=False)\n",
    "        tempDF.loc[:,'LinkC'] = colorlist[ii]\n",
    "        LinkColor = LinkColor.append(tempDF)\n",
    "        ii=ii+1\n",
    "print(ii)"
   ]
  },
  {
   "cell_type": "code",
   "execution_count": 264,
   "metadata": {},
   "outputs": [],
   "source": [
    "LinkColor.to_csv('/home/penglab/Documents/dataSource/LinkColor.csv')\n",
    "RibbonColor.to_csv('/home/penglab/Documents/dataSource/RibbonColor.csv')"
   ]
  },
  {
   "cell_type": "code",
   "execution_count": 256,
   "metadata": {},
   "outputs": [],
   "source": [
    "def CheckLinkcolor(dicDF):\n",
    "    for iter_key in dicDF.keys():\n",
    "        tempDF = dicDF[iter_key]\n",
    "    for idx in tempDF.index:\n",
    "        rowsuit \n"
   ]
  },
  {
   "cell_type": "code",
   "execution_count": 259,
   "metadata": {},
   "outputs": [
    {
     "data": {
      "text/plain": [
       "Index(['from', 'to', 'LinkC'], dtype='object')"
      ]
     },
     "execution_count": 259,
     "metadata": {},
     "output_type": "execute_result"
    }
   ],
   "source": [
    "LinkColor.columns"
   ]
  },
  {
   "cell_type": "code",
   "execution_count": 237,
   "metadata": {},
   "outputs": [],
   "source": [
    "ii=7\n",
    "\n",
    "LinkColor = pd.DataFrame(index = ['others'],columns=['from','to','LinkC'])\n",
    "LinkColor.loc['others','from'] = 'others'\n",
    "LinkColor.loc['others','to'] = 'others'\n",
    "LinkColor.loc['others','LinkC'] = colorlist[ii]\n",
    "ii=ii+1\n",
    "fromlist=[]\n",
    "i=2\n",
    "while i <= RibbonColor.shape[0]:\n",
    "    fromlist.append(RibbonColor.index[i])\n",
    "    i=i+3\n",
    "tolist=[]\n",
    "ii=1\n",
    "while ii < RibbonColor.shape[0]:\n",
    "    tolist.append(RibbonColor.index[ii])\n",
    "    tolist.append(RibbonColor.index[ii+2])\n",
    "    ii=ii+3\n"
   ]
  },
  {
   "cell_type": "code",
   "execution_count": 260,
   "metadata": {},
   "outputs": [
    {
     "data": {
      "text/html": [
       "<div>\n",
       "<style scoped>\n",
       "    .dataframe tbody tr th:only-of-type {\n",
       "        vertical-align: middle;\n",
       "    }\n",
       "\n",
       "    .dataframe tbody tr th {\n",
       "        vertical-align: top;\n",
       "    }\n",
       "\n",
       "    .dataframe thead th {\n",
       "        text-align: right;\n",
       "    }\n",
       "</style>\n",
       "<table border=\"1\" class=\"dataframe\">\n",
       "  <thead>\n",
       "    <tr style=\"text-align: right;\">\n",
       "      <th></th>\n",
       "      <th>from</th>\n",
       "      <th>to</th>\n",
       "      <th>LinkC</th>\n",
       "    </tr>\n",
       "  </thead>\n",
       "  <tbody>\n",
       "    <tr>\n",
       "      <th>MM</th>\n",
       "      <td>MM</td>\n",
       "      <td>contra_VISp</td>\n",
       "      <td>#E6AB02</td>\n",
       "    </tr>\n",
       "  </tbody>\n",
       "</table>\n",
       "</div>"
      ],
      "text/plain": [
       "   from           to    LinkC\n",
       "MM   MM  contra_VISp  #E6AB02"
      ]
     },
     "execution_count": 260,
     "metadata": {},
     "output_type": "execute_result"
    }
   ],
   "source": [
    "row = LinkColor[LinkColor['from']==\"MM\"].copy()\n",
    "row = row[row['to']== \"contra_VISp\"].copy()\n",
    "row"
   ]
  },
  {
   "cell_type": "code",
   "execution_count": 241,
   "metadata": {},
   "outputs": [
    {
     "data": {
      "text/plain": [
       "2402432"
      ]
     },
     "execution_count": 241,
     "metadata": {},
     "output_type": "execute_result"
    }
   ],
   "source": [
    "len(fromlist)*len(tolist)"
   ]
  },
  {
   "cell_type": "code",
   "execution_count": 244,
   "metadata": {},
   "outputs": [
    {
     "data": {
      "text/plain": [
       "(2402433, 3)"
      ]
     },
     "execution_count": 244,
     "metadata": {},
     "output_type": "execute_result"
    }
   ],
   "source": [
    "LinkColor.shape"
   ]
  },
  {
   "cell_type": "code",
   "execution_count": 218,
   "metadata": {},
   "outputs": [
    {
     "data": {
      "text/plain": [
       "3289"
      ]
     },
     "execution_count": 218,
     "metadata": {},
     "output_type": "execute_result"
    }
   ],
   "source": [
    "RibbonColor.shape[0]"
   ]
  },
  {
   "cell_type": "code",
   "execution_count": 258,
   "metadata": {},
   "outputs": [],
   "source": []
  },
  {
   "cell_type": "code",
   "execution_count": 28,
   "metadata": {},
   "outputs": [],
   "source": [
    "RibbonColor = pd.DataFrame()\n",
    "RibbonColor['name']=idxlist\n",
    "RibbonColor.set_index(['name'], drop=False, append=False, inplace=True, verify_integrity=False)"
   ]
  },
  {
   "cell_type": "code",
   "execution_count": 33,
   "metadata": {},
   "outputs": [
    {
     "data": {
      "text/plain": [
       "'#CCCDD1'"
      ]
     },
     "execution_count": 33,
     "metadata": {},
     "output_type": "execute_result"
    }
   ],
   "source": [
    "import random\n",
    "_HEX = '0123456789ABCDEF'\n",
    "def startcolor():\n",
    "    return '#' + ''.join(random.choice(_HEX) for _ in range(6))\n",
    "startcolor()"
   ]
  }
 ],
 "metadata": {
  "kernelspec": {
   "display_name": "Python 3",
   "language": "python",
   "name": "python3"
  },
  "language_info": {
   "codemirror_mode": {
    "name": "ipython",
    "version": 3
   },
   "file_extension": ".py",
   "mimetype": "text/x-python",
   "name": "python",
   "nbconvert_exporter": "python",
   "pygments_lexer": "ipython3",
   "version": "3.7.3"
  }
 },
 "nbformat": 4,
 "nbformat_minor": 2
}
