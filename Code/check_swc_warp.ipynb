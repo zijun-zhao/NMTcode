{
 "cells": [
  {
   "cell_type": "code",
   "execution_count": 17,
   "metadata": {},
   "outputs": [],
   "source": [
    "import os\n",
    "import shutil\n",
    "path = '/home/penglab/Documents/result/lulu'\n",
    "\n",
    "for i_folder in os.listdir(path):\n",
    "    for i_subfolder in os.listdir(os.path.join(path,i_folder)):\n",
    "        if i_subfolder == 'stps':\n",
    "            temp_path = os.path.join(os.path.join(path,i_folder),i_subfolder)\n",
    "            for i_swc in os.listdir(temp_path):\n",
    "                if i_swc.find(\"_affine_affine\") > 0:\n",
    "                    os.rename(os.path.join(temp_path, i_swc), os.path.join(temp_path, i_swc.replace(\"_affine_affine\", \"_affine_stps\")))\n",
    "            for i_swc in os.listdir(temp_path):\n",
    "                oldname = os.path.join(temp_path, i_swc)\n",
    "                newname = os.path.join('/home/penglab/Documents/data/Result', i_swc)\n",
    "                shutil.copyfile(oldname,newname)"
   ]
  },
  {
   "cell_type": "code",
   "execution_count": 18,
   "metadata": {},
   "outputs": [],
   "source": [
    "import os\n",
    "import shutil\n",
    "path = '/home/penglab/Documents/result/sc_95'\n",
    "\n",
    "for i_folder in os.listdir(path):\n",
    "    for i_subfolder in os.listdir(os.path.join(path,i_folder)):\n",
    "        if i_subfolder == 'stps':\n",
    "            temp_path = os.path.join(os.path.join(path,i_folder),i_subfolder)\n",
    "            for i_swc in os.listdir(temp_path):\n",
    "                if i_swc.find(\"_affine_affine\") > 0:\n",
    "                    os.rename(os.path.join(temp_path, i_swc), os.path.join(temp_path, i_swc.replace(\"_affine_affine\", \"_affine_stps\")))\n",
    "            for i_swc in os.listdir(temp_path):\n",
    "                oldname = os.path.join(temp_path, i_swc)\n",
    "                newname = os.path.join('/home/penglab/Documents/data/Result', i_swc)\n",
    "                shutil.copyfile(oldname,newname)"
   ]
  },
  {
   "cell_type": "code",
   "execution_count": 19,
   "metadata": {},
   "outputs": [],
   "source": [
    "import os\n",
    "import shutil\n",
    "path = '/run/media/penglab/FISHZHAO/new_neurons/result/panleft_209'\n",
    "count = 0\n",
    "for i_folder in os.listdir(path):\n",
    "    for i_subfolder in os.listdir(os.path.join(path,i_folder)):\n",
    "        if i_subfolder == 'stps':\n",
    "            temp_path = os.path.join(os.path.join(path,i_folder),i_subfolder)\n",
    "            for i_swc in os.listdir(temp_path):\n",
    "                if i_swc.find(\"_affine_affine\") > 0:\n",
    "                    os.rename(os.path.join(temp_path, i_swc), os.path.join(temp_path, i_swc.replace(\"_affine_affine\", \"_affine_stps\")))\n",
    "            for i_swc in os.listdir(temp_path):\n",
    "                oldname = os.path.join(temp_path, i_swc)\n",
    "                newname = os.path.join('/home/penglab/Documents/data/Result', i_swc)\n",
    "                count = count +1\n",
    "                shutil.copyfile(oldname,newname)"
   ]
  },
  {
   "cell_type": "code",
   "execution_count": 36,
   "metadata": {},
   "outputs": [
    {
     "data": {
      "text/plain": [
       "0"
      ]
     },
     "execution_count": 36,
     "metadata": {},
     "output_type": "execute_result"
    }
   ],
   "source": [
    "import os\n",
    "import shutil\n",
    "path = '/home/penglab/Documents/result/panpan'\n",
    "count = 0\n",
    "for i_folder in os.listdir(path):\n",
    "    for i_subfolder in os.listdir(os.path.join(path,i_folder)):\n",
    "        if i_subfolder == 'stps':\n",
    "            temp_path = os.path.join(os.path.join(path,i_folder),i_subfolder)\n",
    "            for i_swc in os.listdir(temp_path):\n",
    "                if i_swc.find(\"_affine_affine\") > 0:\n",
    "                    os.rename(os.path.join(temp_path, i_swc), os.path.join(temp_path, i_swc.replace(\"_affine_affine\", \"_affine_stps\")))\n",
    "            for i_swc in os.listdir(temp_path):\n",
    "                oldname = os.path.join(temp_path, i_swc)\n",
    "                newname = os.path.join('/home/penglab/Documents/data/Result', i_swc)\n",
    "                count = count +1\n",
    "                shutil.copyfile(oldname,newname)"
   ]
  },
  {
   "cell_type": "code",
   "execution_count": 39,
   "metadata": {},
   "outputs": [
    {
     "data": {
      "text/plain": [
       "'/home/penglab/Documents/result/allien/17302'"
      ]
     },
     "execution_count": 39,
     "metadata": {},
     "output_type": "execute_result"
    }
   ],
   "source": [
    "os.path.join(path,i_folder)"
   ]
  },
  {
   "cell_type": "code",
   "execution_count": 40,
   "metadata": {},
   "outputs": [],
   "source": []
  },
  {
   "cell_type": "code",
   "execution_count": 41,
   "metadata": {},
   "outputs": [
    {
     "data": {
      "text/plain": [
       "0"
      ]
     },
     "execution_count": 41,
     "metadata": {},
     "output_type": "execute_result"
    }
   ],
   "source": [
    "/home/penglab/Documents/result/aliean2"
   ]
  },
  {
   "cell_type": "code",
   "execution_count": 20,
   "metadata": {},
   "outputs": [
    {
     "data": {
      "text/plain": [
       "30"
      ]
     },
     "execution_count": 20,
     "metadata": {},
     "output_type": "execute_result"
    }
   ],
   "source": [
    "### Till now, results from panleft, lulu, shichen is 57"
   ]
  },
  {
   "cell_type": "markdown",
   "metadata": {},
   "source": [
    "## What to do next\n",
    "* Find out a list of finished neurons 183 in total\n",
    "* For all the unfinished neurons(without stps results)\n",
    "    * Find the affine finished list\n",
    "        * MOVE FILE ACCORDINGLY"
   ]
  },
  {
   "cell_type": "code",
   "execution_count": 31,
   "metadata": {},
   "outputs": [],
   "source": [
    "List_fini = []\n",
    "\n",
    "for i_swc in os.listdir('/home/penglab/Documents/data/Result'):\n",
    "    if i_swc.endswith(\"stps.swc\"):\n",
    "        (filename,extension) = os.path.splitext(i_swc)\n",
    "        (filename,extension) = os.path.splitext(filename)\n",
    "        (filename,extension) = os.path.splitext(filename)\n",
    "        List_fini.append(filename)"
   ]
  },
  {
   "cell_type": "code",
   "execution_count": 25,
   "metadata": {
    "scrolled": true
   },
   "outputs": [
    {
     "name": "stdout",
     "output_type": "stream",
     "text": [
      "18457_00008\n",
      "18457_00009\n",
      "18457_00012\n",
      "18457_00013\n",
      "18457_00014\n",
      "18457_00015\n",
      "18457_00025\n",
      "18457_00029\n",
      "18457_00030\n",
      "18457_00031\n",
      "18457_00032\n",
      "18457_00033\n",
      "18457_00038\n",
      "18457_00039\n",
      "18457_00040\n",
      "18457_00043\n",
      "18457_00044\n",
      "18457_00045\n",
      "18457_00046\n",
      "18457_00047\n",
      "18457_00048\n",
      "18457_00049\n",
      "18457_00053\n",
      "18457_00056\n",
      "18457_00061\n",
      "18457_00062\n",
      "18457_00063\n",
      "18457_00064\n",
      "18457_00074\n",
      "18457_00075\n",
      "18457_00077\n",
      "18457_00078\n",
      "18457_00079\n",
      "18457_00088\n",
      "18457_00096\n",
      "18457_00097\n",
      "18457_00098\n",
      "18457_00099\n",
      "18457_00101\n",
      "18457_00102\n",
      "18457_00103\n",
      "18457_00106\n",
      "18457_00108\n",
      "18457_00110\n",
      "18457_00114\n",
      "18457_00115\n",
      "18457_00116\n",
      "18457_00117\n",
      "18457_00119\n",
      "18457_00120\n",
      "18457_00121\n",
      "18457_00122\n",
      "18457_00123\n",
      "18457_00129\n",
      "18457_00170\n",
      "18457_00184\n",
      "18458_00049\n",
      "18458_00050\n",
      "18458_00051\n",
      "18458_00075\n",
      "18458_00101\n",
      "18458_00241\n",
      "18458_00242\n",
      "18458_00612\n",
      "18458_00613\n",
      "18464_00196\n",
      "18464_00197\n",
      "18464_00198\n"
     ]
    }
   ],
   "source": [
    "import os\n",
    "import shutil\n",
    "path = '/home/penglab/Documents/result/sc_95_17'\n",
    "\n",
    "for i_folder in os.listdir(path):\n",
    "    for i_subfolder in os.listdir(os.path.join(path,i_folder)):\n",
    "        if i_subfolder == 'affine':\n",
    "            temp_path = os.path.join(os.path.join(path,i_folder),i_subfolder)\n",
    "            for i_swc in os.listdir(temp_path):\n",
    "                (filename,extension) = os.path.splitext(i_swc)\n",
    "                (filename,extension) = os.path.splitext(filename)\n",
    "                (filename,extension) = os.path.splitext(filename)\n",
    "                if i_swc.endswith(\"affine.swc\") and filename not in List_fini:    \n",
    "                    print(filename)\n",
    "                    oldname = os.path.join(temp_path, i_swc)\n",
    "                    newname = os.path.join('/home/penglab/Documents/result/unfinished_affine', i_swc)\n",
    "                    shutil.copyfile(oldname,newname)"
   ]
  },
  {
   "cell_type": "code",
   "execution_count": 27,
   "metadata": {
    "scrolled": true
   },
   "outputs": [
    {
     "name": "stdout",
     "output_type": "stream",
     "text": [
      "17302_00011\n",
      "17302_00013\n",
      "17302_00014\n",
      "17302_00015\n",
      "17302_00016\n",
      "17302_00017\n",
      "17302_00018\n",
      "17302_00019\n",
      "17302_00020\n",
      "17302_00021\n",
      "17302_00023\n",
      "17545_00025\n",
      "17545_00026\n",
      "17545_00027\n",
      "17545_00028\n",
      "17545_00029\n",
      "17545_00030\n",
      "17545_00040\n",
      "17545_00041\n",
      "17545_00044\n",
      "17545_00046\n",
      "17545_00047\n",
      "17545_00048\n",
      "17545_00050\n",
      "17781_00002\n",
      "17781_00003\n",
      "17781_00004\n",
      "17782_00001\n",
      "17782_00002\n",
      "17782_00003\n",
      "17782_00004\n",
      "17782_00005\n",
      "17782_00006\n",
      "18455_00026\n"
     ]
    }
   ],
   "source": [
    "\n",
    "import shutil\n",
    "path = '/home/penglab/Documents/result/lulu_44_10'\n",
    "\n",
    "for i_folder in os.listdir(path):\n",
    "    for i_subfolder in os.listdir(os.path.join(path,i_folder)):\n",
    "        if i_subfolder == 'affine':\n",
    "            temp_path = os.path.join(os.path.join(path,i_folder),i_subfolder)\n",
    "            for i_swc in os.listdir(temp_path):\n",
    "                (filename,extension) = os.path.splitext(i_swc)\n",
    "                (filename,extension) = os.path.splitext(filename)\n",
    "                (filename,extension) = os.path.splitext(filename)\n",
    "                if i_swc.endswith(\"affine.swc\") and filename not in List_fini:    \n",
    "                    print(filename)\n",
    "                    oldname = os.path.join(temp_path, i_swc)\n",
    "                    newname = os.path.join('/home/penglab/Documents/result/unfinished_affine', i_swc)\n",
    "                    shutil.copyfile(oldname,newname)"
   ]
  },
  {
   "cell_type": "code",
   "execution_count": 28,
   "metadata": {},
   "outputs": [
    {
     "name": "stdout",
     "output_type": "stream",
     "text": [
      "17302_00011\n",
      "17302_00013\n",
      "17302_00014\n",
      "17302_00015\n",
      "17302_00016\n",
      "17302_00017\n",
      "17302_00018\n",
      "17302_00019\n",
      "17302_00020\n",
      "17302_00021\n",
      "17302_00023\n",
      "17302_00024\n",
      "17302_00025\n",
      "17302_00027\n",
      "17302_00030\n",
      "17302_00031\n",
      "17302_00032\n",
      "17302_00033\n",
      "17302_00034\n",
      "17302_00035\n",
      "17302_00036\n",
      "17302_00037\n",
      "17302_00038\n",
      "17302_00039\n",
      "17302_00040\n",
      "17302_00041\n",
      "17302_00043\n",
      "17302_00044\n",
      "17302_00045\n",
      "17302_00046\n",
      "17302_00047\n",
      "17302_00048\n",
      "17302_00049\n",
      "17302_00050\n",
      "17302_00052\n",
      "17302_00053\n",
      "17302_00054\n",
      "17302_00055\n",
      "17302_00056\n",
      "17302_00057\n",
      "17302_00059\n",
      "17302_00062\n",
      "17302_00063\n",
      "17302_00064\n",
      "17302_00065\n",
      "17302_00066\n",
      "17302_00074\n",
      "17302_00075\n",
      "17302_00076\n",
      "17302_00077\n",
      "17302_00078\n",
      "17302_00079\n",
      "17302_00080\n",
      "17302_00081\n",
      "17302_00085\n",
      "17302_00086\n",
      "17302_00087\n",
      "17302_00091\n",
      "17302_00093\n",
      "17302_00094\n",
      "17302_00095\n",
      "17302_00096\n",
      "17302_00097\n",
      "17302_00098\n",
      "17302_00099\n",
      "17302_00101\n",
      "17302_00102\n",
      "17302_00103\n",
      "17302_00105\n",
      "17302_00106\n",
      "17302_00108\n",
      "17302_00110\n",
      "17302_00112\n",
      "17302_00113\n",
      "17302_00114\n",
      "17302_00115\n",
      "17302_00116\n",
      "17302_00117\n",
      "17302_00118\n",
      "17302_00119\n",
      "17302_00120\n",
      "17302_00121\n",
      "17302_00123\n",
      "17302_00124\n",
      "17302_00125\n",
      "17545_00025\n",
      "17545_00026\n",
      "17545_00027\n",
      "17545_00028\n",
      "17545_00029\n",
      "17545_00030\n",
      "17545_00040\n",
      "17545_00041\n",
      "17545_00044\n",
      "17545_00046\n",
      "17545_00047\n",
      "17545_00048\n",
      "17545_00050\n",
      "17545_00052\n",
      "17545_00054\n",
      "17545_00055\n",
      "17545_00056\n",
      "17545_00058\n",
      "17545_00060\n",
      "17545_00065\n",
      "17545_00066\n",
      "17545_00067\n",
      "17545_00068\n",
      "17545_00071\n",
      "17545_00074\n",
      "17545_00075\n",
      "17545_00078\n",
      "17545_00081\n",
      "17545_00082\n",
      "17545_00088\n",
      "17545_00089\n",
      "17545_00090\n",
      "17545_00091\n",
      "17545_00092\n",
      "17545_00093\n",
      "17545_00094\n",
      "17545_00095\n",
      "17545_00110\n",
      "17545_00113\n",
      "17545_00115\n",
      "17545_00116\n",
      "17545_00118\n",
      "17545_00119\n",
      "17545_00120\n",
      "17545_00121\n",
      "17545_00122\n",
      "17545_00124\n",
      "17545_00125\n",
      "17545_00126\n",
      "17545_00129\n",
      "17545_00130\n",
      "17545_00131\n",
      "17545_00136\n",
      "17545_00142\n",
      "17545_00143\n",
      "17545_00144\n",
      "17545_00145\n",
      "17545_00147\n",
      "17545_00149\n",
      "17545_00150\n",
      "17545_00155\n",
      "17545_00158\n",
      "17545_00159\n",
      "17545_00162\n",
      "17545_00163\n",
      "17545_00164\n",
      "17545_00165\n",
      "17545_00166\n",
      "17545_00168\n",
      "17545_00169\n",
      "17545_00170\n",
      "17545_00172\n",
      "17545_00173\n",
      "17545_00174\n",
      "17781_00002\n",
      "17781_00003\n",
      "17781_00004\n",
      "18455_00026\n"
     ]
    }
   ],
   "source": [
    "\n",
    "import shutil\n",
    "path = '/home/penglab/Documents/result/panleft_209'\n",
    "\n",
    "for i_folder in os.listdir(path):\n",
    "    for i_subfolder in os.listdir(os.path.join(path,i_folder)):\n",
    "        if i_subfolder == 'affine':\n",
    "            temp_path = os.path.join(os.path.join(path,i_folder),i_subfolder)\n",
    "            for i_swc in os.listdir(temp_path):\n",
    "                (filename,extension) = os.path.splitext(i_swc)\n",
    "                (filename,extension) = os.path.splitext(filename)\n",
    "                (filename,extension) = os.path.splitext(filename)\n",
    "                if i_swc.endswith(\"affine.swc\") and filename not in List_fini:    \n",
    "                    print(filename)\n",
    "                    oldname = os.path.join(temp_path, i_swc)\n",
    "                    newname = os.path.join('/home/penglab/Documents/result/unfinished_affine', i_swc)\n",
    "                    shutil.copyfile(oldname,newname)"
   ]
  },
  {
   "cell_type": "code",
   "execution_count": 35,
   "metadata": {},
   "outputs": [
    {
     "name": "stdout",
     "output_type": "stream",
     "text": [
      "18869_00023\n",
      "18869_00024\n",
      "18869_00026\n",
      "18869_00028\n",
      "18455_00033\n",
      "18455_00041\n",
      "18455_00042\n",
      "18455_00043\n",
      "18455_00045\n",
      "18455_00046\n",
      "18455_00047\n",
      "18455_00048\n",
      "18455_00049\n",
      "18455_00050\n",
      "18455_00106\n",
      "18455_00120\n",
      "18455_00121\n",
      "18455_00122\n",
      "18455_00123\n",
      "18455_00125\n",
      "18455_00126\n",
      "18455_00127\n",
      "18455_00133\n",
      "18455_00134\n",
      "18455_00135\n",
      "18455_00136\n",
      "18455_00137\n",
      "18455_00138\n",
      "18455_00139\n",
      "18455_00140\n",
      "18455_00141\n",
      "18455_00142\n",
      "18455_00144\n",
      "18455_00145\n",
      "18455_00146\n",
      "18455_00147\n",
      "18455_00148\n",
      "18455_00151\n",
      "18455_00154\n",
      "18455_00155\n",
      "18455_00157\n",
      "18455_00158\n",
      "18455_00159\n",
      "18455_00163\n",
      "18455_00166\n",
      "18455_00167\n",
      "18455_00182\n",
      "18455_00199\n",
      "18455_00200\n",
      "18455_00201\n",
      "18455_00202\n",
      "18455_00203\n",
      "18455_00206\n",
      "18455_00207\n",
      "18455_00208\n",
      "18455_00220\n",
      "18455_00224\n",
      "18455_00240\n",
      "18455_00252\n",
      "18455_00253\n",
      "18455_00255\n",
      "18455_00256\n",
      "18455_00257\n",
      "18455_00260\n",
      "18455_00263\n",
      "18455_00264\n",
      "18457_00087\n",
      "18457_00089\n",
      "18457_00090\n",
      "18457_00091\n",
      "18457_00111\n",
      "18457_00113\n",
      "18457_00127\n",
      "18457_00135\n",
      "18457_00142\n",
      "18457_00144\n",
      "18457_00145\n",
      "18457_00146\n",
      "18457_00148\n",
      "18457_00150\n",
      "18457_00152\n",
      "18457_00159\n",
      "18457_00197\n",
      "18457_00203\n",
      "18457_00205\n",
      "18458_00121\n",
      "18458_00122\n",
      "18458_00125\n",
      "18458_00150\n",
      "18458_00185\n",
      "18458_00236\n",
      "18458_00239\n",
      "18458_00244\n",
      "18458_00249\n",
      "18458_00264\n",
      "18458_00306\n",
      "18458_00351\n",
      "18458_00353\n",
      "18458_00376\n",
      "18458_00386\n",
      "18458_00424\n",
      "18458_00430\n",
      "18458_00450\n",
      "18458_00459\n",
      "18458_00460\n",
      "18458_00500\n",
      "18458_00547\n",
      "18458_00548\n",
      "18458_00549\n",
      "18458_00561\n",
      "18458_00567\n",
      "18458_00575\n",
      "18458_00577\n",
      "18458_00578\n",
      "18458_00580\n",
      "18458_00586\n",
      "18464_00042\n",
      "18464_00045\n",
      "18464_00061\n",
      "18464_00081\n",
      "18464_00082\n",
      "18464_00108\n",
      "18464_00112\n",
      "18464_00122\n",
      "18464_00153\n",
      "18464_00155\n",
      "18464_00163\n",
      "18464_00169\n",
      "18465_00007\n",
      "18465_00008\n",
      "18465_00009\n",
      "18465_00011\n",
      "18465_00017\n",
      "18465_00029\n",
      "18465_00031\n",
      "18465_00033\n",
      "18465_00035\n",
      "18465_00037\n",
      "18465_00039\n",
      "18465_00040\n",
      "18465_00041\n",
      "18465_00045\n",
      "18465_00046\n",
      "18465_00047\n",
      "18465_00050\n",
      "18465_00054\n",
      "18465_00078\n",
      "18465_00080\n",
      "18465_00090\n",
      "18465_00111\n",
      "18465_00113\n",
      "18465_00116\n",
      "18465_00117\n",
      "18465_00119\n",
      "18465_00132\n",
      "18465_00136\n",
      "18465_00152\n",
      "18465_00154\n",
      "18465_00155\n",
      "18465_00156\n",
      "18465_00159\n",
      "18465_00168\n",
      "18465_00205\n",
      "18465_00213\n",
      "18465_00226\n",
      "18465_00233\n",
      "18465_00234\n",
      "18465_00241\n",
      "18465_00246\n",
      "18465_00248\n",
      "18465_00261\n",
      "18465_00264\n",
      "18465_00285\n",
      "18465_00291\n",
      "18465_00300\n",
      "18465_00302\n",
      "18465_00304\n",
      "18465_00319\n",
      "18465_00348\n",
      "18465_00349\n"
     ]
    }
   ],
   "source": [
    "\n",
    "import shutil\n",
    "path = '/home/penglab/Documents/result/panpan_xx_126'\n",
    "\n",
    "for i_folder in os.listdir(path):\n",
    "    for i_subfolder in os.listdir(os.path.join(path,i_folder)):\n",
    "        if i_subfolder == 'affine':\n",
    "            temp_path = os.path.join(os.path.join(path,i_folder),i_subfolder)\n",
    "            for i_swc in os.listdir(temp_path):\n",
    "                (filename,extension) = os.path.splitext(i_swc)\n",
    "                (filename,extension) = os.path.splitext(filename)\n",
    "                (filename,extension) = os.path.splitext(filename)\n",
    "                if i_swc.endswith(\"affine.swc\") and filename not in List_fini:    \n",
    "                    print(filename)\n",
    "                    oldname = os.path.join(temp_path, i_swc)\n",
    "                    newname = os.path.join('/home/penglab/Documents/result/unfinished_affine', i_swc)\n",
    "                    shutil.copyfile(oldname,newname)\n",
    "\n",
    "\n"
   ]
  },
  {
   "cell_type": "code",
   "execution_count": 42,
   "metadata": {
    "scrolled": true
   },
   "outputs": [
    {
     "name": "stdout",
     "output_type": "stream",
     "text": [
      "17302_00024\n",
      "17302_00048\n",
      "17302_00079\n",
      "17302_00110\n",
      "17302_00036\n",
      "17302_00059\n",
      "17302_00095\n",
      "17302_00120\n",
      "17302_00037\n",
      "17302_00062\n",
      "17302_00096\n",
      "17302_00121\n",
      "17302_00038\n",
      "17302_00063\n",
      "17302_00097\n",
      "17302_00123\n",
      "17302_00039\n",
      "17302_00064\n",
      "17302_00098\n",
      "17302_00124\n"
     ]
    }
   ],
   "source": [
    "\n",
    "import shutil\n",
    "path = '/home/penglab/Documents/result/panpan_xx_126'\n",
    "\n",
    "for i_folder in os.listdir(path):\n",
    "    for i_subfolder in os.listdir(os.path.join(path,i_folder)):\n",
    "        if i_subfolder == 'affine':\n",
    "            temp_path = os.path.join(os.path.join(path,i_folder),i_subfolder)\n",
    "            for i_swc in os.listdir(temp_path):\n",
    "                (filename,extension) = os.path.splitext(i_swc)\n",
    "                (filename,extension) = os.path.splitext(filename)\n",
    "                (filename,extension) = os.path.splitext(filename)\n",
    "                if i_swc.endswith(\"affine.swc\") and filename not in List_fini:    \n",
    "                    print(filename)\n",
    "                    oldname = os.path.join(temp_path, i_swc)\n",
    "                    newname = os.path.join('/home/penglab/Documents/result/unfinished_affine', i_swc)\n",
    "                    shutil.copyfile(oldname,newname)\n",
    "\n",
    "\n"
   ]
  },
  {
   "cell_type": "markdown",
   "metadata": {},
   "source": [
    "\n",
    "import shutil\n",
    "path = '/home/penglab/Documents/result/aliean2'\n",
    "aliean2List = []\n",
    "for i_folder in os.listdir(path):\n",
    "    for i_subfolder in os.listdir(os.path.join(path,i_folder)):\n",
    "        if i_subfolder == 'affine':\n",
    "            temp_path = os.path.join(os.path.join(path,i_folder),i_subfolder)\n",
    "            for i_swc in os.listdir(temp_path):\n",
    "                (filename,extension) = os.path.splitext(i_swc)\n",
    "                (filename,extension) = os.path.splitext(filename)\n",
    "                (filename,extension) = os.path.splitext(filename)\n",
    "                print(filename)\n",
    "                aliean2List.append(filename)"
   ]
  },
  {
   "cell_type": "code",
   "execution_count": 77,
   "metadata": {},
   "outputs": [
    {
     "data": {
      "text/plain": [
       "183"
      ]
     },
     "execution_count": 77,
     "metadata": {},
     "output_type": "execute_result"
    }
   ],
   "source": [
    "len(aliean2List)"
   ]
  },
  {
   "cell_type": "markdown",
   "metadata": {},
   "source": [
    "### Number of affined neurons haven't been warped"
   ]
  },
  {
   "cell_type": "code",
   "execution_count": 72,
   "metadata": {},
   "outputs": [
    {
     "data": {
      "text/plain": [
       "417"
      ]
     },
     "execution_count": 72,
     "metadata": {},
     "output_type": "execute_result"
    }
   ],
   "source": [
    "import shutil\n",
    "path = '/home/penglab/Documents/result/unfinished_affine'\n",
    "List_affine = []\n",
    "for i_swc in os.listdir(path):\n",
    "    (filename,extension) = os.path.splitext(i_swc)\n",
    "    (filename,extension) = os.path.splitext(filename)\n",
    "    (filename,extension) = os.path.splitext(filename)\n",
    "    List_affine.append(filename)\n",
    "len(List_affine)"
   ]
  },
  {
   "cell_type": "code",
   "execution_count": 78,
   "metadata": {},
   "outputs": [
    {
     "data": {
      "text/plain": [
       "688"
      ]
     },
     "execution_count": 78,
     "metadata": {},
     "output_type": "execute_result"
    }
   ],
   "source": [
    "\n",
    "All_neuron = []\n",
    "for i_swc in os.listdir('/run/media/penglab/FISHZHAO/688_neurons'):\n",
    "    (filename,extension) = os.path.splitext(i_swc)\n",
    "    (filename,extension) = os.path.splitext(filename)\n",
    "    (filename,extension) = os.path.splitext(filename)\n",
    "    All_neuron.append(filename)\n",
    "len(All_neuron)"
   ]
  },
  {
   "cell_type": "code",
   "execution_count": 80,
   "metadata": {},
   "outputs": [
    {
     "data": {
      "text/plain": [
       "88"
      ]
     },
     "execution_count": 80,
     "metadata": {},
     "output_type": "execute_result"
    }
   ],
   "source": [
    "toAf_L = []\n",
    "for i_name in All_neuron:\n",
    "    if i_name not in List_affine and i_name not in List_fini:\n",
    "        toAf_L.append(i_name)\n",
    "len(toAf_L)"
   ]
  },
  {
   "cell_type": "markdown",
   "metadata": {},
   "source": [
    "\n",
    "* Move the 88 neurons to a single folder '/home/penglab/Documents/TO_affine'"
   ]
  },
  {
   "cell_type": "code",
   "execution_count": 83,
   "metadata": {},
   "outputs": [],
   "source": [
    "for i_swc in os.listdir('/run/media/penglab/FISHZHAO/688_neurons'):\n",
    "    (filename,extension) = os.path.splitext(i_swc)\n",
    "    (filename,extension) = os.path.splitext(filename)\n",
    "    (filename,extension) = os.path.splitext(filename)\n",
    "    if filename in toAf_L:\n",
    "        oldname = os.path.join('/run/media/penglab/FISHZHAO/688_neurons', i_swc)\n",
    "        newname = os.path.join('/home/penglab/Documents/TO_affine', i_swc)\n",
    "        shutil.copyfile(oldname,newname)\n",
    "\n"
   ]
  },
  {
   "cell_type": "code",
   "execution_count": 84,
   "metadata": {},
   "outputs": [],
   "source": [
    "# obtained brainlist showing up inside the 88 swc\n",
    "brain_list = []\n",
    "for i_swc in os.listdir('/home/penglab/Documents/TO_affine'):\n",
    "    (filename,extension) = os.path.splitext(i_swc)\n",
    "    (filename,extension) = os.path.splitext(filename)\n",
    "    #print(filename.split('_'))\n",
    "    if filename.split('_')[0] not in brain_list:\n",
    "        brain_list.append(filename.split('_')[0])"
   ]
  },
  {
   "cell_type": "code",
   "execution_count": 85,
   "metadata": {},
   "outputs": [],
   "source": [
    "for i_b in brain_list:  \n",
    "    for i_swc in os.listdir('/home/penglab/Documents/TO_affine'):\n",
    "        if (i_swc)[-3:]!=(\"swc\"):\n",
    "            continue\n",
    "        if i_swc.startswith(i_b):\n",
    "            oldname = '/home/penglab/Documents/TO_affine'+ '/'+ str(i_swc)\n",
    "            folder = os.path.exists(os.path.join('/home/penglab/Documents/B_toaffine',i_b))\n",
    "            if not folder:         \n",
    "                os.makedirs(os.path.join('/home/penglab/Documents/B_toaffine',i_b))  \n",
    "            newname = os.path.join('/home/penglab/Documents/B_toaffine',i_b)+ '/'+ str(i_swc)\n",
    "            shutil.move(oldname,newname)\n"
   ]
  }
 ],
 "metadata": {
  "kernelspec": {
   "display_name": "Python 3",
   "language": "python",
   "name": "python3"
  },
  "language_info": {
   "codemirror_mode": {
    "name": "ipython",
    "version": 3
   },
   "file_extension": ".py",
   "mimetype": "text/x-python",
   "name": "python",
   "nbconvert_exporter": "python",
   "pygments_lexer": "ipython3",
   "version": "3.7.3"
  }
 },
 "nbformat": 4,
 "nbformat_minor": 2
}
