{
 "cells": [
  {
   "cell_type": "markdown",
   "metadata": {},
   "source": [
    "### Move swc inside folders to another place- Total 671\n",
    "* '/home/penglab/Desktop/result_swc15Nov'"
   ]
  },
  {
   "cell_type": "code",
   "execution_count": null,
   "metadata": {},
   "outputs": [],
   "source": [
    "import os\n",
    "import shutil\n",
    "path = '/home/penglab/Desktop/result_swc'\n",
    "for iterSUB in os.listdir(path ):\n",
    "    subpath = str(path)+'/'+str(iterSUB)\n",
    "    for i_swc in os.listdir(subpath):\n",
    "        oldname = subpath + '/'+ str(i_swc)\n",
    "        newname = '/home/penglab/Desktop/result_swc15Nov' + '/'+ str(i_swc)+'.swc'\n",
    "        shutil.copyfile(oldname,newname)"
   ]
  },
  {
   "cell_type": "markdown",
   "metadata": {},
   "source": [
    "### Rename each file and move to another place\n",
    "* '/home/penglab/Desktop/result_swc15NovNew'"
   ]
  },
  {
   "cell_type": "code",
   "execution_count": 2,
   "metadata": {},
   "outputs": [],
   "source": [
    "import numpy as np\n",
    "import pandas as pd\n",
    "import time\n",
    "class neuron2:\n",
    "    def __init__(self, file, zyx=False):\n",
    "        self.file = file\n",
    "        self.name = file.split(\"/\")[-1].split(\".\")[0]\n",
    "\n",
    "        n_skip = 0\n",
    "        with open(self.file, \"r\") as f:\n",
    "            for line in f.readlines():\n",
    "                line = line.strip()\n",
    "                if line.startswith(\"#\"):\n",
    "                    n_skip += 1\n",
    "                else:\n",
    "                    break\n",
    "        f.close()\n",
    "        if zyx:\n",
    "            names = [\"##n\", \"type\", \"z\", \"y\", \"x\", \"r\", \"parent\"]\n",
    "        else:\n",
    "            names = [\"##n\", \"type\", \"x\", \"y\", \"z\", \"r\", \"parent\"]\n",
    "        swc = pd.read_csv(self.file, index_col=0, skiprows=n_skip, sep=\" \",\n",
    "                          usecols=[0, 1, 2, 3, 4, 5, 6],\n",
    "                          names=names\n",
    "                          )\n",
    "        self.swc = swc\n",
    "        _ = self.get_soma()\n",
    "        return\n",
    "    def get_soma(self):\n",
    "        soma = self.swc[((self.swc.type==1) & (self.swc.parent==-1))]\n",
    "        if len(soma)!=1:\n",
    "            print((\"Invalid number of soma found: %d\" % len(soma)))\n",
    "            self.soma = pd.DataFrame({\"x\": np.nan,\n",
    "                                      \"y\": np.nan,\n",
    "                                      \"z\": np.nan}, index=[self.name])\n",
    "        else:\n",
    "            soma = pd.DataFrame({\"x\": soma.x.iloc[0],\n",
    "                                 \"y\": soma.y.iloc[0],\n",
    "                                 \"z\": soma.z.iloc[0]}, index=[self.name])\n",
    "            self.soma = soma\n",
    "            if soma.loc[self.name, \"z\"] < (5700.0):\n",
    "                self.hemi = 1\n",
    "            else:\n",
    "                self.hemi = 2\n",
    "        return self.soma\n",
    "def load_swc_list2(swc_path, zyx=False):\n",
    "    '''\n",
    "    load all the swc files under a folder\n",
    "    :param swc_path:\n",
    "    :return: dict of neurons\n",
    "    '''\n",
    "    neurons = {}\n",
    "    start = time.time()\n",
    "    for swc_file in sorted(os.listdir(swc_path)):\n",
    "        if not swc_file.endswith((\"swc\", \"SWC\")):\n",
    "            continue\n",
    "        # print(os.path.join(swc_path, swc_file))\n",
    "        cur_neuron = neuron2(os.path.join(swc_path, swc_file))\n",
    "        neurons[cur_neuron.name] = cur_neuron\n",
    "        \n",
    "        if len(neurons) % 100 == 0:\n",
    "            print(\"%d loaded: %.1fs\" % (len(neurons), time.time()-start))\n",
    "            start = time.time()\n",
    "        # # Test:\n",
    "        # if len(neurons)>=100:\n",
    "        #     break\n",
    "    return neurons"
   ]
  },
  {
   "cell_type": "code",
   "execution_count": 3,
   "metadata": {},
   "outputs": [],
   "source": [
    "import os\n",
    "import shutil\n",
    "path = '/home/penglab/Desktop/result_swc15Nov/'\n",
    "for i_swc in os.listdir(path ):\n",
    "    oldname = '/home/penglab/Desktop/result_swc15Nov/'+ str(i_swc)\n",
    "    (filename,extension) = os.path.splitext(i_swc)\n",
    "    (filename,extension) = os.path.splitext(filename)\n",
    "    newname = '/home/penglab/Desktop/result_swc15NovNew/'+ str(filename)+'.swc'\n",
    "    shutil.copyfile(oldname,newname)"
   ]
  },
  {
   "cell_type": "markdown",
   "metadata": {},
   "source": [
    "###  For all items, scale it and move to scaled15Nov"
   ]
  },
  {
   "cell_type": "code",
   "execution_count": 14,
   "metadata": {
    "scrolled": true
   },
   "outputs": [
    {
     "name": "stdout",
     "output_type": "stream",
     "text": [
      "100 loaded: 3.2s\n",
      "200 loaded: 3.5s\n",
      "Invalid number of soma found: 0\n",
      "QC failed: 18454_00134.xy64z16_affine_stps.swc\n",
      "Invalid number of soma found: 0\n",
      "QC failed: 18454_00135.xy64z16_affine_stps.swc\n",
      "Invalid number of soma found: 0\n",
      "QC failed: 18454_00136.xy64z16_affine_stps.swc\n",
      "Invalid number of soma found: 0\n",
      "QC failed: 18454_00137.xy64z16_affine_stps.swc\n",
      "Invalid number of soma found: 0\n",
      "QC failed: 18454_00138.xy64z16_affine_stps.swc\n",
      "Invalid number of soma found: 0\n",
      "QC failed: 18454_00139.xy64z16_affine_stps.swc\n",
      "Invalid number of soma found: 0\n",
      "QC failed: 18454_00141.xy64z16_affine_stps.swc\n",
      "Invalid number of soma found: 0\n",
      "QC failed: 18454_00142.xy64z16_affine_stps.swc\n",
      "Invalid number of soma found: 0\n",
      "QC failed: 18454_00143.xy64z16_affine_stps.swc\n",
      "Invalid number of soma found: 0\n",
      "QC failed: 18454_00144.xy64z16_affine_stps.swc\n",
      "Invalid number of soma found: 0\n",
      "QC failed: 18454_00145.xy64z16_affine_stps.swc\n",
      "Invalid number of soma found: 0\n",
      "QC failed: 18454_00146.xy64z16_affine_stps.swc\n",
      "Invalid number of soma found: 0\n",
      "QC failed: 18454_00147.xy64z16_affine_stps.swc\n",
      "Invalid number of soma found: 0\n",
      "QC failed: 18454_00148.xy64z16_affine_stps.swc\n",
      "Invalid number of soma found: 0\n",
      "QC failed: 18454_00149.xy64z16_affine_stps.swc\n",
      "Invalid number of soma found: 0\n",
      "QC failed: 18454_00150.xy64z16_affine_stps.swc\n",
      "Invalid number of soma found: 0\n",
      "QC failed: 18454_00151.xy64z16_affine_stps.swc\n",
      "Invalid number of soma found: 0\n",
      "QC failed: 18454_00152.xy64z16_affine_stps.swc\n",
      "Invalid number of soma found: 0\n",
      "QC failed: 18454_00153.xy64z16_affine_stps.swc\n",
      "Invalid number of soma found: 0\n",
      "QC failed: 18454_00154.xy64z16_affine_stps.swc\n",
      "Invalid number of soma found: 0\n",
      "QC failed: 18454_00155.xy64z16_affine_stps.swc\n",
      "Invalid number of soma found: 0\n",
      "QC failed: 18454_00157.xy64z16_affine_stps.swc\n",
      "Invalid number of soma found: 0\n",
      "QC failed: 18454_00160.xy64z16_affine_stps.swc\n",
      "Invalid number of soma found: 0\n",
      "QC failed: 18454_00161.xy64z16_affine_stps.swc\n",
      "Invalid number of soma found: 0\n",
      "QC failed: 18454_00162.xy64z16_affine_stps.swc\n",
      "Invalid number of soma found: 0\n",
      "QC failed: 18454_00163.xy64z16_affine_stps.swc\n",
      "Invalid number of soma found: 0\n",
      "QC failed: 18454_00165.xy64z16_affine_stps.swc\n",
      "Invalid number of soma found: 0\n",
      "QC failed: 18454_00166.xy64z16_affine_stps.swc\n",
      "Invalid number of soma found: 0\n",
      "QC failed: 18454_00167.xy64z16_affine_stps.swc\n",
      "Invalid number of soma found: 0\n",
      "QC failed: 18454_00169.xy64z16_affine_stps.swc\n",
      "Invalid number of soma found: 0\n",
      "QC failed: 18454_00170.xy64z16_affine_stps.swc\n",
      "Invalid number of soma found: 0\n",
      "QC failed: 18454_00171.xy64z16_affine_stps.swc\n",
      "300 loaded: 4.3s\n",
      "400 loaded: 2.8s\n",
      "500 loaded: 3.2s\n",
      "600 loaded: 3.0s\n"
     ]
    }
   ],
   "source": [
    "swc_path = '/home/penglab/Desktop/result_swc15NovNew'\n",
    "from neuro_morpho_toolbox.neuron_set import load_swc_list\n",
    "#Read the swc inside this path to adictionary\n",
    "dicAll = load_swc_list(swc_path)\n",
    "for i in dicAll.keys():\n",
    "    dicAll[i].swc.loc[:,'x'] = dicAll[i].swc.loc[:,'x'].copy()-20\n",
    "    dicAll[i].swc.loc[:,'x'] = dicAll[i].swc.loc[:,'x'].copy()*25\n",
    "    dicAll[i].swc.loc[:,'y'] = dicAll[i].swc.loc[:,'y'].copy()*25\n",
    "    dicAll[i].swc.loc[:,'z'] = dicAll[i].swc.loc[:,'z'].copy()*25\n",
    "    pathdes = '/home/penglab/Desktop/scaled15Nov/'\n",
    "    dicAll[i].swc.to_csv(pathdes+str(i)+'.swc', sep=\" \")\n",
    "    #print(i)"
   ]
  },
  {
   "cell_type": "code",
   "execution_count": 11,
   "metadata": {},
   "outputs": [
    {
     "name": "stdout",
     "output_type": "stream",
     "text": [
      "100 loaded: 2.5s\n",
      "200 loaded: 3.1s\n",
      "Invalid number of soma found: 0\n",
      "QC failed: 18454_00134.xy64z16_affine_stps.swc\n",
      "Invalid number of soma found: 0\n",
      "QC failed: 18454_00135.xy64z16_affine_stps.swc\n",
      "Invalid number of soma found: 0\n",
      "QC failed: 18454_00136.xy64z16_affine_stps.swc\n",
      "Invalid number of soma found: 0\n",
      "QC failed: 18454_00137.xy64z16_affine_stps.swc\n",
      "Invalid number of soma found: 0\n",
      "QC failed: 18454_00138.xy64z16_affine_stps.swc\n",
      "Invalid number of soma found: 0\n",
      "QC failed: 18454_00139.xy64z16_affine_stps.swc\n",
      "Invalid number of soma found: 0\n",
      "QC failed: 18454_00141.xy64z16_affine_stps.swc\n",
      "Invalid number of soma found: 0\n",
      "QC failed: 18454_00142.xy64z16_affine_stps.swc\n",
      "Invalid number of soma found: 0\n",
      "QC failed: 18454_00143.xy64z16_affine_stps.swc\n",
      "Invalid number of soma found: 0\n",
      "QC failed: 18454_00144.xy64z16_affine_stps.swc\n",
      "Invalid number of soma found: 0\n",
      "QC failed: 18454_00145.xy64z16_affine_stps.swc\n",
      "Invalid number of soma found: 0\n",
      "QC failed: 18454_00146.xy64z16_affine_stps.swc\n",
      "Invalid number of soma found: 0\n",
      "QC failed: 18454_00147.xy64z16_affine_stps.swc\n",
      "Invalid number of soma found: 0\n",
      "QC failed: 18454_00148.xy64z16_affine_stps.swc\n",
      "Invalid number of soma found: 0\n",
      "QC failed: 18454_00149.xy64z16_affine_stps.swc\n",
      "Invalid number of soma found: 0\n",
      "QC failed: 18454_00150.xy64z16_affine_stps.swc\n",
      "Invalid number of soma found: 0\n",
      "QC failed: 18454_00151.xy64z16_affine_stps.swc\n",
      "Invalid number of soma found: 0\n",
      "QC failed: 18454_00152.xy64z16_affine_stps.swc\n",
      "Invalid number of soma found: 0\n",
      "QC failed: 18454_00153.xy64z16_affine_stps.swc\n",
      "Invalid number of soma found: 0\n",
      "QC failed: 18454_00154.xy64z16_affine_stps.swc\n",
      "Invalid number of soma found: 0\n",
      "QC failed: 18454_00155.xy64z16_affine_stps.swc\n",
      "Invalid number of soma found: 0\n",
      "QC failed: 18454_00157.xy64z16_affine_stps.swc\n",
      "Invalid number of soma found: 0\n",
      "QC failed: 18454_00160.xy64z16_affine_stps.swc\n",
      "Invalid number of soma found: 0\n",
      "QC failed: 18454_00161.xy64z16_affine_stps.swc\n",
      "Invalid number of soma found: 0\n",
      "QC failed: 18454_00162.xy64z16_affine_stps.swc\n",
      "Invalid number of soma found: 0\n",
      "QC failed: 18454_00163.xy64z16_affine_stps.swc\n",
      "Invalid number of soma found: 0\n",
      "QC failed: 18454_00165.xy64z16_affine_stps.swc\n",
      "Invalid number of soma found: 0\n",
      "QC failed: 18454_00166.xy64z16_affine_stps.swc\n",
      "Invalid number of soma found: 0\n",
      "QC failed: 18454_00167.xy64z16_affine_stps.swc\n",
      "Invalid number of soma found: 0\n",
      "QC failed: 18454_00169.xy64z16_affine_stps.swc\n",
      "Invalid number of soma found: 0\n",
      "QC failed: 18454_00170.xy64z16_affine_stps.swc\n",
      "Invalid number of soma found: 0\n",
      "QC failed: 18454_00171.xy64z16_affine_stps.swc\n",
      "300 loaded: 4.0s\n",
      "400 loaded: 2.5s\n",
      "500 loaded: 2.6s\n",
      "600 loaded: 2.2s\n"
     ]
    }
   ],
   "source": [
    "from neuro_morpho_toolbox.neuron_set import load_swc_list\n",
    "#Read the swc inside this path to adictionary\n",
    "dicAll_pass= load_swc_list(swc_path)"
   ]
  },
  {
   "cell_type": "code",
   "execution_count": 13,
   "metadata": {},
   "outputs": [
    {
     "name": "stdout",
     "output_type": "stream",
     "text": [
      "18454_00134\n",
      "18454_00135\n",
      "18454_00136\n",
      "18454_00137\n",
      "18454_00138\n",
      "18454_00139\n",
      "18454_00141\n",
      "18454_00142\n",
      "18454_00143\n",
      "18454_00144\n",
      "18454_00145\n",
      "18454_00146\n",
      "18454_00147\n",
      "18454_00148\n",
      "18454_00149\n",
      "18454_00150\n",
      "18454_00151\n",
      "18454_00152\n",
      "18454_00153\n",
      "18454_00154\n",
      "18454_00155\n",
      "18454_00157\n",
      "18454_00160\n",
      "18454_00161\n",
      "18454_00162\n",
      "18454_00163\n",
      "18454_00165\n",
      "18454_00166\n",
      "18454_00167\n",
      "18454_00169\n",
      "18454_00170\n",
      "18454_00171\n"
     ]
    }
   ],
   "source": [
    "for i in dicAll.keys():\n",
    "    if i not in dicAll_pass.keys():\n",
    "        print(i)"
   ]
  },
  {
   "cell_type": "markdown",
   "metadata": {},
   "source": [
    "###  Count number of files under scaled15WW"
   ]
  },
  {
   "cell_type": "code",
   "execution_count": 5,
   "metadata": {},
   "outputs": [
    {
     "name": "stdout",
     "output_type": "stream",
     "text": [
      "Number of swc files after scaled: 671\n"
     ]
    }
   ],
   "source": [
    "len(os.listdir( '/home/penglab/Desktop/scaled15Nov/'))\n",
    "print('Number of swc files after scaled: '+ str(len(os.listdir( '/home/penglab/Desktop/scaled15Nov/'))))"
   ]
  },
  {
   "cell_type": "code",
   "execution_count": 9,
   "metadata": {},
   "outputs": [
    {
     "data": {
      "text/plain": [
       "639"
      ]
     },
     "execution_count": 9,
     "metadata": {},
     "output_type": "execute_result"
    }
   ],
   "source": [
    "len(dicAll.keys())"
   ]
  },
  {
   "cell_type": "markdown",
   "metadata": {},
   "source": [
    "###  Move files to AllData15Nov\n",
    "* '/home/penglab/FeaCal/AllData15Nov'"
   ]
  },
  {
   "cell_type": "code",
   "execution_count": null,
   "metadata": {},
   "outputs": [],
   "source": [
    "for i_swc in os.listdir('/home/penglab/Desktop/scaled15Nov'):\n",
    "    folder = os.path.exists('/home/penglab/FeaCal/AllData15Nov')\n",
    "    if not folder:         \n",
    "        os.makedirs('/home/penglab/FeaCal/AllData15Nov')       \n",
    "    oldname = '/home/penglab/Desktop/scaled15Nov' + '/'+ str(i_swc)\n",
    "    newname = '/home/penglab/FeaCal/AllData15Nov' + '/'+ str(i_swc)+'.swc'\n",
    "    shutil.copyfile(oldname,newname)"
   ]
  },
  {
   "cell_type": "code",
   "execution_count": 16,
   "metadata": {},
   "outputs": [],
   "source": [
    "for i_swc in os.listdir('/home/penglab/FeaCal/Janelia_1000'):\n",
    "    folder = os.path.exists('/home/penglab/FeaCal/AllData15Nov')\n",
    "    if not folder:         \n",
    "        os.makedirs('/home/penglab/FeaCal/AllData15Nov')       \n",
    "    oldname = '/home/penglab/FeaCal/Janelia_1000' + '/'+ str(i_swc)\n",
    "    newname = '/home/penglab/FeaCal/AllData15Nov' + '/'+ str(i_swc)+'.swc'\n",
    "    shutil.copyfile(oldname,newname)"
   ]
  },
  {
   "cell_type": "code",
   "execution_count": 17,
   "metadata": {},
   "outputs": [
    {
     "name": "stdout",
     "output_type": "stream",
     "text": [
      "Number of swc files after summing up: 1641\n"
     ]
    }
   ],
   "source": [
    "len(os.listdir( '/home/penglab/FeaCal/AllData15Nov'))\n",
    "print('Number of swc files after summing up: '+ str(len(os.listdir('/home/penglab/FeaCal/AllData15Nov'))))"
   ]
  }
 ],
 "metadata": {
  "kernelspec": {
   "display_name": "Python 3",
   "language": "python",
   "name": "python3"
  },
  "language_info": {
   "codemirror_mode": {
    "name": "ipython",
    "version": 3
   },
   "file_extension": ".py",
   "mimetype": "text/x-python",
   "name": "python",
   "nbconvert_exporter": "python",
   "pygments_lexer": "ipython3",
   "version": "3.7.3"
  }
 },
 "nbformat": 4,
 "nbformat_minor": 2
}
