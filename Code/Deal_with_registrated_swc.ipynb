{
 "cells": [
  {
   "cell_type": "markdown",
   "metadata": {},
   "source": [
    "### Move swc inside folders to another place- Total 671\n",
    "* '/home/penglab/Desktop/result_swc15Nov'"
   ]
  },
  {
   "cell_type": "code",
   "execution_count": 2,
   "metadata": {},
   "outputs": [],
   "source": [
    "import os\n",
    "import shutil\n",
    "path = '/home/penglab/Desktop/result_swc'\n",
    "folder = os.path.exists('/home/penglab/Desktop/result_swc15Nov')\n",
    "if not folder:         \n",
    "    os.makedirs('/home/penglab/Desktop/result_swc15Nov')  \n",
    "for iterSUB in os.listdir(path ):\n",
    "    subpath = str(path)+'/'+str(iterSUB)\n",
    "    for i_swc in os.listdir(subpath):\n",
    "        oldname = subpath + '/'+ str(i_swc)\n",
    "        newname = '/home/penglab/Desktop/result_swc15Nov' + '/'+ str(i_swc)+'.swc'\n",
    "        shutil.copyfile(oldname,newname)"
   ]
  },
  {
   "cell_type": "markdown",
   "metadata": {},
   "source": [
    "### Rename each file and move to another place\n",
    "* '/home/penglab/Desktop/result_swc15NovNew'"
   ]
  },
  {
   "cell_type": "code",
   "execution_count": 5,
   "metadata": {},
   "outputs": [],
   "source": [
    "import os\n",
    "import shutil\n",
    "path = '/home/penglab/Desktop/result_swc15Nov/'\n",
    "folder = os.path.exists('/home/penglab/Desktop/result_swc15NovNew')\n",
    "if not folder:         \n",
    "    os.makedirs('/home/penglab/Desktop/result_swc15NovNew')  \n",
    "for i_swc in os.listdir(path ):\n",
    "    oldname = '/home/penglab/Desktop/result_swc15Nov/'+ str(i_swc)\n",
    "    (filename,extension) = os.path.splitext(i_swc)\n",
    "    (filename,extension) = os.path.splitext(filename)\n",
    "    newname = '/home/penglab/Desktop/result_swc15NovNew/'+ str(filename)+'.swc'\n",
    "    shutil.copyfile(oldname,newname)"
   ]
  },
  {
   "cell_type": "markdown",
   "metadata": {},
   "source": [
    "###  For all items, scale it and move to scaled15Nov"
   ]
  },
  {
   "cell_type": "code",
   "execution_count": 7,
   "metadata": {
    "scrolled": true
   },
   "outputs": [
    {
     "name": "stdout",
     "output_type": "stream",
     "text": [
      "100 loaded: 3.2s\n",
      "200 loaded: 3.4s\n",
      "Invalid number of soma found: 0\n",
      "QC failed: 18454_00134.xy64z16_affine_stps.swc\n",
      "Invalid number of soma found: 0\n",
      "QC failed: 18454_00135.xy64z16_affine_stps.swc\n",
      "Invalid number of soma found: 0\n",
      "QC failed: 18454_00136.xy64z16_affine_stps.swc\n",
      "Invalid number of soma found: 0\n",
      "QC failed: 18454_00137.xy64z16_affine_stps.swc\n",
      "Invalid number of soma found: 0\n",
      "QC failed: 18454_00138.xy64z16_affine_stps.swc\n",
      "Invalid number of soma found: 0\n",
      "QC failed: 18454_00139.xy64z16_affine_stps.swc\n",
      "Invalid number of soma found: 0\n",
      "QC failed: 18454_00141.xy64z16_affine_stps.swc\n",
      "Invalid number of soma found: 0\n",
      "QC failed: 18454_00142.xy64z16_affine_stps.swc\n",
      "Invalid number of soma found: 0\n",
      "QC failed: 18454_00143.xy64z16_affine_stps.swc\n",
      "Invalid number of soma found: 0\n",
      "QC failed: 18454_00144.xy64z16_affine_stps.swc\n",
      "Invalid number of soma found: 0\n",
      "QC failed: 18454_00145.xy64z16_affine_stps.swc\n",
      "Invalid number of soma found: 0\n",
      "QC failed: 18454_00146.xy64z16_affine_stps.swc\n",
      "Invalid number of soma found: 0\n",
      "QC failed: 18454_00147.xy64z16_affine_stps.swc\n",
      "Invalid number of soma found: 0\n",
      "QC failed: 18454_00148.xy64z16_affine_stps.swc\n",
      "Invalid number of soma found: 0\n",
      "QC failed: 18454_00149.xy64z16_affine_stps.swc\n",
      "Invalid number of soma found: 0\n",
      "QC failed: 18454_00150.xy64z16_affine_stps.swc\n",
      "Invalid number of soma found: 0\n",
      "QC failed: 18454_00151.xy64z16_affine_stps.swc\n",
      "Invalid number of soma found: 0\n",
      "QC failed: 18454_00152.xy64z16_affine_stps.swc\n",
      "Invalid number of soma found: 0\n",
      "QC failed: 18454_00153.xy64z16_affine_stps.swc\n",
      "Invalid number of soma found: 0\n",
      "QC failed: 18454_00154.xy64z16_affine_stps.swc\n",
      "Invalid number of soma found: 0\n",
      "QC failed: 18454_00155.xy64z16_affine_stps.swc\n",
      "Invalid number of soma found: 0\n",
      "QC failed: 18454_00157.xy64z16_affine_stps.swc\n",
      "Invalid number of soma found: 0\n",
      "QC failed: 18454_00160.xy64z16_affine_stps.swc\n",
      "Invalid number of soma found: 0\n",
      "QC failed: 18454_00161.xy64z16_affine_stps.swc\n",
      "Invalid number of soma found: 0\n",
      "QC failed: 18454_00162.xy64z16_affine_stps.swc\n",
      "Invalid number of soma found: 0\n",
      "QC failed: 18454_00163.xy64z16_affine_stps.swc\n",
      "Invalid number of soma found: 0\n",
      "QC failed: 18454_00165.xy64z16_affine_stps.swc\n",
      "Invalid number of soma found: 0\n",
      "QC failed: 18454_00166.xy64z16_affine_stps.swc\n",
      "Invalid number of soma found: 0\n",
      "QC failed: 18454_00167.xy64z16_affine_stps.swc\n",
      "Invalid number of soma found: 0\n",
      "QC failed: 18454_00169.xy64z16_affine_stps.swc\n",
      "Invalid number of soma found: 0\n",
      "QC failed: 18454_00170.xy64z16_affine_stps.swc\n",
      "Invalid number of soma found: 0\n",
      "QC failed: 18454_00171.xy64z16_affine_stps.swc\n",
      "300 loaded: 4.4s\n",
      "400 loaded: 3.0s\n",
      "500 loaded: 3.6s\n",
      "600 loaded: 2.6s\n"
     ]
    }
   ],
   "source": [
    "swc_path = '/home/penglab/Desktop/result_swc15NovNew'\n",
    "folder = os.path.exists('/home/penglab/Desktop/scaled15Nov')\n",
    "if not folder:         \n",
    "    os.makedirs('/home/penglab/Desktop/scaled15Nov')  \n",
    "from neuro_morpho_toolbox.neuron_set import load_swc_list\n",
    "#Read the swc inside this path to adictionary\n",
    "dicAll = load_swc_list(swc_path)\n",
    "for i in dicAll.keys():\n",
    "    dicAll[i].swc.loc[:,'x'] = dicAll[i].swc.loc[:,'x'].copy()-20\n",
    "    dicAll[i].swc.loc[:,'x'] = dicAll[i].swc.loc[:,'x'].copy()*25\n",
    "    dicAll[i].swc.loc[:,'y'] = dicAll[i].swc.loc[:,'y'].copy()*25\n",
    "    dicAll[i].swc.loc[:,'z'] = dicAll[i].swc.loc[:,'z'].copy()*25\n",
    "    pathdes = '/home/penglab/Desktop/scaled15Nov/'\n",
    "    dicAll[i].swc.to_csv(pathdes+str(i)+'.swc', sep=\" \")\n",
    "    #print(i)"
   ]
  },
  {
   "cell_type": "code",
   "execution_count": null,
   "metadata": {},
   "outputs": [],
   "source": [
    "from neuro_morpho_toolbox.neuron_set import load_swc_list\n",
    "#Read the swc inside this path to adictionary\n",
    "dicAll_pass= load_swc_list(swc_path)"
   ]
  },
  {
   "cell_type": "code",
   "execution_count": null,
   "metadata": {},
   "outputs": [],
   "source": [
    "for i in dicAll.keys():\n",
    "    if i not in dicAll_pass.keys():\n",
    "        print(i)"
   ]
  },
  {
   "cell_type": "markdown",
   "metadata": {},
   "source": [
    "###  Count number of files under scaled15WW"
   ]
  },
  {
   "cell_type": "code",
   "execution_count": null,
   "metadata": {},
   "outputs": [],
   "source": [
    "len(os.listdir( '/home/penglab/Desktop/scaled15Nov/'))\n",
    "print('Number of swc files after scaled: '+ str(len(os.listdir( '/home/penglab/Desktop/scaled15Nov/'))))"
   ]
  },
  {
   "cell_type": "code",
   "execution_count": null,
   "metadata": {},
   "outputs": [],
   "source": [
    "stoooooop"
   ]
  },
  {
   "cell_type": "code",
   "execution_count": null,
   "metadata": {},
   "outputs": [],
   "source": [
    "len(dicAll.keys())"
   ]
  },
  {
   "cell_type": "markdown",
   "metadata": {},
   "source": [
    "###  Move files to AllData15Nov\n",
    "* '/home/penglab/FeaCal/AllData15Nov'"
   ]
  },
  {
   "cell_type": "code",
   "execution_count": null,
   "metadata": {},
   "outputs": [],
   "source": [
    "for i_swc in os.listdir('/home/penglab/Desktop/scaled15Nov'):\n",
    "    folder = os.path.exists('/home/penglab/FeaCal/AllData15Nov')\n",
    "    if not folder:         \n",
    "        os.makedirs('/home/penglab/FeaCal/AllData15Nov')       \n",
    "    oldname = '/home/penglab/Desktop/scaled15Nov' + '/'+ str(i_swc)\n",
    "    newname = '/home/penglab/FeaCal/AllData15Nov' + '/'+ str(i_swc)+'.swc'\n",
    "    shutil.copyfile(oldname,newname)"
   ]
  },
  {
   "cell_type": "code",
   "execution_count": null,
   "metadata": {},
   "outputs": [],
   "source": [
    "for i_swc in os.listdir('/home/penglab/FeaCal/Janelia_1000'):\n",
    "    folder = os.path.exists('/home/penglab/FeaCal/AllData15Nov')\n",
    "    if not folder:         \n",
    "        os.makedirs('/home/penglab/FeaCal/AllData15Nov')       \n",
    "    oldname = '/home/penglab/FeaCal/Janelia_1000' + '/'+ str(i_swc)\n",
    "    newname = '/home/penglab/FeaCal/AllData15Nov' + '/'+ str(i_swc)+'.swc'\n",
    "    shutil.copyfile(oldname,newname)"
   ]
  },
  {
   "cell_type": "code",
   "execution_count": null,
   "metadata": {},
   "outputs": [],
   "source": [
    "len(os.listdir( '/home/penglab/FeaCal/AllData15Nov'))\n",
    "print('Number of swc files after summing up: '+ str(len(os.listdir('/home/penglab/FeaCal/AllData15Nov'))))"
   ]
  }
 ],
 "metadata": {
  "kernelspec": {
   "display_name": "Python 3",
   "language": "python",
   "name": "python3"
  },
  "language_info": {
   "codemirror_mode": {
    "name": "ipython",
    "version": 3
   },
   "file_extension": ".py",
   "mimetype": "text/x-python",
   "name": "python",
   "nbconvert_exporter": "python",
   "pygments_lexer": "ipython3",
   "version": "3.7.3"
  }
 },
 "nbformat": 4,
 "nbformat_minor": 2
}
