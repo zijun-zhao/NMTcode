{
 "cells": [
  {
   "cell_type": "code",
   "execution_count": 4,
   "metadata": {},
   "outputs": [],
   "source": [
    "import os\n",
    "import shutil\n",
    "# obtained brainlist showing up inside the 417 swc\n",
    "brain_list = []\n",
    "for i_swc in os.listdir('/run/media/penglab/FISHZHAO/688_neurons'):\n",
    "    (filename,extension) = os.path.splitext(i_swc)\n",
    "    (filename,extension) = os.path.splitext(filename)\n",
    "    #print(filename.split('_'))\n",
    "    if filename.split('_')[0] not in brain_list:\n",
    "        brain_list.append(filename.split('_')[0])"
   ]
  },
  {
   "cell_type": "code",
   "execution_count": 6,
   "metadata": {},
   "outputs": [],
   "source": [
    "# move the swc to separate brain folder inside the affine folder\n",
    "for i_b in brain_list:  \n",
    "    for i_swc in os.listdir('/run/media/penglab/FISHZHAO/688_neurons'):\n",
    "        if (i_swc)[-3:]!=(\"swc\"):\n",
    "            continue\n",
    "        if i_swc.startswith(i_b):\n",
    "            (filename,extension) = os.path.splitext(i_swc)\n",
    "            (filename,extension) = os.path.splitext(filename)\n",
    "            (filename,extension) = os.path.splitext(filename)\n",
    "            oldname= '/run/media/penglab/FISHZHAO/688_neurons'+ '/'+ str(i_swc)\n",
    "            folder= os.path.exists(os.path.join('/home/penglab/Documents/result/all_688',i_b))\n",
    "            if not folder:         \n",
    "                os.makedirs(os.path.join('/home/penglab/Documents/result/all_688',i_b))  \n",
    "            newname= os.path.join('/home/penglab/Documents/result/all_688',i_b)+ '/'+ str(i_swc)\n",
    "            shutil.copyfile(oldname,newname)\n"
   ]
  },
  {
   "cell_type": "markdown",
   "metadata": {},
   "source": [
    "### check the total number of original neurons to be operated"
   ]
  },
  {
   "cell_type": "code",
   "execution_count": 8,
   "metadata": {},
   "outputs": [
    {
     "name": "stdout",
     "output_type": "stream",
     "text": [
      "Originally we have 688 neurons\n"
     ]
    }
   ],
   "source": [
    "c_ori = 0\n",
    "path = '/home/penglab/Documents/result/all_688'\n",
    "for i_folder in os.listdir(path):\n",
    "    temp_path = os.path.join('/home/penglab/Documents/result/all_688',i_folder)\n",
    "    for i_swc in os.listdir(temp_path):\n",
    "        if i_swc.find(\"ano.swc\") > 0:\n",
    "            c_ori = c_ori +1\n",
    "print('Originally we have '+ str(c_ori)+' neurons')"
   ]
  },
  {
   "cell_type": "code",
   "execution_count": null,
   "metadata": {},
   "outputs": [],
   "source": []
  },
  {
   "cell_type": "code",
   "execution_count": null,
   "metadata": {},
   "outputs": [],
   "source": []
  },
  {
   "cell_type": "code",
   "execution_count": null,
   "metadata": {},
   "outputs": [],
   "source": []
  }
 ],
 "metadata": {
  "kernelspec": {
   "display_name": "Python 3",
   "language": "python",
   "name": "python3"
  },
  "language_info": {
   "codemirror_mode": {
    "name": "ipython",
    "version": 3
   },
   "file_extension": ".py",
   "mimetype": "text/x-python",
   "name": "python",
   "nbconvert_exporter": "python",
   "pygments_lexer": "ipython3",
   "version": "3.7.3"
  }
 },
 "nbformat": 4,
 "nbformat_minor": 2
}
