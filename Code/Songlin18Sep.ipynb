{
 "cells": [
  {
   "cell_type": "code",
   "execution_count": 1,
   "metadata": {},
   "outputs": [
    {
     "name": "stdout",
     "output_type": "stream",
     "text": [
      "/home/penglab/anaconda3/lib/python3.7/site-packages/neuro_morpho_toolbox/\n",
      "Loading CCF Atlas data...\n",
      "Loading time: 0.96\n",
      "Loading CCF brain structure data...\n",
      "Loading time: 0.00\n"
     ]
    }
   ],
   "source": [
    "import numpy as np\n",
    "import pandas as pd\n",
    "import seaborn as sns\n",
    "import matplotlib.pyplot as plt\n",
    "from sklearn import metrics\n",
    "\n",
    "import neuro_morpho_toolbox as nmt\n",
    "%matplotlib inline\n",
    "#ns=nmt.neuron_set('/home/penglab/Documents/Janelia_1000')\n",
    "import pickle\n",
    "pickle_in = open(\"/home/penglab/FeaCal/ns.pickle\",\"rb\")\n",
    "example_ = pickle.load(pickle_in)\n",
    "ns= example_[0]"
   ]
  },
  {
   "cell_type": "code",
   "execution_count": 2,
   "metadata": {
    "scrolled": true
   },
   "outputs": [],
   "source": [
    "AP_hierDF = pd.read_excel('/home/penglab/FeaCal/dataSource/axonProj/AP_hierDF.xlsx', index_col=0)\n",
    "AP_kmeansDF = pd.read_excel('/home/penglab/FeaCal/dataSource/axonProj/AP_kmeansDF.xlsx', index_col=0)\n",
    "AP_dbscanDF = pd.read_excel('/home/penglab/FeaCal/dataSource/axonProj/AP_dbscanDF.xlsx', index_col=0)\n",
    "AP_hdbscanDF = pd.read_excel('/home/penglab/FeaCal/dataSource/axonProj/AP_hdbscanDF.xlsx', index_col=0)\n",
    "AP_snnDF = pd.read_excel('/home/penglab/FeaCal/dataSource/axonProj/AP_snnDF.xlsx', index_col=0)\n",
    "\n",
    "\n",
    "SL_hierDF = pd.read_excel('/home/penglab/FeaCal/dataSource/somaLoc/SL_hierDF.xlsx', index_col=0)\n",
    "SL_kmeansDF = pd.read_excel('/home/penglab/FeaCal/dataSource/somaLoc/SL_kmeansDF.xlsx', index_col=0)\n",
    "SL_dbscanDF = pd.read_excel('/home/penglab/FeaCal/dataSource/somaLoc/SL_dbscanDF.xlsx', index_col=0)\n",
    "SL_hdbscanDF = pd.read_excel('/home/penglab/FeaCal/dataSource/somaLoc/SL_hdbscanDF.xlsx', index_col=0)\n",
    "SL_snnDF = pd.read_excel('/home/penglab/FeaCal/dataSource/somaLoc/SL_snnDF.xlsx', index_col=0)\n",
    "\n",
    "AM_hierDF = pd.read_excel('/home/penglab/FeaCal/dataSource/axonMor/AM_hierDF.xlsx', index_col=0)\n",
    "AM_kmeansDF = pd.read_excel('/home/penglab/FeaCal/dataSource/axonMor/AM_kmeansDF.xlsx', index_col=0)\n",
    "AM_dbscanDF = pd.read_excel('/home/penglab/FeaCal/dataSource/axonMor/AM_dbscanDF.xlsx', index_col=0)\n",
    "AM_hdbscanDF = pd.read_excel('/home/penglab/FeaCal/dataSource/axonMor/AM_hdbscanDF.xlsx', index_col=0)\n",
    "AM_snnDF = pd.read_excel('/home/penglab/FeaCal/dataSource/axonMor/AM_snnDF.xlsx', index_col=0)\n",
    "\n",
    "\n",
    "DM_hierDF = pd.read_excel('/home/penglab/FeaCal/dataSource/denMor/DM_hierDF.xlsx', index_col=0)\n",
    "DM_kmeansDF = pd.read_excel('/home/penglab/FeaCal/dataSource/denMor/DM_kmeansDF.xlsx', index_col=0)\n",
    "DM_dbscanDF = pd.read_excel('/home/penglab/FeaCal/dataSource/denMor/DM_dbscanDF.xlsx', index_col=0)\n",
    "\n",
    "\n",
    "DM_hdbscanDF = pd.read_excel('/home/penglab/FeaCal/dataSource/denMor/DM_hdbscanDF.xlsx', index_col=0)\n",
    "DM_snnDF = pd.read_excel('/home/penglab/FeaCal/dataSource/denMor/DM_snnDF.xlsx', index_col=0)"
   ]
  },
  {
   "cell_type": "markdown",
   "metadata": {},
   "source": []
  },
  {
   "cell_type": "markdown",
   "metadata": {},
   "source": [
    "## Set Color"
   ]
  },
  {
   "cell_type": "code",
   "execution_count": 3,
   "metadata": {},
   "outputs": [],
   "source": [
    "import seaborn as sns; sns.set()\n",
    "\n",
    "\n",
    "\n",
    "\n",
    "colorlist=[\"#7FC97F\",\"#BEAED4\",\"#FDC086\",\"#FFFF99\",\"#386CB0\",\"#F0027F\",\"#BF5B17\",\"#666666\",\"#1B9E77\",\"#D95F02\",\n",
    "           \"#7570B3\",\"#E7298A\",\"#66A61E\",\"#E6AB02\",\"#A6761D\",\"#666666\",\"#A6CEE3\",\"#1F78B4\",\"#B2DF8A\",\"#33A02C\",\n",
    "           \"#FB9A99\",\"#E31A1C\",\"#FDBF6F\",\"#FF7F00\",\"#CAB2D6\",\"#6A3D9A\",\"#FFFF99\",\"#B15928\",\"#FBB4AE\",\"#B3CDE3\",\n",
    "           \"#CCEBC5\",\"#DECBE4\",\"#FED9A6\",\"#FFFFCC\",\"#E5D8BD\",\"#FDDAEC\",\"#F2F2F2\",\"#B3E2CD\",\"#FDCDAC\",\"#CBD5E8\",\n",
    "           \"#F4CAE4\",\"#E6F5C9\",\"#FFF2AE\",\"#F1E2CC\",\"#CCCCCC\",\"#E41A1C\",\"#377EB8\",\"#4DAF4A\",\"#984EA3\",\"#FF7F00\",\n",
    "           \"#FFFF33\",\"#A65628\",\"#F781BF\",\"#999999\",\"#66C2A5\",\"#FC8D62\",\"#8DA0CB\",\"#E78AC3\",\"#A6D854\",\"#FFD92F\",\n",
    "           \"#E5C494\",\"#B3B3B3\",\"#8DD3C7\",\"#FFFFB3\",\"#BEBADA\",\"#FB8072\",\"#80B1D3\",\"#FDB462\",\"#B3DE69\",\"#FCCDE5\",\n",
    "           \"#D9D9D9\",\"#BC80BD\",\"#CCEBC5\"]\n",
    "lut = dict(zip(ns.metadata['CellType'].unique(), colorlist))\n",
    "row_colors = ns.metadata['CellType'].map(lut)\n",
    "row_colors[row_colors.isnull()]='white'"
   ]
  },
  {
   "cell_type": "markdown",
   "metadata": {},
   "source": [
    "# Plot cocluster "
   ]
  },
  {
   "cell_type": "code",
   "execution_count": 4,
   "metadata": {},
   "outputs": [],
   "source": [
    "\n",
    "from scipy.spatial import distance\n",
    "from scipy.cluster import hierarchy\n",
    "import numpy as np\n",
    "\n",
    "from scipy.cluster.hierarchy import linkage, dendrogram, fcluster,inconsistent\n",
    "#print the cocluster result\n",
    "#output the linkage matrix\n",
    "def bestCOCLUSTER(df):\n",
    "    linkmethod = ['single', 'complete','average','weighted','centroid','median','ward']\n",
    "    paraDF = pd.DataFrame(columns =['method','CCC'],index = linkmethod)\n",
    "    paraDF.loc[:,'method'] = linkmethod\n",
    "    \n",
    "    for iter_m in linkmethod:\n",
    "        Y = distance.pdist(np.asarray(df))\n",
    "        Z = hierarchy.linkage(Y, method = iter_m)\n",
    "        c, coph_dists = hierarchy.cophenet(Z,Y)\n",
    "        paraDF.loc[iter_m,'CCC'] = c\n",
    "    paraDF.sort_values(by='CCC', ascending = False, inplace = True)\n",
    "    #print(paraDF)\n",
    "    row_linkage = hierarchy.linkage(distance.pdist(np.asarray(df)), method = paraDF.iloc[0,0])\n",
    "\n",
    "    col_linkage = hierarchy.linkage(distance.pdist(np.asarray(df).T), method = paraDF.iloc[0,0])\n",
    "    #print(paraDF.iloc[0,0])\n",
    "    sns.clustermap(df, row_linkage = row_linkage, col_linkage = col_linkage, row_colors=row_colors ,col_colors = row_colors, figsize=(13, 13))#, cmap=sns.diverging_palette(h_neg=150, h_pos=275, s=80, l=55, as_cmap=True))    \n",
    "    return hierarchy.linkage(distance.pdist(np.asarray(df)))\n",
    "\n",
    "\n",
    "\n",
    "def coclusterResult(Z_sample):\n",
    "    t = input('Please input the number of cluster: ')\n",
    "    return fcluster(Z_sample,t,criterion='maxclust')"
   ]
  },
  {
   "cell_type": "markdown",
   "metadata": {},
   "source": [
    "## Set neuron_set.metadata['Cluster']"
   ]
  },
  {
   "cell_type": "markdown",
   "metadata": {},
   "source": [
    "From featureDF we can generate the corresponding UMAP, then we will use the coclustering result to perfrom fcluster, then set the ['cluster']result"
   ]
  },
  {
   "cell_type": "code",
   "execution_count": 5,
   "metadata": {},
   "outputs": [],
   "source": [
    "def getDuplicateColumns(df):\n",
    "    '''\n",
    "    Get a list of duplicate columns.\n",
    "    It will iterate over all the columns in dataframe and find the columns whose contents are duplicate.\n",
    "    :param df: Dataframe object\n",
    "    :return: List of columns whose contents are duplicates.\n",
    "    '''\n",
    "    duplicateColumnNames = set()\n",
    "    # Iterate over all the columns in dataframe\n",
    "    for x in range(df.shape[1]):\n",
    "        # Select column at xth index.\n",
    "        col = df.iloc[:, x]\n",
    "        # Iterate over all the columns in DataFrame from (x+1)th index till end\n",
    "        for y in range(x + 1, df.shape[1]):\n",
    "            # Select column at yth index.\n",
    "            otherCol = df.iloc[:, y]\n",
    "            # Check if two columns at x 7 y index are equal\n",
    "            if col.equals(otherCol):\n",
    "                duplicateColumnNames.add(df.columns.values[y])\n",
    " \n",
    "    return list(duplicateColumnNames)"
   ]
  },
  {
   "cell_type": "markdown",
   "metadata": {},
   "source": [
    "* scaleData is the dataframe containing features extracted from Vaa3D\n",
    "* Z_Sample is the condensed distance matrix from cocluster"
   ]
  },
  {
   "cell_type": "code",
   "execution_count": 6,
   "metadata": {},
   "outputs": [],
   "source": [
    "import pickle\n",
    "def generateNS(featureDF,ns_input,Z_sample,storePath,outname):\n",
    "    if featureDF.shape!= (0,0):\n",
    "        pickle_in = open(\"/home/penglab/FeaCal/ns.pickle\",\"rb\")\n",
    "        example_ = pickle.load(pickle_in)\n",
    "        ns_input= example_[0]\n",
    "\n",
    "        index_origin = ns_input.metadata.index.tolist()\n",
    "        ns_input.UMAP = nmt.UMAP_wrapper(featureDF, n_neighbors=100, min_dist=0.1, n_components=2, metric='euclidean',\n",
    "                                   PCA_first=True,n_PC=100)\n",
    "        index_after = ns_input.UMAP.index.tolist()\n",
    "        if len(index_after)>len(index_origin ):\n",
    "            index_update = [i for i in index_after if i in index_origin ]\n",
    "        else:\n",
    "            index_update = [i for i in index_origin if i in index_after ]\n",
    "        \n",
    "        ns_input.metadata = ns_input.metadata.loc[index_update,:]\n",
    "    cur_clusters = coclusterResult(Z_sample)\n",
    "    ns_input.metadata['Cluster'] = ['C' + str(i) for i in cur_clusters] \n",
    "    _ = ns_input.FeatureScatter([\"CellType\", \"Hemisphere\",\"Cluster\"], map=\"UMAP\")\n",
    "    return ns_input"
   ]
  },
  {
   "cell_type": "code",
   "execution_count": null,
   "metadata": {},
   "outputs": [],
   "source": [
    "Ztemp= bestCOCLUSTER(AP_hdbscanDF)\n",
    "generateNS(AP_hdbscanDF,ns,Ztemp,'/home/penglab/FeaCal/','AP_hdbscan_ns')"
   ]
  }
 ],
 "metadata": {
  "kernelspec": {
   "display_name": "Python 3",
   "language": "python",
   "name": "python3"
  },
  "language_info": {
   "codemirror_mode": {
    "name": "ipython",
    "version": 3
   },
   "file_extension": ".py",
   "mimetype": "text/x-python",
   "name": "python",
   "nbconvert_exporter": "python",
   "pygments_lexer": "ipython3",
   "version": "3.7.3"
  }
 },
 "nbformat": 4,
 "nbformat_minor": 2
}
